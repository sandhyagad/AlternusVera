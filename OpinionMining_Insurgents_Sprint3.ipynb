{
  "nbformat": 4,
  "nbformat_minor": 0,
  "metadata": {
    "colab": {
      "name": "OpinionMining_Insurgents-Sprint3.ipynb",
      "provenance": [],
      "collapsed_sections": [],
      "toc_visible": true,
      "include_colab_link": true
    },
    "kernelspec": {
      "name": "python3",
      "display_name": "Python 3"
    }
  },
  "cells": [
    {
      "cell_type": "markdown",
      "metadata": {
        "id": "view-in-github",
        "colab_type": "text"
      },
      "source": [
        "<a href=\"https://colab.research.google.com/github/sandhyagad/AlternusVera/blob/master/OpinionMining_Insurgents_Sprint3.ipynb\" target=\"_parent\"><img src=\"https://colab.research.google.com/assets/colab-badge.svg\" alt=\"Open In Colab\"/></a>"
      ]
    },
    {
      "cell_type": "markdown",
      "metadata": {
        "id": "ZWglgRM3yoXF",
        "colab_type": "text"
      },
      "source": [
        "# 1. Configuration of the System: \n",
        "\n",
        "\n",
        "\n",
        "\n",
        " **Notebook Location** The solution/collab notebook of my factor OPINION MINING can be found under : \n",
        "\n",
        " Github Link:\n",
        " \n",
        " Colab Link : https://colab.research.google.com/drive/1mOM0GidMd5erLuQpLI_JsO_qsO0e381C\n",
        "\n",
        "**Code structure:** I have placed the solution and displayed relevant tables and charts/graphs after every algorithm /methodology implementation.\n",
        "\n",
        "\n",
        "**Dataset can be found under the folder :** \n",
        "https://drive.google.com/open?id=1LmgezyFPNxzsPwBadQyOnjoHsR-dxq8C\n",
        "\n",
        "\n",
        "\n",
        "Dataset Source :\n",
        "\n",
        "https://www.cs.ucsb.edu/~william/data/liar_dataset.zip\n",
        "\n",
        "Dataset Location:\n",
        "\n",
        "https://drive.google.com/open?id=1S70qVBSaerLJqu5rjA1RP_3gTLSJ-kj5\n",
        "\n",
        "\n"
      ]
    },
    {
      "cell_type": "markdown",
      "metadata": {
        "id": "mhwtpUFG1X9e",
        "colab_type": "text"
      },
      "source": [
        "2. Data Collection : initial Data Set\n",
        "3. 3.\tSet Data Narrative : Set Business Objectives, what use case are you solving for"
      ]
    },
    {
      "cell_type": "markdown",
      "metadata": {
        "id": "fnP_h2EmkkVl",
        "colab_type": "text"
      },
      "source": [
        "\n",
        "**Opinion Mining on customer review Dataset:**\n",
        "\n",
        "Below is the cumulative implementation of Opinion mining factor. I have implemeneted Opinion mining on Liar Liar Data set separately to study the dataset that helps to decide how to amalgamate the dataset with Amazon reviews datasetr.\n",
        "\n",
        "I have also finetuning of parameters to increase the efficiency of the algorithms as an enhancement to amazon reviews dataset.\n"
      ]
    },
    {
      "cell_type": "markdown",
      "metadata": {
        "id": "xXRzcx9duLtx",
        "colab_type": "text"
      },
      "source": [
        "**Importing the required Libraries**"
      ]
    },
    {
      "cell_type": "code",
      "metadata": {
        "id": "FGVTPpkTS1i4",
        "colab_type": "code",
        "colab": {}
      },
      "source": [
        "# importing packages\n",
        "import pandas as pd \n",
        "import numpy as np                     # For mathematical calculations \n",
        "import seaborn as sns                  # For data visualization \n",
        "import matplotlib.pyplot as plt        # For plotting graphs \n",
        "%matplotlib inline \n",
        "import warnings  \n",
        "\n",
        "# import warnings filter\n",
        "from warnings import simplefilter\n",
        "# ignore all future warnings\n",
        "simplefilter(action='ignore', category=FutureWarning)\n",
        "\n",
        "import warnings\n",
        "import nltk.sentiment\n",
        "warnings.filterwarnings('ignore')\n",
        "##################\n",
        "import seaborn as sns\n",
        "from sklearn.preprocessing import MinMaxScaler\n",
        "#from sklearn.cross_validation import data_test_split\n",
        "from sklearn.model_selection import train_test_split\n",
        "from wordcloud import WordCloud\n",
        "import seaborn as sns\n",
        "from nltk.corpus import stopwords\n",
        "from nltk.stem import WordNetLemmatizer\n",
        "from nltk.tokenize import word_tokenize\n",
        "from sklearn.neighbors import KNeighborsClassifier\n",
        "from sklearn.metrics import f1_score\n",
        "from sklearn.feature_extraction.text import TfidfVectorizer, CountVectorizer\n",
        "from nltk.stem.porter import PorterStemmer\n",
        "from sklearn.model_selection import cross_val_score\n",
        "import nltk\n",
        "import re\n",
        "import codecs\n",
        "from sklearn.preprocessing import LabelEncoder, OneHotEncoder\n",
        "#from sklearn.cross_validation import train_test_split\n",
        "from sklearn.neighbors import KNeighborsClassifier\n",
        "from sklearn.metrics import f1_score"
      ],
      "execution_count": 0,
      "outputs": []
    },
    {
      "cell_type": "markdown",
      "metadata": {
        "id": "x9N03I_3BG2C",
        "colab_type": "text"
      },
      "source": [
        "**Mounting the drive on the google**"
      ]
    },
    {
      "cell_type": "code",
      "metadata": {
        "id": "iAZfyc3ZTLpm",
        "colab_type": "code",
        "outputId": "3a101bcb-d9bd-45ec-c5f7-defd5f57b51c",
        "colab": {
          "base_uri": "https://localhost:8080/",
          "height": 34
        }
      },
      "source": [
        "from google.colab import drive\n",
        "drive.mount('/content/drive')"
      ],
      "execution_count": 0,
      "outputs": [
        {
          "output_type": "stream",
          "text": [
            "Drive already mounted at /content/drive; to attempt to forcibly remount, call drive.mount(\"/content/drive\", force_remount=True).\n"
          ],
          "name": "stdout"
        }
      ]
    },
    {
      "cell_type": "markdown",
      "metadata": {
        "id": "dBPrQAbABNIz",
        "colab_type": "text"
      },
      "source": [
        "**Reading the data from the file**"
      ]
    },
    {
      "cell_type": "code",
      "metadata": {
        "id": "vwJmO1TKTXjF",
        "colab_type": "code",
        "outputId": "d7fbb515-63c5-4aab-ef22-192e04656a73",
        "colab": {
          "base_uri": "https://localhost:8080/",
          "height": 734
        }
      },
      "source": [
        "df=pd.read_csv('../content/drive/My Drive/AlternusVeraDataSets2019/Insurgents/Sandhya/1429_1.csv')\n",
        "df.head()"
      ],
      "execution_count": 0,
      "outputs": [
        {
          "output_type": "execute_result",
          "data": {
            "text/html": [
              "<div>\n",
              "<style scoped>\n",
              "    .dataframe tbody tr th:only-of-type {\n",
              "        vertical-align: middle;\n",
              "    }\n",
              "\n",
              "    .dataframe tbody tr th {\n",
              "        vertical-align: top;\n",
              "    }\n",
              "\n",
              "    .dataframe thead th {\n",
              "        text-align: right;\n",
              "    }\n",
              "</style>\n",
              "<table border=\"1\" class=\"dataframe\">\n",
              "  <thead>\n",
              "    <tr style=\"text-align: right;\">\n",
              "      <th></th>\n",
              "      <th>id</th>\n",
              "      <th>name</th>\n",
              "      <th>asins</th>\n",
              "      <th>brand</th>\n",
              "      <th>categories</th>\n",
              "      <th>keys</th>\n",
              "      <th>manufacturer</th>\n",
              "      <th>reviews.date</th>\n",
              "      <th>reviews.dateAdded</th>\n",
              "      <th>reviews.dateSeen</th>\n",
              "      <th>reviews.didPurchase</th>\n",
              "      <th>reviews.doRecommend</th>\n",
              "      <th>reviews.id</th>\n",
              "      <th>reviews.numHelpful</th>\n",
              "      <th>reviews.rating</th>\n",
              "      <th>reviews.sourceURLs</th>\n",
              "      <th>reviews.text</th>\n",
              "      <th>reviews.title</th>\n",
              "      <th>reviews.userCity</th>\n",
              "      <th>reviews.userProvince</th>\n",
              "      <th>reviews.username</th>\n",
              "    </tr>\n",
              "  </thead>\n",
              "  <tbody>\n",
              "    <tr>\n",
              "      <th>0</th>\n",
              "      <td>AVqkIhwDv8e3D1O-lebb</td>\n",
              "      <td>All-New Fire HD 8 Tablet, 8 HD Display, Wi-Fi,...</td>\n",
              "      <td>B01AHB9CN2</td>\n",
              "      <td>Amazon</td>\n",
              "      <td>Electronics,iPad &amp; Tablets,All Tablets,Fire Ta...</td>\n",
              "      <td>841667104676,amazon/53004484,amazon/b01ahb9cn2...</td>\n",
              "      <td>Amazon</td>\n",
              "      <td>2017-01-13T00:00:00.000Z</td>\n",
              "      <td>2017-07-03T23:33:15Z</td>\n",
              "      <td>2017-06-07T09:04:00.000Z,2017-04-30T00:45:00.000Z</td>\n",
              "      <td>NaN</td>\n",
              "      <td>True</td>\n",
              "      <td>NaN</td>\n",
              "      <td>0.0</td>\n",
              "      <td>5.0</td>\n",
              "      <td>http://reviews.bestbuy.com/3545/5620406/review...</td>\n",
              "      <td>This product so far has not disappointed. My c...</td>\n",
              "      <td>Kindle</td>\n",
              "      <td>NaN</td>\n",
              "      <td>NaN</td>\n",
              "      <td>Adapter</td>\n",
              "    </tr>\n",
              "    <tr>\n",
              "      <th>1</th>\n",
              "      <td>AVqkIhwDv8e3D1O-lebb</td>\n",
              "      <td>All-New Fire HD 8 Tablet, 8 HD Display, Wi-Fi,...</td>\n",
              "      <td>B01AHB9CN2</td>\n",
              "      <td>Amazon</td>\n",
              "      <td>Electronics,iPad &amp; Tablets,All Tablets,Fire Ta...</td>\n",
              "      <td>841667104676,amazon/53004484,amazon/b01ahb9cn2...</td>\n",
              "      <td>Amazon</td>\n",
              "      <td>2017-01-13T00:00:00.000Z</td>\n",
              "      <td>2017-07-03T23:33:15Z</td>\n",
              "      <td>2017-06-07T09:04:00.000Z,2017-04-30T00:45:00.000Z</td>\n",
              "      <td>NaN</td>\n",
              "      <td>True</td>\n",
              "      <td>NaN</td>\n",
              "      <td>0.0</td>\n",
              "      <td>5.0</td>\n",
              "      <td>http://reviews.bestbuy.com/3545/5620406/review...</td>\n",
              "      <td>great for beginner or experienced person. Boug...</td>\n",
              "      <td>very fast</td>\n",
              "      <td>NaN</td>\n",
              "      <td>NaN</td>\n",
              "      <td>truman</td>\n",
              "    </tr>\n",
              "    <tr>\n",
              "      <th>2</th>\n",
              "      <td>AVqkIhwDv8e3D1O-lebb</td>\n",
              "      <td>All-New Fire HD 8 Tablet, 8 HD Display, Wi-Fi,...</td>\n",
              "      <td>B01AHB9CN2</td>\n",
              "      <td>Amazon</td>\n",
              "      <td>Electronics,iPad &amp; Tablets,All Tablets,Fire Ta...</td>\n",
              "      <td>841667104676,amazon/53004484,amazon/b01ahb9cn2...</td>\n",
              "      <td>Amazon</td>\n",
              "      <td>2017-01-13T00:00:00.000Z</td>\n",
              "      <td>2017-07-03T23:33:15Z</td>\n",
              "      <td>2017-06-07T09:04:00.000Z,2017-04-30T00:45:00.000Z</td>\n",
              "      <td>NaN</td>\n",
              "      <td>True</td>\n",
              "      <td>NaN</td>\n",
              "      <td>0.0</td>\n",
              "      <td>5.0</td>\n",
              "      <td>http://reviews.bestbuy.com/3545/5620406/review...</td>\n",
              "      <td>Inexpensive tablet for him to use and learn on...</td>\n",
              "      <td>Beginner tablet for our 9 year old son.</td>\n",
              "      <td>NaN</td>\n",
              "      <td>NaN</td>\n",
              "      <td>DaveZ</td>\n",
              "    </tr>\n",
              "    <tr>\n",
              "      <th>3</th>\n",
              "      <td>AVqkIhwDv8e3D1O-lebb</td>\n",
              "      <td>All-New Fire HD 8 Tablet, 8 HD Display, Wi-Fi,...</td>\n",
              "      <td>B01AHB9CN2</td>\n",
              "      <td>Amazon</td>\n",
              "      <td>Electronics,iPad &amp; Tablets,All Tablets,Fire Ta...</td>\n",
              "      <td>841667104676,amazon/53004484,amazon/b01ahb9cn2...</td>\n",
              "      <td>Amazon</td>\n",
              "      <td>2017-01-13T00:00:00.000Z</td>\n",
              "      <td>2017-07-03T23:33:15Z</td>\n",
              "      <td>2017-06-07T09:04:00.000Z,2017-04-30T00:45:00.000Z</td>\n",
              "      <td>NaN</td>\n",
              "      <td>True</td>\n",
              "      <td>NaN</td>\n",
              "      <td>0.0</td>\n",
              "      <td>4.0</td>\n",
              "      <td>http://reviews.bestbuy.com/3545/5620406/review...</td>\n",
              "      <td>I've had my Fire HD 8 two weeks now and I love...</td>\n",
              "      <td>Good!!!</td>\n",
              "      <td>NaN</td>\n",
              "      <td>NaN</td>\n",
              "      <td>Shacks</td>\n",
              "    </tr>\n",
              "    <tr>\n",
              "      <th>4</th>\n",
              "      <td>AVqkIhwDv8e3D1O-lebb</td>\n",
              "      <td>All-New Fire HD 8 Tablet, 8 HD Display, Wi-Fi,...</td>\n",
              "      <td>B01AHB9CN2</td>\n",
              "      <td>Amazon</td>\n",
              "      <td>Electronics,iPad &amp; Tablets,All Tablets,Fire Ta...</td>\n",
              "      <td>841667104676,amazon/53004484,amazon/b01ahb9cn2...</td>\n",
              "      <td>Amazon</td>\n",
              "      <td>2017-01-12T00:00:00.000Z</td>\n",
              "      <td>2017-07-03T23:33:15Z</td>\n",
              "      <td>2017-06-07T09:04:00.000Z,2017-04-30T00:45:00.000Z</td>\n",
              "      <td>NaN</td>\n",
              "      <td>True</td>\n",
              "      <td>NaN</td>\n",
              "      <td>0.0</td>\n",
              "      <td>5.0</td>\n",
              "      <td>http://reviews.bestbuy.com/3545/5620406/review...</td>\n",
              "      <td>I bought this for my grand daughter when she c...</td>\n",
              "      <td>Fantastic Tablet for kids</td>\n",
              "      <td>NaN</td>\n",
              "      <td>NaN</td>\n",
              "      <td>explore42</td>\n",
              "    </tr>\n",
              "  </tbody>\n",
              "</table>\n",
              "</div>"
            ],
            "text/plain": [
              "                     id  ... reviews.username\n",
              "0  AVqkIhwDv8e3D1O-lebb  ...          Adapter\n",
              "1  AVqkIhwDv8e3D1O-lebb  ...           truman\n",
              "2  AVqkIhwDv8e3D1O-lebb  ...            DaveZ\n",
              "3  AVqkIhwDv8e3D1O-lebb  ...           Shacks\n",
              "4  AVqkIhwDv8e3D1O-lebb  ...        explore42\n",
              "\n",
              "[5 rows x 21 columns]"
            ]
          },
          "metadata": {
            "tags": []
          },
          "execution_count": 179
        }
      ]
    },
    {
      "cell_type": "code",
      "metadata": {
        "id": "eWAAa5-PTfCF",
        "colab_type": "code",
        "outputId": "8b992ea8-02dc-4b54-8636-a6516f3361ce",
        "colab": {
          "base_uri": "https://localhost:8080/",
          "height": 459
        }
      },
      "source": [
        "df.info()"
      ],
      "execution_count": 0,
      "outputs": [
        {
          "output_type": "stream",
          "text": [
            "<class 'pandas.core.frame.DataFrame'>\n",
            "RangeIndex: 34660 entries, 0 to 34659\n",
            "Data columns (total 21 columns):\n",
            "id                      34660 non-null object\n",
            "name                    27900 non-null object\n",
            "asins                   34658 non-null object\n",
            "brand                   34660 non-null object\n",
            "categories              34660 non-null object\n",
            "keys                    34660 non-null object\n",
            "manufacturer            34660 non-null object\n",
            "reviews.date            34621 non-null object\n",
            "reviews.dateAdded       24039 non-null object\n",
            "reviews.dateSeen        34660 non-null object\n",
            "reviews.didPurchase     1 non-null object\n",
            "reviews.doRecommend     34066 non-null object\n",
            "reviews.id              1 non-null float64\n",
            "reviews.numHelpful      34131 non-null float64\n",
            "reviews.rating          34627 non-null float64\n",
            "reviews.sourceURLs      34660 non-null object\n",
            "reviews.text            34659 non-null object\n",
            "reviews.title           34655 non-null object\n",
            "reviews.userCity        0 non-null float64\n",
            "reviews.userProvince    0 non-null float64\n",
            "reviews.username        34658 non-null object\n",
            "dtypes: float64(5), object(16)\n",
            "memory usage: 5.6+ MB\n"
          ],
          "name": "stdout"
        }
      ]
    },
    {
      "cell_type": "code",
      "metadata": {
        "id": "1BMAlmJNTxdU",
        "colab_type": "code",
        "colab": {}
      },
      "source": [
        "data = df[[\"id\",\"reviews.text\",\"reviews.rating\"]]"
      ],
      "execution_count": 0,
      "outputs": []
    },
    {
      "cell_type": "code",
      "metadata": {
        "id": "r3FATqGXT0X2",
        "colab_type": "code",
        "outputId": "cb9e2387-d159-4e29-df2c-2777cabf14a7",
        "colab": {
          "base_uri": "https://localhost:8080/",
          "height": 204
        }
      },
      "source": [
        "data.head() "
      ],
      "execution_count": 0,
      "outputs": [
        {
          "output_type": "execute_result",
          "data": {
            "text/html": [
              "<div>\n",
              "<style scoped>\n",
              "    .dataframe tbody tr th:only-of-type {\n",
              "        vertical-align: middle;\n",
              "    }\n",
              "\n",
              "    .dataframe tbody tr th {\n",
              "        vertical-align: top;\n",
              "    }\n",
              "\n",
              "    .dataframe thead th {\n",
              "        text-align: right;\n",
              "    }\n",
              "</style>\n",
              "<table border=\"1\" class=\"dataframe\">\n",
              "  <thead>\n",
              "    <tr style=\"text-align: right;\">\n",
              "      <th></th>\n",
              "      <th>id</th>\n",
              "      <th>reviews.text</th>\n",
              "      <th>reviews.rating</th>\n",
              "    </tr>\n",
              "  </thead>\n",
              "  <tbody>\n",
              "    <tr>\n",
              "      <th>0</th>\n",
              "      <td>AVqkIhwDv8e3D1O-lebb</td>\n",
              "      <td>This product so far has not disappointed. My c...</td>\n",
              "      <td>5.0</td>\n",
              "    </tr>\n",
              "    <tr>\n",
              "      <th>1</th>\n",
              "      <td>AVqkIhwDv8e3D1O-lebb</td>\n",
              "      <td>great for beginner or experienced person. Boug...</td>\n",
              "      <td>5.0</td>\n",
              "    </tr>\n",
              "    <tr>\n",
              "      <th>2</th>\n",
              "      <td>AVqkIhwDv8e3D1O-lebb</td>\n",
              "      <td>Inexpensive tablet for him to use and learn on...</td>\n",
              "      <td>5.0</td>\n",
              "    </tr>\n",
              "    <tr>\n",
              "      <th>3</th>\n",
              "      <td>AVqkIhwDv8e3D1O-lebb</td>\n",
              "      <td>I've had my Fire HD 8 two weeks now and I love...</td>\n",
              "      <td>4.0</td>\n",
              "    </tr>\n",
              "    <tr>\n",
              "      <th>4</th>\n",
              "      <td>AVqkIhwDv8e3D1O-lebb</td>\n",
              "      <td>I bought this for my grand daughter when she c...</td>\n",
              "      <td>5.0</td>\n",
              "    </tr>\n",
              "  </tbody>\n",
              "</table>\n",
              "</div>"
            ],
            "text/plain": [
              "                     id  ... reviews.rating\n",
              "0  AVqkIhwDv8e3D1O-lebb  ...            5.0\n",
              "1  AVqkIhwDv8e3D1O-lebb  ...            5.0\n",
              "2  AVqkIhwDv8e3D1O-lebb  ...            5.0\n",
              "3  AVqkIhwDv8e3D1O-lebb  ...            4.0\n",
              "4  AVqkIhwDv8e3D1O-lebb  ...            5.0\n",
              "\n",
              "[5 rows x 3 columns]"
            ]
          },
          "metadata": {
            "tags": []
          },
          "execution_count": 182
        }
      ]
    },
    {
      "cell_type": "code",
      "metadata": {
        "id": "3bHtV8PyT0QH",
        "colab_type": "code",
        "outputId": "b53e6af1-ed79-44f9-d5a4-8c68a75c74e0",
        "colab": {
          "base_uri": "https://localhost:8080/",
          "height": 173
        }
      },
      "source": [
        "data.describe(include=[\"O\"])"
      ],
      "execution_count": 0,
      "outputs": [
        {
          "output_type": "execute_result",
          "data": {
            "text/html": [
              "<div>\n",
              "<style scoped>\n",
              "    .dataframe tbody tr th:only-of-type {\n",
              "        vertical-align: middle;\n",
              "    }\n",
              "\n",
              "    .dataframe tbody tr th {\n",
              "        vertical-align: top;\n",
              "    }\n",
              "\n",
              "    .dataframe thead th {\n",
              "        text-align: right;\n",
              "    }\n",
              "</style>\n",
              "<table border=\"1\" class=\"dataframe\">\n",
              "  <thead>\n",
              "    <tr style=\"text-align: right;\">\n",
              "      <th></th>\n",
              "      <th>id</th>\n",
              "      <th>reviews.text</th>\n",
              "    </tr>\n",
              "  </thead>\n",
              "  <tbody>\n",
              "    <tr>\n",
              "      <th>count</th>\n",
              "      <td>34660</td>\n",
              "      <td>34659</td>\n",
              "    </tr>\n",
              "    <tr>\n",
              "      <th>unique</th>\n",
              "      <td>42</td>\n",
              "      <td>34659</td>\n",
              "    </tr>\n",
              "    <tr>\n",
              "      <th>top</th>\n",
              "      <td>AVphgVaX1cnluZ0-DR74</td>\n",
              "      <td>My kids really like this tablet. It's easy to ...</td>\n",
              "    </tr>\n",
              "    <tr>\n",
              "      <th>freq</th>\n",
              "      <td>10966</td>\n",
              "      <td>1</td>\n",
              "    </tr>\n",
              "  </tbody>\n",
              "</table>\n",
              "</div>"
            ],
            "text/plain": [
              "                          id                                       reviews.text\n",
              "count                  34660                                              34659\n",
              "unique                    42                                              34659\n",
              "top     AVphgVaX1cnluZ0-DR74  My kids really like this tablet. It's easy to ...\n",
              "freq                   10966                                                  1"
            ]
          },
          "metadata": {
            "tags": []
          },
          "execution_count": 183
        }
      ]
    },
    {
      "cell_type": "code",
      "metadata": {
        "id": "OQ6vD_akT5pu",
        "colab_type": "code",
        "outputId": "fe37f079-ebf8-4f87-d4c2-38c993956093",
        "colab": {
          "base_uri": "https://localhost:8080/",
          "height": 153
        }
      },
      "source": [
        "data.info()"
      ],
      "execution_count": 0,
      "outputs": [
        {
          "output_type": "stream",
          "text": [
            "<class 'pandas.core.frame.DataFrame'>\n",
            "RangeIndex: 34660 entries, 0 to 34659\n",
            "Data columns (total 3 columns):\n",
            "id                34660 non-null object\n",
            "reviews.text      34659 non-null object\n",
            "reviews.rating    34627 non-null float64\n",
            "dtypes: float64(1), object(2)\n",
            "memory usage: 812.5+ KB\n"
          ],
          "name": "stdout"
        }
      ]
    },
    {
      "cell_type": "markdown",
      "metadata": {
        "id": "mFiUtTxaT92T",
        "colab_type": "text"
      },
      "source": [
        "We notoiced review.text is missing, hence no analysis can be done on this sample. So we remove it. Furthermore, there are 32 missing values for the ratings. Due to the low number of missing values in the rating column it is possible to substitute the NaN with the mean of the others or we could simply remove those samples. Since we would have many samples anyway they can be simply removed."
      ]
    },
    {
      "cell_type": "code",
      "metadata": {
        "id": "5XWdDEI0T-xJ",
        "colab_type": "code",
        "colab": {}
      },
      "source": [
        "data = data.dropna()"
      ],
      "execution_count": 0,
      "outputs": []
    },
    {
      "cell_type": "markdown",
      "metadata": {
        "id": "Fxn1RBCPUDBb",
        "colab_type": "text"
      },
      "source": [
        "**Exploratory Data Analysis**\n",
        "\n",
        "In this step, the most common words used in the text reviews using a word cloud is verified. Found that there were words that have no importance with the sentiment of the comment, such as: use, device, time etc\n"
      ]
    },
    {
      "cell_type": "code",
      "metadata": {
        "id": "fjL9kS22UCo-",
        "colab_type": "code",
        "outputId": "ae35a780-7ebd-4ec6-dcc7-04436fa4db88",
        "colab": {
          "base_uri": "https://localhost:8080/",
          "height": 297
        }
      },
      "source": [
        "rt = data['reviews.text']\n",
        "wordcloud = WordCloud(background_color='white',\n",
        "                      width=1000,\n",
        "                      height=400\n",
        "                     ).generate(\" \".join(rt))\n",
        "plt.figure(figsize=(10,5))\n",
        "plt.imshow(wordcloud)\n",
        "plt.title('All Words appeared the Reviews\\n',size=20)\n",
        "plt.axis('off')\n",
        "plt.show()"
      ],
      "execution_count": 0,
      "outputs": [
        {
          "output_type": "display_data",
          "data": {
            "image/png": "[encoded data removed]",
            "text/plain": [
              "<Figure size 720x360 with 1 Axes>"
            ]
          },
          "metadata": {
            "tags": []
          }
        }
      ]
    },
    {
      "cell_type": "markdown",
      "metadata": {
        "id": "6d83NEwYUeOE",
        "colab_type": "text"
      },
      "source": [
        "\n",
        "In this step, word count of certain words that could describe the sentiment in a better way is calculated. Most of the comments looked positive. \n",
        "\n"
      ]
    },
    {
      "cell_type": "code",
      "metadata": {
        "id": "Uf4AlqMXUgLJ",
        "colab_type": "code",
        "colab": {}
      },
      "source": [
        "words = ['awesome','great','fantastic','extraordinary','amazing','super',\n",
        "                 'magnificent','stunning','impressive','wonderful','breathtaking',\n",
        "                 'love','content','pleased','happy','glad','satisfied','lucky',\n",
        "                 'shocking','cheerful','wow','sad','unhappy','horrible','regret',\n",
        "                 'bad','terrible','annoyed','disappointed','upset','awful','hate']\n",
        "\n",
        "rt = \" \".join(data['reviews.text'])"
      ],
      "execution_count": 0,
      "outputs": []
    },
    {
      "cell_type": "code",
      "metadata": {
        "id": "R7jN2IJ8UjzF",
        "colab_type": "code",
        "colab": {}
      },
      "source": [
        "diz = {}\n",
        "for word in rt.split(\" \"):\n",
        "    if word in words:\n",
        "        diz[word] = diz.get(word,0)+1"
      ],
      "execution_count": 0,
      "outputs": []
    },
    {
      "cell_type": "code",
      "metadata": {
        "id": "5yQ5PPCGUmXI",
        "colab_type": "code",
        "outputId": "490ccbbd-7b93-4b10-916c-027f9c8af241",
        "colab": {
          "base_uri": "https://localhost:8080/",
          "height": 297
        }
      },
      "source": [
        "wordcloud = WordCloud(background_color='white',\n",
        "                      width=1000,\n",
        "                      height=400\n",
        "                     ).generate_from_frequencies(diz)\n",
        "plt.figure(figsize=(10,5))\n",
        "plt.imshow(wordcloud)\n",
        "plt.title('Words with some emotion or opinion\\n',size=20)\n",
        "plt.axis('off')\n",
        "plt.show()"
      ],
      "execution_count": 0,
      "outputs": [
        {
          "output_type": "display_data",
          "data": {
            "image/png": "[encoded data removed]",
            "text/plain": [
              "<Figure size 720x360 with 1 Axes>"
            ]
          },
          "metadata": {
            "tags": []
          }
        }
      ]
    },
    {
      "cell_type": "markdown",
      "metadata": {
        "id": "Sp29GohlUu3l",
        "colab_type": "text"
      },
      "source": [
        "Proceeding further, the average rating for every product is calculated. For this purpose, the ID of the data frame is used to represent the different products.\n",
        "\n",
        "We noticed that the reviews are heavily biased towards positive reviews. 4 and 5 ratings are extremely high, and the averages are all above 3. To try and balance things out and tried to oversample the lower rating reviews. Hence uploaded the other two csv files and get only the reviews that have ratings lower or equal to 3. \n"
      ]
    },
    {
      "cell_type": "code",
      "metadata": {
        "id": "pnoBDX-aUuoM",
        "colab_type": "code",
        "outputId": "bbd9661c-bef4-41bb-ffb2-8c4d167605e3",
        "colab": {
          "base_uri": "https://localhost:8080/",
          "height": 350
        }
      },
      "source": [
        "plt.figure(figsize=(10,5))\n",
        "sns.countplot(data['reviews.rating'])\n",
        "plt.title('Count ratings')\n",
        "plt.show()"
      ],
      "execution_count": 0,
      "outputs": [
        {
          "output_type": "display_data",
          "data": {
            "image/png": "[encoded data removed]",
            "text/plain": [
              "<Figure size 720x360 with 1 Axes>"
            ]
          },
          "metadata": {
            "tags": []
          }
        }
      ]
    },
    {
      "cell_type": "code",
      "metadata": {
        "id": "9E5EoGZOU1pV",
        "colab_type": "code",
        "colab": {}
      },
      "source": [
        "data1 = data.groupby(\"id\").mean().reset_index()"
      ],
      "execution_count": 0,
      "outputs": []
    },
    {
      "cell_type": "code",
      "metadata": {
        "id": "QpoZg7ViU3ak",
        "colab_type": "code",
        "colab": {}
      },
      "source": [
        "data1 = data1.sort_values(['reviews.rating']).reset_index()"
      ],
      "execution_count": 0,
      "outputs": []
    },
    {
      "cell_type": "code",
      "metadata": {
        "id": "vIjSk524U5xt",
        "colab_type": "code",
        "outputId": "ed02503c-1b58-40ad-d983-bd855b665b67",
        "colab": {
          "base_uri": "https://localhost:8080/",
          "height": 513
        }
      },
      "source": [
        "plt.figure(figsize=(10,8))\n",
        "sns.barplot(x=data1[\"reviews.rating\"], y=data1[\"id\"])\n",
        "plt.title('Count ratings')\n",
        "plt.show()"
      ],
      "execution_count": 0,
      "outputs": [
        {
          "output_type": "display_data",
          "data": {
            "image/png": "[encoded data removed]",
            "text/plain": [
              "<Figure size 720x576 with 1 Axes>"
            ]
          },
          "metadata": {
            "tags": []
          }
        }
      ]
    },
    {
      "cell_type": "markdown",
      "metadata": {
        "id": "Nl66sz-7U-nj",
        "colab_type": "text"
      },
      "source": [
        "We can clearly see how the reviews are heavily biased towards positive reviews. 4 and 5 ratings are extremely high and the averages are all above 3. To try and balance things out I will upload the other two csv files and get only the reviews that have ratings lower or equal to 3. So we are trying to oversample the lower rating reviews."
      ]
    },
    {
      "cell_type": "code",
      "metadata": {
        "id": "GV_9Q3fjVAzX",
        "colab_type": "code",
        "colab": {}
      },
      "source": [
        "df2 = pd.read_csv(\"/content/drive/My Drive/AlternusVeraDataSets2019/Insurgents/Sandhya/Datafiniti_Amazon_Consumer_Reviews_of_Amazon_Products_May19.csv\")\n",
        "df3 = pd.read_csv(\"/content/drive/My Drive/AlternusVeraDataSets2019/Insurgents/Sandhya/Datafiniti_Amazon_Consumer_Reviews_of_Amazon_Products.csv\")\n"
      ],
      "execution_count": 0,
      "outputs": []
    },
    {
      "cell_type": "code",
      "metadata": {
        "id": "cdHtXAeaXDb9",
        "colab_type": "code",
        "colab": {}
      },
      "source": [
        "data2 = df2[[\"id\",\"reviews.text\",\"reviews.rating\"]]\n",
        "data3 = df3[[\"id\",\"reviews.text\",\"reviews.rating\"]]"
      ],
      "execution_count": 0,
      "outputs": []
    },
    {
      "cell_type": "code",
      "metadata": {
        "id": "_JWHfiBDXXVx",
        "colab_type": "code",
        "colab": {}
      },
      "source": [
        "data2 = data2[data2[\"reviews.rating\"]<=3]\n",
        "data3 = data3[data3[\"reviews.rating\"]<=3]"
      ],
      "execution_count": 0,
      "outputs": []
    },
    {
      "cell_type": "code",
      "metadata": {
        "id": "iiMz40soXfon",
        "colab_type": "code",
        "outputId": "e1007f21-a708-4f59-bac5-1a8b084222bb",
        "colab": {
          "base_uri": "https://localhost:8080/",
          "height": 34
        }
      },
      "source": [
        "len(data2), len(data3)"
      ],
      "execution_count": 0,
      "outputs": [
        {
          "output_type": "execute_result",
          "data": {
            "text/plain": [
              "(2787, 314)"
            ]
          },
          "metadata": {
            "tags": []
          },
          "execution_count": 197
        }
      ]
    },
    {
      "cell_type": "code",
      "metadata": {
        "id": "Ciadl4_dXgnV",
        "colab_type": "code",
        "outputId": "0a52daef-0bcb-422b-9168-55be62ba204b",
        "colab": {
          "base_uri": "https://localhost:8080/",
          "height": 350
        }
      },
      "source": [
        "plt.figure(figsize=(10,5))\n",
        "sns.countplot(data2['reviews.rating'])\n",
        "plt.title('Count ratings')\n",
        "plt.show()"
      ],
      "execution_count": 0,
      "outputs": [
        {
          "output_type": "display_data",
          "data": {
            "image/png": "[encoded data removed]",
            "text/plain": [
              "<Figure size 720x360 with 1 Axes>"
            ]
          },
          "metadata": {
            "tags": []
          }
        }
      ]
    },
    {
      "cell_type": "code",
      "metadata": {
        "id": "5Ld1tN43XkgG",
        "colab_type": "code",
        "outputId": "5aa3d283-2521-4b33-bbac-8ad295781ec5",
        "colab": {
          "base_uri": "https://localhost:8080/",
          "height": 350
        }
      },
      "source": [
        "plt.figure(figsize=(10,5))\n",
        "sns.countplot(data3['reviews.rating'])\n",
        "plt.title('Count ratings')\n",
        "plt.show()"
      ],
      "execution_count": 0,
      "outputs": [
        {
          "output_type": "display_data",
          "data": {
            "image/png": "[encoded data removed]",
            "text/plain": [
              "<Figure size 720x360 with 1 Axes>"
            ]
          },
          "metadata": {
            "tags": []
          }
        }
      ]
    },
    {
      "cell_type": "markdown",
      "metadata": {
        "id": "L2VO3608XtCn",
        "colab_type": "text"
      },
      "source": [
        "Now that all three datasets are available ,concatenate them together."
      ]
    },
    {
      "cell_type": "code",
      "metadata": {
        "id": "QpryPJtqXvBJ",
        "colab_type": "code",
        "colab": {}
      },
      "source": [
        "frames = [data, data2, data3]\n",
        "final = pd.concat(frames)"
      ],
      "execution_count": 0,
      "outputs": []
    },
    {
      "cell_type": "markdown",
      "metadata": {
        "id": "g16gNvomXzTz",
        "colab_type": "text"
      },
      "source": [
        "Verifying if the data is a little bit less biased\n"
      ]
    },
    {
      "cell_type": "code",
      "metadata": {
        "id": "CZfZCEBvX1uD",
        "colab_type": "code",
        "outputId": "d9a578c1-f43b-4ca3-f17c-ac4fbb0e6af8",
        "colab": {
          "base_uri": "https://localhost:8080/",
          "height": 350
        }
      },
      "source": [
        "plt.figure(figsize=(10,5))\n",
        "sns.countplot(final['reviews.rating'])\n",
        "plt.title('Count ratings')\n",
        "plt.show()"
      ],
      "execution_count": 0,
      "outputs": [
        {
          "output_type": "display_data",
          "data": {
            "image/png": "[encoded data removed]",
            "text/plain": [
              "<Figure size 720x360 with 1 Axes>"
            ]
          },
          "metadata": {
            "tags": []
          }
        }
      ]
    },
    {
      "cell_type": "markdown",
      "metadata": {
        "id": "3EQmhggVX4Dm",
        "colab_type": "text"
      },
      "source": [
        "\n",
        "\n",
        "The situation hasn't improved a lot but hopefully it will make a difference when training the model later on. A further approach could be to undersample the positive reviews.\n"
      ]
    },
    {
      "cell_type": "code",
      "metadata": {
        "id": "rRZDmyArX5tP",
        "colab_type": "code",
        "outputId": "d2879540-a08b-45f7-c211-a6ab10b081e2",
        "colab": {
          "base_uri": "https://localhost:8080/",
          "height": 204
        }
      },
      "source": [
        "final.head()"
      ],
      "execution_count": 0,
      "outputs": [
        {
          "output_type": "execute_result",
          "data": {
            "text/html": [
              "<div>\n",
              "<style scoped>\n",
              "    .dataframe tbody tr th:only-of-type {\n",
              "        vertical-align: middle;\n",
              "    }\n",
              "\n",
              "    .dataframe tbody tr th {\n",
              "        vertical-align: top;\n",
              "    }\n",
              "\n",
              "    .dataframe thead th {\n",
              "        text-align: right;\n",
              "    }\n",
              "</style>\n",
              "<table border=\"1\" class=\"dataframe\">\n",
              "  <thead>\n",
              "    <tr style=\"text-align: right;\">\n",
              "      <th></th>\n",
              "      <th>id</th>\n",
              "      <th>reviews.text</th>\n",
              "      <th>reviews.rating</th>\n",
              "    </tr>\n",
              "  </thead>\n",
              "  <tbody>\n",
              "    <tr>\n",
              "      <th>0</th>\n",
              "      <td>AVqkIhwDv8e3D1O-lebb</td>\n",
              "      <td>This product so far has not disappointed. My c...</td>\n",
              "      <td>5.0</td>\n",
              "    </tr>\n",
              "    <tr>\n",
              "      <th>1</th>\n",
              "      <td>AVqkIhwDv8e3D1O-lebb</td>\n",
              "      <td>great for beginner or experienced person. Boug...</td>\n",
              "      <td>5.0</td>\n",
              "    </tr>\n",
              "    <tr>\n",
              "      <th>2</th>\n",
              "      <td>AVqkIhwDv8e3D1O-lebb</td>\n",
              "      <td>Inexpensive tablet for him to use and learn on...</td>\n",
              "      <td>5.0</td>\n",
              "    </tr>\n",
              "    <tr>\n",
              "      <th>3</th>\n",
              "      <td>AVqkIhwDv8e3D1O-lebb</td>\n",
              "      <td>I've had my Fire HD 8 two weeks now and I love...</td>\n",
              "      <td>4.0</td>\n",
              "    </tr>\n",
              "    <tr>\n",
              "      <th>4</th>\n",
              "      <td>AVqkIhwDv8e3D1O-lebb</td>\n",
              "      <td>I bought this for my grand daughter when she c...</td>\n",
              "      <td>5.0</td>\n",
              "    </tr>\n",
              "  </tbody>\n",
              "</table>\n",
              "</div>"
            ],
            "text/plain": [
              "                     id  ... reviews.rating\n",
              "0  AVqkIhwDv8e3D1O-lebb  ...            5.0\n",
              "1  AVqkIhwDv8e3D1O-lebb  ...            5.0\n",
              "2  AVqkIhwDv8e3D1O-lebb  ...            5.0\n",
              "3  AVqkIhwDv8e3D1O-lebb  ...            4.0\n",
              "4  AVqkIhwDv8e3D1O-lebb  ...            5.0\n",
              "\n",
              "[5 rows x 3 columns]"
            ]
          },
          "metadata": {
            "tags": []
          },
          "execution_count": 202
        }
      ]
    },
    {
      "cell_type": "markdown",
      "metadata": {
        "id": "A7KX0tWuX8Fs",
        "colab_type": "text"
      },
      "source": [
        "\n",
        "**Preprocessing Text**\n",
        "\n",
        "This step includes\n",
        "\n",
        "Removing special characters and punctuations\n",
        "\n",
        "Lower casing the all the text\n",
        "\n",
        "Tokenization\n",
        "\n",
        "Removing Stop words\n",
        "\n",
        "Lemmatization\n",
        "\n",
        "Stemming\n"
      ]
    },
    {
      "cell_type": "code",
      "metadata": {
        "id": "LQ7hwMcNYUdK",
        "colab_type": "code",
        "colab": {}
      },
      "source": [
        "import nltk\n",
        "nltk.download('all')"
      ],
      "execution_count": 0,
      "outputs": []
    },
    {
      "cell_type": "code",
      "metadata": {
        "id": "5QzRFszkYFPb",
        "colab_type": "code",
        "colab": {}
      },
      "source": [
        "#lower case all text\n",
        "final[\"reviews.text\"]=final[\"reviews.text\"].str.lower() \n",
        "\n",
        "#tokenization of words\n",
        "final['reviews.text'] = final.apply(lambda row: word_tokenize(row['reviews.text']), axis=1) \n",
        "\n",
        "#only alphanumerical values\n",
        "final[\"reviews.text\"] = final['reviews.text'].apply(lambda x: [item for item in x if item.isalpha()]) \n",
        "\n",
        "#lemmatazing words\n",
        "final['reviews.text'] = final['reviews.text'].apply(lambda x : [WordNetLemmatizer().lemmatize(y) for y in x])\n",
        "\n",
        "#removing useless words\n",
        "stop = stopwords.words('english')\n",
        "final['reviews.text'] = final['reviews.text'].apply(lambda x: [item for item in x if item not in stop])"
      ],
      "execution_count": 0,
      "outputs": []
    },
    {
      "cell_type": "code",
      "metadata": {
        "id": "fB-5qybhZ_TC",
        "colab_type": "code",
        "colab": {}
      },
      "source": [
        "#joining all tokens\n",
        "final[\"reviews.text\"] = final[\"reviews.text\"].apply(lambda x: str(' '.join(x))) "
      ],
      "execution_count": 0,
      "outputs": []
    },
    {
      "cell_type": "code",
      "metadata": {
        "id": "cXcW9SPl5Vk7",
        "colab_type": "code",
        "colab": {}
      },
      "source": [
        "def cleaning(raw_news):\n",
        "    import nltk\n",
        "    \n",
        "    # 1. Remove non-letters.\n",
        "    news = re.sub(\"[^a-zA-Z]\", \" \", raw_news)\n",
        "    \n",
        "    # 2. Convert to lower case.\n",
        "    news =  news.lower()\n",
        "    \n",
        "    # 3. Tokenize.\n",
        "    news_words = nltk.word_tokenize( news)\n",
        "    \n",
        "    # 4. Convert the stopwords list to \"set\" data type.\n",
        "    stops = set(nltk.corpus.stopwords.words(\"english\"))\n",
        "    \n",
        "    # 5. Remove stop words. \n",
        "    words = [w for w in  news_words  if not w in stops]\n",
        "    \n",
        "    # 6. Stemming\n",
        "    stems = [nltk.stem.SnowballStemmer('english').stem(w) for w in words]\n",
        "    \n",
        "    # 7. Join the stemmed words back into one string separated by space, and return the result.\n",
        "    return \" \".join(stems)"
      ],
      "execution_count": 0,
      "outputs": []
    },
    {
      "cell_type": "code",
      "metadata": {
        "id": "ZbdEjDY86E-J",
        "colab_type": "code",
        "colab": {}
      },
      "source": [
        "final['reviews.text'] = final['reviews.text'].apply(cleaning)"
      ],
      "execution_count": 0,
      "outputs": []
    },
    {
      "cell_type": "code",
      "metadata": {
        "id": "d6EurxGdaDsV",
        "colab_type": "code",
        "outputId": "756bc7f8-90cf-4337-b5a9-a81ed4448e4d",
        "colab": {
          "base_uri": "https://localhost:8080/",
          "height": 204
        }
      },
      "source": [
        "final.head()"
      ],
      "execution_count": 0,
      "outputs": [
        {
          "output_type": "execute_result",
          "data": {
            "text/html": [
              "<div>\n",
              "<style scoped>\n",
              "    .dataframe tbody tr th:only-of-type {\n",
              "        vertical-align: middle;\n",
              "    }\n",
              "\n",
              "    .dataframe tbody tr th {\n",
              "        vertical-align: top;\n",
              "    }\n",
              "\n",
              "    .dataframe thead th {\n",
              "        text-align: right;\n",
              "    }\n",
              "</style>\n",
              "<table border=\"1\" class=\"dataframe\">\n",
              "  <thead>\n",
              "    <tr style=\"text-align: right;\">\n",
              "      <th></th>\n",
              "      <th>id</th>\n",
              "      <th>reviews.text</th>\n",
              "      <th>reviews.rating</th>\n",
              "    </tr>\n",
              "  </thead>\n",
              "  <tbody>\n",
              "    <tr>\n",
              "      <th>0</th>\n",
              "      <td>AVqkIhwDv8e3D1O-lebb</td>\n",
              "      <td>product far disappoint children love use like ...</td>\n",
              "      <td>5.0</td>\n",
              "    </tr>\n",
              "    <tr>\n",
              "      <th>1</th>\n",
              "      <td>AVqkIhwDv8e3D1O-lebb</td>\n",
              "      <td>great beginn experienc person bought gift love</td>\n",
              "      <td>5.0</td>\n",
              "    </tr>\n",
              "    <tr>\n",
              "      <th>2</th>\n",
              "      <td>AVqkIhwDv8e3D1O-lebb</td>\n",
              "      <td>inexpens tablet use learn step nabi thrill lea...</td>\n",
              "      <td>5.0</td>\n",
              "    </tr>\n",
              "    <tr>\n",
              "      <th>3</th>\n",
              "      <td>AVqkIhwDv8e3D1O-lebb</td>\n",
              "      <td>fire hd two week love tablet great valu prime ...</td>\n",
              "      <td>4.0</td>\n",
              "    </tr>\n",
              "    <tr>\n",
              "      <th>4</th>\n",
              "      <td>AVqkIhwDv8e3D1O-lebb</td>\n",
              "      <td>bought grand daughter come visit set user ente...</td>\n",
              "      <td>5.0</td>\n",
              "    </tr>\n",
              "  </tbody>\n",
              "</table>\n",
              "</div>"
            ],
            "text/plain": [
              "                     id  ... reviews.rating\n",
              "0  AVqkIhwDv8e3D1O-lebb  ...            5.0\n",
              "1  AVqkIhwDv8e3D1O-lebb  ...            5.0\n",
              "2  AVqkIhwDv8e3D1O-lebb  ...            5.0\n",
              "3  AVqkIhwDv8e3D1O-lebb  ...            4.0\n",
              "4  AVqkIhwDv8e3D1O-lebb  ...            5.0\n",
              "\n",
              "[5 rows x 3 columns]"
            ]
          },
          "metadata": {
            "tags": []
          },
          "execution_count": 214
        }
      ]
    },
    {
      "cell_type": "markdown",
      "metadata": {
        "id": "AVUpgIp9DnSj",
        "colab_type": "text"
      },
      "source": [
        "\n",
        "Dataset had the ratings of the products so we assigned a sentiment to all of the ratings, we considered \n",
        "a positive sentiment (1)  when the ratings are 4 and 5. \n",
        "a negative sentiment (0) when the rating is 1,2 and 3.\n",
        "We considered neutral sentiment in subsequent stages.\n"
      ]
    },
    {
      "cell_type": "code",
      "metadata": {
        "id": "ZewNcAw7aIfJ",
        "colab_type": "code",
        "colab": {}
      },
      "source": [
        "#sentiment = {1: 0,\n",
        "#             2: 0,\n",
        "#             3: 0,\n",
        "#             4: 1,\n",
        "#             5: 1}\n",
        "#final[\"sentiment\"] = final[\"reviews.rating\"].map(sentiment)\n",
        "\n",
        "def sentiments(rating):\n",
        "    if (rating == 5) or (rating == 4):\n",
        "        return \"Positive\"\n",
        "    elif rating == 3:\n",
        "        return \"Neutral\"\n",
        "    elif (rating == 2) or (rating == 1):\n",
        "        return \"Negative\"\n",
        "# Add sentiments to the data\n",
        "final[\"sentiment\"] = final[\"reviews.rating\"].apply(sentiments)\n",
        "\n"
      ],
      "execution_count": 0,
      "outputs": []
    },
    {
      "cell_type": "code",
      "metadata": {
        "id": "5S9NqPtWaKTC",
        "colab_type": "code",
        "outputId": "f6d9ea26-d459-477b-af8a-6d062ed742ee",
        "colab": {
          "base_uri": "https://localhost:8080/",
          "height": 204
        }
      },
      "source": [
        "final.head()"
      ],
      "execution_count": 0,
      "outputs": [
        {
          "output_type": "execute_result",
          "data": {
            "text/html": [
              "<div>\n",
              "<style scoped>\n",
              "    .dataframe tbody tr th:only-of-type {\n",
              "        vertical-align: middle;\n",
              "    }\n",
              "\n",
              "    .dataframe tbody tr th {\n",
              "        vertical-align: top;\n",
              "    }\n",
              "\n",
              "    .dataframe thead th {\n",
              "        text-align: right;\n",
              "    }\n",
              "</style>\n",
              "<table border=\"1\" class=\"dataframe\">\n",
              "  <thead>\n",
              "    <tr style=\"text-align: right;\">\n",
              "      <th></th>\n",
              "      <th>id</th>\n",
              "      <th>reviews.text</th>\n",
              "      <th>reviews.rating</th>\n",
              "      <th>sentiment</th>\n",
              "    </tr>\n",
              "  </thead>\n",
              "  <tbody>\n",
              "    <tr>\n",
              "      <th>0</th>\n",
              "      <td>AVqkIhwDv8e3D1O-lebb</td>\n",
              "      <td>product far disappoint children love use like ...</td>\n",
              "      <td>5.0</td>\n",
              "      <td>1</td>\n",
              "    </tr>\n",
              "    <tr>\n",
              "      <th>1</th>\n",
              "      <td>AVqkIhwDv8e3D1O-lebb</td>\n",
              "      <td>great beginn experienc person bought gift love</td>\n",
              "      <td>5.0</td>\n",
              "      <td>1</td>\n",
              "    </tr>\n",
              "    <tr>\n",
              "      <th>2</th>\n",
              "      <td>AVqkIhwDv8e3D1O-lebb</td>\n",
              "      <td>inexpens tablet use learn step nabi thrill lea...</td>\n",
              "      <td>5.0</td>\n",
              "      <td>1</td>\n",
              "    </tr>\n",
              "    <tr>\n",
              "      <th>3</th>\n",
              "      <td>AVqkIhwDv8e3D1O-lebb</td>\n",
              "      <td>fire hd two week love tablet great valu prime ...</td>\n",
              "      <td>4.0</td>\n",
              "      <td>1</td>\n",
              "    </tr>\n",
              "    <tr>\n",
              "      <th>4</th>\n",
              "      <td>AVqkIhwDv8e3D1O-lebb</td>\n",
              "      <td>bought grand daughter come visit set user ente...</td>\n",
              "      <td>5.0</td>\n",
              "      <td>1</td>\n",
              "    </tr>\n",
              "  </tbody>\n",
              "</table>\n",
              "</div>"
            ],
            "text/plain": [
              "                     id  ... sentiment\n",
              "0  AVqkIhwDv8e3D1O-lebb  ...         1\n",
              "1  AVqkIhwDv8e3D1O-lebb  ...         1\n",
              "2  AVqkIhwDv8e3D1O-lebb  ...         1\n",
              "3  AVqkIhwDv8e3D1O-lebb  ...         1\n",
              "4  AVqkIhwDv8e3D1O-lebb  ...         1\n",
              "\n",
              "[5 rows x 4 columns]"
            ]
          },
          "metadata": {
            "tags": []
          },
          "execution_count": 216
        }
      ]
    },
    {
      "cell_type": "code",
      "metadata": {
        "id": "G-DufrBPaMPO",
        "colab_type": "code",
        "outputId": "b6d76b61-668c-4e1a-b1b2-6455f4112c2f",
        "colab": {
          "base_uri": "https://localhost:8080/",
          "height": 34
        }
      },
      "source": [
        "len(final[final[\"sentiment\"]==0]),len(final[final[\"sentiment\"]==1])"
      ],
      "execution_count": 0,
      "outputs": [
        {
          "output_type": "execute_result",
          "data": {
            "text/plain": [
              "(5412, 32315)"
            ]
          },
          "metadata": {
            "tags": []
          },
          "execution_count": 217
        }
      ]
    },
    {
      "cell_type": "markdown",
      "metadata": {
        "id": "wcd3tck2aOr8",
        "colab_type": "text"
      },
      "source": [
        "We can see how the data is heavily biased to positive sentiments. One way to fix this would be to undersample the positive sentiments. Beofre doing this I would like to verify how the model will perform with these values."
      ]
    },
    {
      "cell_type": "markdown",
      "metadata": {
        "id": "_TnZq7zGDVUj",
        "colab_type": "text"
      },
      "source": [
        "**Logistic Regression:**\n",
        "\n",
        "We observed that the data was heavily biased to positive emotions. To fix this, we under sampled the positive sentiments. \n",
        "By using the precision, recall and f1-score on every label we verified how well the model has learnt to classify each label. "
      ]
    },
    {
      "cell_type": "code",
      "metadata": {
        "id": "-KeL2k1_aQiL",
        "colab_type": "code",
        "colab": {}
      },
      "source": [
        "# building tfidf matrix to train models \n",
        "from sklearn.feature_extraction.text import TfidfVectorizer\n",
        "\n",
        "vectorizer =TfidfVectorizer(max_df=0.9)\n",
        "text = vectorizer.fit_transform(final[\"reviews.text\"])"
      ],
      "execution_count": 0,
      "outputs": []
    },
    {
      "cell_type": "code",
      "metadata": {
        "id": "RJsOZcQuaS5e",
        "colab_type": "code",
        "colab": {}
      },
      "source": [
        "from sklearn.model_selection import train_test_split\n",
        "\n",
        "x_train, x_test, y_train, y_test = train_test_split(text, final[\"sentiment\"], test_size=0.3, random_state=1)\n"
      ],
      "execution_count": 0,
      "outputs": []
    },
    {
      "cell_type": "code",
      "metadata": {
        "id": "hBKSgnoS6l31",
        "colab_type": "code",
        "outputId": "cd01bc4e-73a3-4d4d-9a4e-bc9707ef1201",
        "colab": {
          "base_uri": "https://localhost:8080/",
          "height": 51
        }
      },
      "source": [
        "x_test[0]"
      ],
      "execution_count": 0,
      "outputs": [
        {
          "output_type": "execute_result",
          "data": {
            "text/plain": [
              "<1x12218 sparse matrix of type '<class 'numpy.float64'>'\n",
              "\twith 7 stored elements in Compressed Sparse Row format>"
            ]
          },
          "metadata": {
            "tags": []
          },
          "execution_count": 43
        }
      ]
    },
    {
      "cell_type": "code",
      "metadata": {
        "id": "TyujEKKQaVAv",
        "colab_type": "code",
        "colab": {}
      },
      "source": [
        "# try logistic regression first\n",
        "from sklearn.linear_model import LogisticRegression\n",
        "lr_classifier = LogisticRegression(random_state=1)\n",
        "lr_classifier.fit(x_train, y_train)\n",
        "y_pred = lr_classifier.predict(x_test)\n",
        "y_pred_tr = lr_classifier.predict(x_train)"
      ],
      "execution_count": 0,
      "outputs": []
    },
    {
      "cell_type": "code",
      "metadata": {
        "id": "Zl8LMq98aXUj",
        "colab_type": "code",
        "outputId": "fad41443-bc15-4611-cce0-543395a3fc59",
        "colab": {
          "base_uri": "https://localhost:8080/",
          "height": 51
        }
      },
      "source": [
        "print('Test accuracy', sum(y_test == y_pred)/len(y_test))\n",
        "print('Train accuracy', sum(y_train == y_pred_tr)/len(y_train))"
      ],
      "execution_count": 0,
      "outputs": [
        {
          "output_type": "stream",
          "text": [
            "Test accuracy 0.9112995847689725\n",
            "Train accuracy 0.9300590730081794\n"
          ],
          "name": "stdout"
        }
      ]
    },
    {
      "cell_type": "markdown",
      "metadata": {
        "id": "RhibdtESabAE",
        "colab_type": "text"
      },
      "source": [
        "\n",
        "\n",
        "Test and train accuracies are high, however, we must consider that the data is heavily biased towards positive reviews.\n"
      ]
    },
    {
      "cell_type": "code",
      "metadata": {
        "id": "GjYMmNvWaY93",
        "colab_type": "code",
        "outputId": "bd01d280-6194-4c18-a0c0-306707efd426",
        "colab": {
          "base_uri": "https://localhost:8080/",
          "height": 357
        }
      },
      "source": [
        "from sklearn.metrics import classification_report\n",
        "print(\"Classification Report(Train)\")\n",
        "print(classification_report(y_train, y_pred_tr))\n",
        "print(\"Classification Report(Test)\")\n",
        "print(classification_report(y_test, y_pred))"
      ],
      "execution_count": 0,
      "outputs": [
        {
          "output_type": "stream",
          "text": [
            "Classification Report(Train)\n",
            "              precision    recall  f1-score   support\n",
            "\n",
            "           0       0.92      0.56      0.70      3769\n",
            "           1       0.93      0.99      0.96     22639\n",
            "\n",
            "    accuracy                           0.93     26408\n",
            "   macro avg       0.92      0.78      0.83     26408\n",
            "weighted avg       0.93      0.93      0.92     26408\n",
            "\n",
            "Classification Report(Test)\n",
            "              precision    recall  f1-score   support\n",
            "\n",
            "           0       0.83      0.49      0.61      1643\n",
            "           1       0.92      0.98      0.95      9676\n",
            "\n",
            "    accuracy                           0.91     11319\n",
            "   macro avg       0.88      0.73      0.78     11319\n",
            "weighted avg       0.91      0.91      0.90     11319\n",
            "\n"
          ],
          "name": "stdout"
        }
      ]
    },
    {
      "cell_type": "markdown",
      "metadata": {
        "id": "c1uV08B8afgI",
        "colab_type": "text"
      },
      "source": [
        "\n",
        "By using the precision, recall and f1-score on every label we can verify how well the model has learnt to classify each label. The test and train scores are not that good for the negative reviews. We will try then to use another model, Random Forests."
      ]
    },
    {
      "cell_type": "markdown",
      "metadata": {
        "id": "vWu5DUytE0KI",
        "colab_type": "text"
      },
      "source": [
        "**Random Forest**"
      ]
    },
    {
      "cell_type": "code",
      "metadata": {
        "id": "g2p6g7hOahiO",
        "colab_type": "code",
        "colab": {}
      },
      "source": [
        "# Random Forests\n",
        "from sklearn.ensemble import RandomForestClassifier\n",
        "classifier = RandomForestClassifier()\n",
        "classifier.fit(x_train, y_train)\n",
        "y_pred = classifier.predict(x_test)\n",
        "y_pred_tr = classifier.predict(x_train)"
      ],
      "execution_count": 0,
      "outputs": []
    },
    {
      "cell_type": "code",
      "metadata": {
        "id": "QGHYXS3kalaF",
        "colab_type": "code",
        "outputId": "acf26cad-67ac-4dee-df14-b008d85e4108",
        "colab": {
          "base_uri": "https://localhost:8080/",
          "height": 51
        }
      },
      "source": [
        "print('Test accuracy', sum(y_test == y_pred)/len(y_test))\n",
        "print('Train accuracy', sum(y_train == y_pred_tr)/len(y_train))"
      ],
      "execution_count": 0,
      "outputs": [
        {
          "output_type": "stream",
          "text": [
            "Test accuracy 0.9287922961392349\n",
            "Train accuracy 0.9962511360193881\n"
          ],
          "name": "stdout"
        }
      ]
    },
    {
      "cell_type": "code",
      "metadata": {
        "id": "zOWOC0uTaoAl",
        "colab_type": "code",
        "outputId": "ced3c6be-2ba5-4c6b-f346-ff1e41ec804d",
        "colab": {
          "base_uri": "https://localhost:8080/",
          "height": 357
        }
      },
      "source": [
        "print(\"Classification Report(Train)\")\n",
        "print(classification_report(y_train, y_pred_tr))\n",
        "print(\"Classification Report(Test)\")\n",
        "print(classification_report(y_test, y_pred))"
      ],
      "execution_count": 0,
      "outputs": [
        {
          "output_type": "stream",
          "text": [
            "Classification Report(Train)\n",
            "              precision    recall  f1-score   support\n",
            "\n",
            "           0       0.99      0.98      0.99      3769\n",
            "           1       1.00      1.00      1.00     22639\n",
            "\n",
            "    accuracy                           1.00     26408\n",
            "   macro avg       1.00      0.99      0.99     26408\n",
            "weighted avg       1.00      1.00      1.00     26408\n",
            "\n",
            "Classification Report(Test)\n",
            "              precision    recall  f1-score   support\n",
            "\n",
            "           0       0.83      0.64      0.72      1643\n",
            "           1       0.94      0.98      0.96      9676\n",
            "\n",
            "    accuracy                           0.93     11319\n",
            "   macro avg       0.89      0.81      0.84     11319\n",
            "weighted avg       0.93      0.93      0.92     11319\n",
            "\n"
          ],
          "name": "stdout"
        }
      ]
    },
    {
      "cell_type": "markdown",
      "metadata": {
        "id": "wVJhDd_5arLt",
        "colab_type": "text"
      },
      "source": [
        "\n",
        "\n",
        "After this step, there was improvement in the precision, recall and f1 score for both positive and negative classes. Even though the negative sentiment in the test data set has a score of 0.71 for the f1 score, which is still an improvement from before.\n",
        "\n",
        "We tried to improve this by using a 5-fold cross validation for parameter tuning.\n"
      ]
    },
    {
      "cell_type": "markdown",
      "metadata": {
        "id": "cLc6vQNTfgPN",
        "colab_type": "text"
      },
      "source": [
        "**Fine tuning trying in springt 3**\n",
        "\n",
        "I tried to increase the scores by using the grid search by fine tune the parameters.\n",
        "\n",
        "Fine tuning using Grid Search of the best parameters on a grid of possible values.I  the grid search with Random Forest and SVC classifier.Finally we will test the accuracy of our final classifier (after fine-tuning)\n",
        "\n",
        "\n"
      ]
    },
    {
      "cell_type": "code",
      "metadata": {
        "id": "kCdEfEOBfoSf",
        "colab_type": "code",
        "outputId": "ee868cca-847b-4178-e778-3c9e0d3e7585",
        "colab": {
          "base_uri": "https://localhost:8080/",
          "height": 340
        }
      },
      "source": [
        "from sklearn.model_selection import GridSearchCV\n",
        "parameters = {\"n_estimators\": [10,50,100,200],\n",
        "             \"criterion\":(\"gini\",\"entropy\")}\n",
        "classifier = RandomForestClassifier()\n",
        "clf = GridSearchCV(classifier, parameters, cv=2)\n",
        "clf.fit(x_train, y_train)"
      ],
      "execution_count": 0,
      "outputs": [
        {
          "output_type": "execute_result",
          "data": {
            "text/plain": [
              "GridSearchCV(cv=2, error_score='raise-deprecating',\n",
              "             estimator=RandomForestClassifier(bootstrap=True, class_weight=None,\n",
              "                                              criterion='gini', max_depth=None,\n",
              "                                              max_features='auto',\n",
              "                                              max_leaf_nodes=None,\n",
              "                                              min_impurity_decrease=0.0,\n",
              "                                              min_impurity_split=None,\n",
              "                                              min_samples_leaf=1,\n",
              "                                              min_samples_split=2,\n",
              "                                              min_weight_fraction_leaf=0.0,\n",
              "                                              n_estimators='warn', n_jobs=None,\n",
              "                                              oob_score=False,\n",
              "                                              random_state=None, verbose=0,\n",
              "                                              warm_start=False),\n",
              "             iid='warn', n_jobs=None,\n",
              "             param_grid={'criterion': ('gini', 'entropy'),\n",
              "                         'n_estimators': [10, 50, 100, 200]},\n",
              "             pre_dispatch='2*n_jobs', refit=True, return_train_score=False,\n",
              "             scoring=None, verbose=0)"
            ]
          },
          "metadata": {
            "tags": []
          },
          "execution_count": 50
        }
      ]
    },
    {
      "cell_type": "code",
      "metadata": {
        "id": "4rWOJo-yawEJ",
        "colab_type": "code",
        "outputId": "7050bf92-cfc1-4792-f9ce-80247292f081",
        "colab": {
          "base_uri": "https://localhost:8080/",
          "height": 51
        }
      },
      "source": [
        "#Viewing best parameters in Grid Search\n",
        "best_parameter = clf.best_params_\n",
        "best_accuracy = clf.best_score_ #best cros validated mean\n",
        "print('Best parameter: ' + str(best_parameter))\n",
        "print('Best accuracy: ' + str(best_accuracy))"
      ],
      "execution_count": 0,
      "outputs": [
        {
          "output_type": "stream",
          "text": [
            "Best parameter: {'criterion': 'entropy', 'n_estimators': 100}\n",
            "Best accuracy: 0.9263102090275674\n"
          ],
          "name": "stdout"
        }
      ]
    },
    {
      "cell_type": "code",
      "metadata": {
        "id": "ProlfYYid_35",
        "colab_type": "code",
        "outputId": "6fea272c-a492-4325-8dfc-6006cb05f949",
        "colab": {
          "base_uri": "https://localhost:8080/",
          "height": 51
        }
      },
      "source": [
        "classifier = RandomForestClassifier(criterion = best_parameter[\"criterion\"], \n",
        "                                    n_estimators = best_parameter[\"n_estimators\"])\n",
        "classifier.fit(x_train, y_train)\n",
        "y_pred = classifier.predict(x_test)\n",
        "y_pred_tr = classifier.predict(x_train)\n",
        "print('Test accuracy', sum(y_test == y_pred)/len(y_test))\n",
        "print('Train accuracy', sum(y_train == y_pred_tr)/len(y_train))\n",
        "\n"
      ],
      "execution_count": 0,
      "outputs": [
        {
          "output_type": "stream",
          "text": [
            "Test accuracy 0.9357717112819154\n",
            "Train accuracy 0.9994698576189034\n"
          ],
          "name": "stdout"
        }
      ]
    },
    {
      "cell_type": "code",
      "metadata": {
        "id": "dVsa293AeDH0",
        "colab_type": "code",
        "outputId": "16d753b0-33de-476f-d973-19eceff83e6f",
        "colab": {
          "base_uri": "https://localhost:8080/",
          "height": 357
        }
      },
      "source": [
        "print(\"Classification Report(Train)\")\n",
        "print(classification_report(y_train, y_pred_tr))\n",
        "print(\"Classification Report(Test)\")\n",
        "print(classification_report(y_test, y_pred))"
      ],
      "execution_count": 0,
      "outputs": [
        {
          "output_type": "stream",
          "text": [
            "Classification Report(Train)\n",
            "              precision    recall  f1-score   support\n",
            "\n",
            "           0       1.00      1.00      1.00      3769\n",
            "           1       1.00      1.00      1.00     22639\n",
            "\n",
            "    accuracy                           1.00     26408\n",
            "   macro avg       1.00      1.00      1.00     26408\n",
            "weighted avg       1.00      1.00      1.00     26408\n",
            "\n",
            "Classification Report(Test)\n",
            "              precision    recall  f1-score   support\n",
            "\n",
            "           0       0.92      0.61      0.73      1643\n",
            "           1       0.94      0.99      0.96      9676\n",
            "\n",
            "    accuracy                           0.94     11319\n",
            "   macro avg       0.93      0.80      0.85     11319\n",
            "weighted avg       0.93      0.94      0.93     11319\n",
            "\n"
          ],
          "name": "stdout"
        }
      ]
    },
    {
      "cell_type": "markdown",
      "metadata": {
        "id": "HiPyxYyNeFIg",
        "colab_type": "text"
      },
      "source": [
        "\n",
        "\n",
        "The overall performance has improved. We can see that the precision of the 0 label as increased, and so did the f1 score\n",
        "\n",
        "We can say that the overall performance is satisfactory and we can proceed by trying to add a third label, the neutral sentiment value.\n"
      ]
    },
    {
      "cell_type": "markdown",
      "metadata": {
        "id": "7uxn4gPXMFYW",
        "colab_type": "text"
      },
      "source": [
        "**SVM**"
      ]
    },
    {
      "cell_type": "code",
      "metadata": {
        "id": "HljZfpmRL_ki",
        "colab_type": "code",
        "colab": {}
      },
      "source": [
        "from sklearn.model_selection import train_test_split\n",
        "\n",
        "x_train, x_test, y_train, y_test = train_test_split(text, final[\"sentiment\"], test_size=0.3, random_state=1)\n",
        "\n",
        "# SVM\n",
        "from sklearn.svm import SVC\n",
        "\n",
        "svm_classifier = SVC()\n",
        "svm_classifier.fit(x_train, y_train)\n",
        "y_pred_svm = svm_classifier.predict(x_test)\n",
        "y_pred_tr_svm = svm_classifier.predict(x_train)"
      ],
      "execution_count": 0,
      "outputs": []
    },
    {
      "cell_type": "code",
      "metadata": {
        "id": "P8piWPCMG1Pi",
        "colab_type": "code",
        "outputId": "8ef86563-127f-4244-f0e4-e7a68170c7d7",
        "colab": {
          "base_uri": "https://localhost:8080/",
          "height": 51
        }
      },
      "source": [
        "print('Test accuracy', sum(y_test == y_pred)/len(y_test))\n",
        "print('Train accuracy', sum(y_train == y_pred_tr)/len(y_train))"
      ],
      "execution_count": 0,
      "outputs": [
        {
          "output_type": "stream",
          "text": [
            "Test accuracy 0.9357717112819154\n",
            "Train accuracy 0.9994698576189034\n"
          ],
          "name": "stdout"
        }
      ]
    },
    {
      "cell_type": "code",
      "metadata": {
        "id": "G7q6IbViG9UF",
        "colab_type": "code",
        "outputId": "54b13aa4-014f-4c82-b517-196dd3851bbd",
        "colab": {
          "base_uri": "https://localhost:8080/",
          "height": 357
        }
      },
      "source": [
        "print(\"Classification Report(Train)\")\n",
        "print(classification_report(y_train, y_pred_tr))\n",
        "print(\"Classification Report(Test)\")\n",
        "print(classification_report(y_test, y_pred))"
      ],
      "execution_count": 0,
      "outputs": [
        {
          "output_type": "stream",
          "text": [
            "Classification Report(Train)\n",
            "              precision    recall  f1-score   support\n",
            "\n",
            "           0       1.00      1.00      1.00      3769\n",
            "           1       1.00      1.00      1.00     22639\n",
            "\n",
            "    accuracy                           1.00     26408\n",
            "   macro avg       1.00      1.00      1.00     26408\n",
            "weighted avg       1.00      1.00      1.00     26408\n",
            "\n",
            "Classification Report(Test)\n",
            "              precision    recall  f1-score   support\n",
            "\n",
            "           0       0.92      0.61      0.73      1643\n",
            "           1       0.94      0.99      0.96      9676\n",
            "\n",
            "    accuracy                           0.94     11319\n",
            "   macro avg       0.93      0.80      0.85     11319\n",
            "weighted avg       0.93      0.94      0.93     11319\n",
            "\n"
          ],
          "name": "stdout"
        }
      ]
    },
    {
      "cell_type": "markdown",
      "metadata": {
        "id": "gJ9_jycIhZJP",
        "colab_type": "text"
      },
      "source": [
        "Support Vector Machines is very suitable for classification by measuring extreme values between classes, to differentiate the worst case scenarios so that it can classify between Positive, Neutral and Negative correctly."
      ]
    },
    {
      "cell_type": "markdown",
      "metadata": {
        "id": "SoYYL0cFeHFq",
        "colab_type": "text"
      },
      "source": [
        "**Labels**\n",
        "\n",
        "We classifed the opinions into three categories: Positive, Negative and Neutral.\n",
        "\n"
      ]
    },
    {
      "cell_type": "code",
      "metadata": {
        "id": "o0rgOupHeJUG",
        "colab_type": "code",
        "colab": {}
      },
      "source": [
        "sentiment = {1: 0,\n",
        "            2: 0,\n",
        "            3: 1,\n",
        "            4: 2,\n",
        "            5: 2}\n",
        "\n",
        "final[\"sentiment\"] = final[\"reviews.rating\"].map(sentiment)"
      ],
      "execution_count": 0,
      "outputs": []
    },
    {
      "cell_type": "code",
      "metadata": {
        "id": "F5lUiklzhWgT",
        "colab_type": "code",
        "outputId": "46335554-b19f-45da-a16d-7bed6edbfd18",
        "colab": {
          "base_uri": "https://localhost:8080/",
          "height": 204
        }
      },
      "source": [
        "final.head()"
      ],
      "execution_count": 0,
      "outputs": [
        {
          "output_type": "execute_result",
          "data": {
            "text/html": [
              "<div>\n",
              "<style scoped>\n",
              "    .dataframe tbody tr th:only-of-type {\n",
              "        vertical-align: middle;\n",
              "    }\n",
              "\n",
              "    .dataframe tbody tr th {\n",
              "        vertical-align: top;\n",
              "    }\n",
              "\n",
              "    .dataframe thead th {\n",
              "        text-align: right;\n",
              "    }\n",
              "</style>\n",
              "<table border=\"1\" class=\"dataframe\">\n",
              "  <thead>\n",
              "    <tr style=\"text-align: right;\">\n",
              "      <th></th>\n",
              "      <th>id</th>\n",
              "      <th>reviews.text</th>\n",
              "      <th>reviews.rating</th>\n",
              "      <th>sentiment</th>\n",
              "    </tr>\n",
              "  </thead>\n",
              "  <tbody>\n",
              "    <tr>\n",
              "      <th>0</th>\n",
              "      <td>AVqkIhwDv8e3D1O-lebb</td>\n",
              "      <td>product far ha disappointed child love use lik...</td>\n",
              "      <td>5.0</td>\n",
              "      <td>2</td>\n",
              "    </tr>\n",
              "    <tr>\n",
              "      <th>1</th>\n",
              "      <td>AVqkIhwDv8e3D1O-lebb</td>\n",
              "      <td>great beginner experienced person bought gift ...</td>\n",
              "      <td>5.0</td>\n",
              "      <td>2</td>\n",
              "    </tr>\n",
              "    <tr>\n",
              "      <th>2</th>\n",
              "      <td>AVqkIhwDv8e3D1O-lebb</td>\n",
              "      <td>inexpensive tablet use learn step nabi wa thri...</td>\n",
              "      <td>5.0</td>\n",
              "      <td>2</td>\n",
              "    </tr>\n",
              "    <tr>\n",
              "      <th>3</th>\n",
              "      <td>AVqkIhwDv8e3D1O-lebb</td>\n",
              "      <td>fire hd two week love tablet great prime membe...</td>\n",
              "      <td>4.0</td>\n",
              "      <td>2</td>\n",
              "    </tr>\n",
              "    <tr>\n",
              "      <th>4</th>\n",
              "      <td>AVqkIhwDv8e3D1O-lebb</td>\n",
              "      <td>bought grand daughter come visit set user ente...</td>\n",
              "      <td>5.0</td>\n",
              "      <td>2</td>\n",
              "    </tr>\n",
              "  </tbody>\n",
              "</table>\n",
              "</div>"
            ],
            "text/plain": [
              "                     id  ... sentiment\n",
              "0  AVqkIhwDv8e3D1O-lebb  ...         2\n",
              "1  AVqkIhwDv8e3D1O-lebb  ...         2\n",
              "2  AVqkIhwDv8e3D1O-lebb  ...         2\n",
              "3  AVqkIhwDv8e3D1O-lebb  ...         2\n",
              "4  AVqkIhwDv8e3D1O-lebb  ...         2\n",
              "\n",
              "[5 rows x 4 columns]"
            ]
          },
          "metadata": {
            "tags": []
          },
          "execution_count": 58
        }
      ]
    },
    {
      "cell_type": "code",
      "metadata": {
        "id": "FoEPBn8RhaED",
        "colab_type": "code",
        "outputId": "34d7eaba-f621-4483-9a4b-fbf1e0c09ab3",
        "colab": {
          "base_uri": "https://localhost:8080/",
          "height": 34
        }
      },
      "source": [
        "len(final[final[\"sentiment\"]==0]),len(final[final[\"sentiment\"]==1]),len(final[final[\"sentiment\"]==2])"
      ],
      "execution_count": 0,
      "outputs": [
        {
          "output_type": "execute_result",
          "data": {
            "text/plain": [
              "(2510, 2902, 32315)"
            ]
          },
          "metadata": {
            "tags": []
          },
          "execution_count": 59
        }
      ]
    },
    {
      "cell_type": "markdown",
      "metadata": {
        "id": "vK8fC3s9hcXQ",
        "colab_type": "text"
      },
      "source": [
        "\n",
        "\n",
        "we can observe from above that it is heavily biased towards the positive sentiment.\n"
      ]
    },
    {
      "cell_type": "markdown",
      "metadata": {
        "id": "d8Y2fv2PhcOD",
        "colab_type": "text"
      },
      "source": [
        "**TFIDF MATRIX**\n",
        "\n",
        "TF-IDF is an algorithm it has 2 subparts:\n",
        "Terms frequency\n",
        "Inverse data frequency.\n",
        "TF gives us the frequency of the word in each document while IDF give us the weight of all rare words present in the document. In LDA we divide the document on the basic of topics and classify words as per topic. Here we are checking the frequency of each word and comparing it with normal LDA model."
      ]
    },
    {
      "cell_type": "code",
      "metadata": {
        "id": "EyNml4K6hgxz",
        "colab_type": "code",
        "colab": {}
      },
      "source": [
        "# building tfidf matrix to train models \n",
        "from sklearn.feature_extraction.text import TfidfVectorizer\n",
        "\n",
        "#vectorizer =TfidfVectorizer(max_df=0.9)\n",
        "#text = vectorizer.fit_transform(final[\"reviews.text\"])\n",
        "\n",
        "from sklearn.feature_extraction.text import TfidfVectorizer\n",
        "def vectorizer(X_train):\n",
        "    vectorizer = TfidfVectorizer(max_df= 0.9).fit(X_train)\n",
        "    return vectorizer\n",
        "    text = vectorizer(final[\"reviews.text\"])\n"
      ],
      "execution_count": 0,
      "outputs": []
    },
    {
      "cell_type": "code",
      "metadata": {
        "id": "5FgL9334htZp",
        "colab_type": "code",
        "colab": {}
      },
      "source": [
        "from sklearn.model_selection import train_test_split\n",
        "\n",
        "x_train, x_test, y_train, y_test = train_test_split(text, final[\"sentiment\"], test_size=0.3, random_state=1)"
      ],
      "execution_count": 0,
      "outputs": []
    },
    {
      "cell_type": "code",
      "metadata": {
        "id": "cd0PfYwghvjB",
        "colab_type": "code",
        "colab": {}
      },
      "source": [
        "from sklearn.linear_model import LogisticRegression\n",
        "classifier = LogisticRegression(random_state=1)\n",
        "classifier.fit(x_train, y_train)\n",
        "y_pred = classifier.predict(x_test)\n",
        "y_pred_tr = classifier.predict(x_train)"
      ],
      "execution_count": 0,
      "outputs": []
    },
    {
      "cell_type": "code",
      "metadata": {
        "id": "4phRht-shynH",
        "colab_type": "code",
        "outputId": "3ce43a0e-2296-452f-acc8-5fddc3bc37d2",
        "colab": {
          "base_uri": "https://localhost:8080/",
          "height": 51
        }
      },
      "source": [
        "print('Test accuracy', sum(y_test == y_pred)/len(y_test))\n",
        "print('Train accuracy', sum(y_train == y_pred_tr)/len(y_train))"
      ],
      "execution_count": 0,
      "outputs": [
        {
          "output_type": "stream",
          "text": [
            "Test accuracy 0.9126247901758106\n",
            "Train accuracy 0.926991820660406\n"
          ],
          "name": "stdout"
        }
      ]
    },
    {
      "cell_type": "code",
      "metadata": {
        "id": "aTqYgNPBh08E",
        "colab_type": "code",
        "outputId": "dda21178-faa8-4e67-fe34-dff7256be407",
        "colab": {
          "base_uri": "https://localhost:8080/",
          "height": 357
        }
      },
      "source": [
        "from sklearn.metrics import classification_report\n",
        "print(\"Classification Report(Train)\")\n",
        "print(classification_report(y_train, y_pred_tr))\n",
        "print(\"Classification Report(Test)\")\n",
        "print(classification_report(y_test, y_pred))"
      ],
      "execution_count": 0,
      "outputs": [
        {
          "output_type": "stream",
          "text": [
            "Classification Report(Train)\n",
            "              precision    recall  f1-score   support\n",
            "\n",
            "           0       0.90      0.55      0.68      3769\n",
            "           1       0.93      0.99      0.96     22639\n",
            "\n",
            "    accuracy                           0.93     26408\n",
            "   macro avg       0.91      0.77      0.82     26408\n",
            "weighted avg       0.93      0.93      0.92     26408\n",
            "\n",
            "Classification Report(Test)\n",
            "              precision    recall  f1-score   support\n",
            "\n",
            "           0       0.83      0.50      0.62      1643\n",
            "           1       0.92      0.98      0.95      9676\n",
            "\n",
            "    accuracy                           0.91     11319\n",
            "   macro avg       0.88      0.74      0.79     11319\n",
            "weighted avg       0.91      0.91      0.90     11319\n",
            "\n"
          ],
          "name": "stdout"
        }
      ]
    },
    {
      "cell_type": "markdown",
      "metadata": {
        "id": "DTyt__zTh5EX",
        "colab_type": "text"
      },
      "source": [
        "\n",
        "\n",
        "Very low F1 score for the test data set for the undersampled data sets. Hence trying below with the Randm Forest algorithm again.\n"
      ]
    },
    {
      "cell_type": "code",
      "metadata": {
        "id": "g-8U0Ek3iBSY",
        "colab_type": "code",
        "colab": {}
      },
      "source": [
        "from sklearn.ensemble import RandomForestClassifier\n",
        "classifier = RandomForestClassifier()\n",
        "classifier.fit(x_train, y_train)\n",
        "y_pred = classifier.predict(x_test)\n",
        "y_pred_tr = classifier.predict(x_train)"
      ],
      "execution_count": 0,
      "outputs": []
    },
    {
      "cell_type": "code",
      "metadata": {
        "id": "Q5Kzoft7iEqx",
        "colab_type": "code",
        "outputId": "96f0f1c6-6440-4b1f-ebbb-e59ddaf14897",
        "colab": {
          "base_uri": "https://localhost:8080/",
          "height": 51
        }
      },
      "source": [
        "print('Test accuracy', sum(y_test == y_pred)/len(y_test))\n",
        "print('Train accuracy', sum(y_train == y_pred_tr)/len(y_train))"
      ],
      "execution_count": 0,
      "outputs": [
        {
          "output_type": "stream",
          "text": [
            "Test accuracy 0.9311776658715434\n",
            "Train accuracy 0.9957209936382915\n"
          ],
          "name": "stdout"
        }
      ]
    },
    {
      "cell_type": "code",
      "metadata": {
        "id": "jL9n1fIziGvx",
        "colab_type": "code",
        "outputId": "60f8961a-fae2-44cb-e552-4b0d6ab7c274",
        "colab": {
          "base_uri": "https://localhost:8080/",
          "height": 357
        }
      },
      "source": [
        "print(\"Classification Report(Train)\")\n",
        "print(classification_report(y_train, y_pred_tr))\n",
        "print(\"Classification Report(Test)\")\n",
        "print(classification_report(y_test, y_pred))"
      ],
      "execution_count": 0,
      "outputs": [
        {
          "output_type": "stream",
          "text": [
            "Classification Report(Train)\n",
            "              precision    recall  f1-score   support\n",
            "\n",
            "           0       0.99      0.98      0.98      3769\n",
            "           1       1.00      1.00      1.00     22639\n",
            "\n",
            "    accuracy                           1.00     26408\n",
            "   macro avg       1.00      0.99      0.99     26408\n",
            "weighted avg       1.00      1.00      1.00     26408\n",
            "\n",
            "Classification Report(Test)\n",
            "              precision    recall  f1-score   support\n",
            "\n",
            "           0       0.86      0.63      0.73      1643\n",
            "           1       0.94      0.98      0.96      9676\n",
            "\n",
            "    accuracy                           0.93     11319\n",
            "   macro avg       0.90      0.80      0.84     11319\n",
            "weighted avg       0.93      0.93      0.93     11319\n",
            "\n"
          ],
          "name": "stdout"
        }
      ]
    },
    {
      "cell_type": "markdown",
      "metadata": {
        "id": "fyo8Te0viKrI",
        "colab_type": "text"
      },
      "source": [
        "There is a slight improvement with the random forest compared to the logistic model. "
      ]
    },
    {
      "cell_type": "markdown",
      "metadata": {
        "id": "1qDLYvSELoRk",
        "colab_type": "text"
      },
      "source": [
        "**SVM**"
      ]
    },
    {
      "cell_type": "code",
      "metadata": {
        "id": "ZHGf7Ko-LcaF",
        "colab_type": "code",
        "colab": {}
      },
      "source": [
        "from sklearn.svm import SVC\n",
        "svm_clf = SVC()\n",
        "svm_clf.fit(x_train, y_train) \n",
        "predsvm=svm_clf.predict(x_test)"
      ],
      "execution_count": 0,
      "outputs": []
    },
    {
      "cell_type": "code",
      "metadata": {
        "id": "TmthptzpHZDw",
        "colab_type": "code",
        "outputId": "3779fe4f-eae8-459a-c58d-5ae36bbfd71f",
        "colab": {
          "base_uri": "https://localhost:8080/",
          "height": 51
        }
      },
      "source": [
        "print('Test accuracy', sum(y_test == y_pred)/len(y_test))\n",
        "print('Train accuracy', sum(y_train == y_pred_tr)/len(y_train))"
      ],
      "execution_count": 0,
      "outputs": [
        {
          "output_type": "stream",
          "text": [
            "Test accuracy 0.9311776658715434\n",
            "Train accuracy 0.9957209936382915\n"
          ],
          "name": "stdout"
        }
      ]
    },
    {
      "cell_type": "code",
      "metadata": {
        "id": "msJXf5GWHaTf",
        "colab_type": "code",
        "outputId": "dcb905fc-fd6d-4cc6-d03c-e095520893fb",
        "colab": {
          "base_uri": "https://localhost:8080/",
          "height": 357
        }
      },
      "source": [
        "print(\"Classification Report(Train)\")\n",
        "print(classification_report(y_train, y_pred_tr))\n",
        "print(\"Classification Report(Test)\")\n",
        "print(classification_report(y_test, y_pred))"
      ],
      "execution_count": 0,
      "outputs": [
        {
          "output_type": "stream",
          "text": [
            "Classification Report(Train)\n",
            "              precision    recall  f1-score   support\n",
            "\n",
            "           0       0.99      0.98      0.98      3769\n",
            "           1       1.00      1.00      1.00     22639\n",
            "\n",
            "    accuracy                           1.00     26408\n",
            "   macro avg       1.00      0.99      0.99     26408\n",
            "weighted avg       1.00      1.00      1.00     26408\n",
            "\n",
            "Classification Report(Test)\n",
            "              precision    recall  f1-score   support\n",
            "\n",
            "           0       0.86      0.63      0.73      1643\n",
            "           1       0.94      0.98      0.96      9676\n",
            "\n",
            "    accuracy                           0.93     11319\n",
            "   macro avg       0.90      0.80      0.84     11319\n",
            "weighted avg       0.93      0.93      0.93     11319\n",
            "\n"
          ],
          "name": "stdout"
        }
      ]
    },
    {
      "cell_type": "markdown",
      "metadata": {
        "id": "tEojG2pyN5HG",
        "colab_type": "text"
      },
      "source": [
        "**Naive Bias**"
      ]
    },
    {
      "cell_type": "code",
      "metadata": {
        "id": "SmSKRMR1Nnw7",
        "colab_type": "code",
        "outputId": "2fc035d7-eb93-43b9-848f-be9d13fb20b6",
        "colab": {
          "base_uri": "https://localhost:8080/",
          "height": 289
        }
      },
      "source": [
        "from sklearn.linear_model import LogisticRegression\n",
        "from sklearn.metrics import classification_report,confusion_matrix\n",
        "from sklearn.metrics import mean_squared_error, r2_score, mean_absolute_error\n",
        "from sklearn.naive_bayes import GaussianNB\n",
        "from sklearn.naive_bayes import MultinomialNB\n",
        "\n",
        "from sklearn.metrics import accuracy_score\n",
        "gnb = MultinomialNB()\n",
        "gnb.fit(x_train,y_train)\n",
        "y_pred = gnb.predict(x_test)\n",
        "print(classification_report(y_test,y_pred))\n",
        "cnfmtx=confusion_matrix(y_test,y_pred)\n",
        "print(\"Confusion matrix:\\n\",cnfmtx)\n",
        "\n",
        "print(\"Mean squared error: %.2f\" %mean_squared_error(y_test, y_pred))\n",
        "print(\"Mean absolute error: %.2f\" %mean_absolute_error(y_test, y_pred))\n",
        "print('Root Mean Squared Error: %.2f ' %np.sqrt(mean_squared_error(y_test, y_pred)))\n",
        "print('Accuracy :', accuracy_score(y_test,y_pred))"
      ],
      "execution_count": 0,
      "outputs": [
        {
          "output_type": "stream",
          "text": [
            "              precision    recall  f1-score   support\n",
            "\n",
            "           0       0.95      0.25      0.40      1643\n",
            "           1       0.89      1.00      0.94      9676\n",
            "\n",
            "    accuracy                           0.89     11319\n",
            "   macro avg       0.92      0.62      0.67     11319\n",
            "weighted avg       0.90      0.89      0.86     11319\n",
            "\n",
            "Confusion matrix:\n",
            " [[ 414 1229]\n",
            " [  20 9656]]\n",
            "Mean squared error: 0.11\n",
            "Mean absolute error: 0.11\n",
            "Root Mean Squared Error: 0.33 \n",
            "Accuracy : 0.8896545631239509\n"
          ],
          "name": "stdout"
        }
      ]
    },
    {
      "cell_type": "code",
      "metadata": {
        "id": "Yxbgwp5ARvgi",
        "colab_type": "code",
        "outputId": "9d73ecb2-bcfa-466e-8ee4-a35d778c68bf",
        "colab": {
          "base_uri": "https://localhost:8080/",
          "height": 51
        }
      },
      "source": [
        "print('Test accuracy', sum(y_test == y_pred)/len(y_test))\n",
        "print('Train accuracy', sum(y_train == y_pred_tr)/len(y_train))"
      ],
      "execution_count": 0,
      "outputs": [
        {
          "output_type": "stream",
          "text": [
            "Test accuracy 0.8896545631239509\n",
            "Train accuracy 0.9957209936382915\n"
          ],
          "name": "stdout"
        }
      ]
    },
    {
      "cell_type": "markdown",
      "metadata": {
        "id": "EQ-f2xhWkSql",
        "colab_type": "text"
      },
      "source": [
        "\n",
        "\n",
        "**Conclusions**\n",
        "\n",
        "From the models evaluated we can say that the three label sentiment analysis provieds good enough results. However, it can be improved by balancing the dataset. Either increasing the number of negative and neutral labels or by decreasing the positive labels. The f1, precision and recall overall score of the latest Random Forest model has good results.\n"
      ]
    },
    {
      "cell_type": "markdown",
      "metadata": {
        "id": "B8a5bg3okX8E",
        "colab_type": "text"
      },
      "source": [
        "\n",
        "**RNN**\n",
        "\n",
        "Recurrent Neural Network(RNN) are a type of Neural Network where the output from previous step are fed as input to the current step.Sentiment analysis can obtain wonderful results using RNN(tensor flow). Please find the code below with the training process.\n",
        "Data preprocessing\n",
        "\n",
        "RNN input requires array data type, therefore, we convert the “Reviews” into the X array and “Sentiment” into the y array accordingly.[latest]"
      ]
    },
    {
      "cell_type": "markdown",
      "metadata": {
        "id": "Yhb3S8x_xwUh",
        "colab_type": "text"
      },
      "source": [
        "### Delta and Latest Work AV - Sprint 3 Summary"
      ]
    },
    {
      "cell_type": "code",
      "metadata": {
        "id": "xcUWH4x6ka6v",
        "colab_type": "code",
        "colab": {}
      },
      "source": [
        "from keras.preprocessing.sequence import pad_sequences\n",
        "from keras.preprocessing.text import Tokenizer\n",
        "from keras.models import Sequential\n",
        "from keras.layers import Dense, Embedding, GRU, Dropout, LSTM\n",
        "from keras.callbacks import EarlyStopping\n",
        "from keras.optimizers import Adam\n",
        "import warnings\n",
        "warnings.filterwarnings('ignore')"
      ],
      "execution_count": 0,
      "outputs": []
    },
    {
      "cell_type": "code",
      "metadata": {
        "id": "uF2OxXm_knH_",
        "colab_type": "code",
        "colab": {}
      },
      "source": [
        "t = Tokenizer()"
      ],
      "execution_count": 0,
      "outputs": []
    },
    {
      "cell_type": "code",
      "metadata": {
        "id": "XqOQCiRVko16",
        "colab_type": "code",
        "colab": {}
      },
      "source": [
        "#the max length is aroun 1000 character. I would keep it shorter. \n",
        "max_length = max([len(s.split()) for s in final[\"reviews.text\"] ])\n",
        "max_legth=max_length \n"
      ],
      "execution_count": 0,
      "outputs": []
    },
    {
      "cell_type": "code",
      "metadata": {
        "id": "c600ZnZjk5u2",
        "colab_type": "code",
        "colab": {}
      },
      "source": [
        "vocab_size = len(t.word_index)+1"
      ],
      "execution_count": 0,
      "outputs": []
    },
    {
      "cell_type": "code",
      "metadata": {
        "id": "zsy5G9aEky1W",
        "colab_type": "code",
        "colab": {}
      },
      "source": [
        "X_train, X_test, y_train, y_test = train_test_split(final[\"reviews.text\"], final[\"sentiment\"], test_size=0.25)"
      ],
      "execution_count": 0,
      "outputs": []
    },
    {
      "cell_type": "code",
      "metadata": {
        "id": "S3fAqavJk9pb",
        "colab_type": "code",
        "colab": {}
      },
      "source": [
        "#X_train = t.texts_to_sequences(X_train)\n",
        "#X_test = t.texts_to_sequences(X_test)"
      ],
      "execution_count": 0,
      "outputs": []
    },
    {
      "cell_type": "code",
      "metadata": {
        "id": "fKQdEZU_k_2Y",
        "colab_type": "code",
        "colab": {}
      },
      "source": [
        "#X_train = pad_sequences(X_train, maxlen=max_length, padding = \"post\",truncating = \"post\")\n",
        "#X_test = pad_sequences(X_test, maxlen=max_length, padding = \"post\", truncating = \"post\")"
      ],
      "execution_count": 0,
      "outputs": []
    },
    {
      "cell_type": "code",
      "metadata": {
        "id": "sZ99Tx7MlB0X",
        "colab_type": "code",
        "outputId": "45e395e5-ab5d-44a6-afbe-7326e9a3a5ee",
        "colab": {
          "base_uri": "https://localhost:8080/",
          "height": 34
        }
      },
      "source": [
        "#X_train = X_train[0:28290]\n",
        "#y_train = y_train[0:28290]\n",
        "#X_test = X_test[0:9430]\n",
        "#y_test = y_test[0:9430]\n",
        "#len(y_test),len(X_test),len(X_train),len(y_train)\n",
        "\n"
      ],
      "execution_count": 0,
      "outputs": [
        {
          "output_type": "execute_result",
          "data": {
            "text/plain": [
              "(9430, 9430, 28290, 28290)"
            ]
          },
          "metadata": {
            "tags": []
          },
          "execution_count": 81
        }
      ]
    },
    {
      "cell_type": "code",
      "metadata": {
        "id": "NLBsnGtjlEyq",
        "colab_type": "code",
        "colab": {}
      },
      "source": [
        "#from keras.utils import np_utils #converting to categorical\n",
        "##y_train = np_utils.to_categorical(y_train, num_classes=3)\n",
        "y_test = np_utils.to_categorical(y_test, num_classes=3)"
      ],
      "execution_count": 0,
      "outputs": []
    },
    {
      "cell_type": "markdown",
      "metadata": {
        "id": "AbndW5FDtcqi",
        "colab_type": "text"
      },
      "source": [
        "Reading and displaying LL"
      ]
    },
    {
      "cell_type": "markdown",
      "metadata": {
        "id": "NJ77vzZY-kiL",
        "colab_type": "text"
      },
      "source": [
        "# Amalgamation /Data Enrichment 1\n",
        "I amalgamated sentiment column with the Liar Liar after performing all the required preprocessing and Extracted Features on the Amazon reviews dataset "
      ]
    },
    {
      "cell_type": "code",
      "metadata": {
        "id": "FomSxkGxH8cF",
        "colab_type": "code",
        "outputId": "17d708c6-92d8-41d1-c864-fc12e9f37b14",
        "colab": {
          "base_uri": "https://localhost:8080/",
          "height": 1000
        }
      },
      "source": [
        "cols = [\"ID\", \"label\", \"statement\", \"subject\", \"speaker\", \"job\", \"state\", \"party\", \"barely_true_cts\",\n",
        "        \"false_cts\", \"half_true_cts\", \"mostly_true_cts\", \"pants_on_fire_cts\", \"context\"]\n",
        "train_opinion = pd.read_csv(\"/content/drive/My Drive/AlternusVeraDataSets2019/Insurgents/Liar-Liar-Dataset/train.tsv\", sep='\\t' , header=None)\n",
        "train_opinion.columns=cols\n",
        "train_opinion.head(10)\n",
        "\n"
      ],
      "execution_count": 0,
      "outputs": [
        {
          "output_type": "execute_result",
          "data": {
            "text/html": [
              "<div>\n",
              "<style scoped>\n",
              "    .dataframe tbody tr th:only-of-type {\n",
              "        vertical-align: middle;\n",
              "    }\n",
              "\n",
              "    .dataframe tbody tr th {\n",
              "        vertical-align: top;\n",
              "    }\n",
              "\n",
              "    .dataframe thead th {\n",
              "        text-align: right;\n",
              "    }\n",
              "</style>\n",
              "<table border=\"1\" class=\"dataframe\">\n",
              "  <thead>\n",
              "    <tr style=\"text-align: right;\">\n",
              "      <th></th>\n",
              "      <th>ID</th>\n",
              "      <th>label</th>\n",
              "      <th>statement</th>\n",
              "      <th>subject</th>\n",
              "      <th>speaker</th>\n",
              "      <th>job</th>\n",
              "      <th>state</th>\n",
              "      <th>party</th>\n",
              "      <th>barely_true_cts</th>\n",
              "      <th>false_cts</th>\n",
              "      <th>half_true_cts</th>\n",
              "      <th>mostly_true_cts</th>\n",
              "      <th>pants_on_fire_cts</th>\n",
              "      <th>context</th>\n",
              "    </tr>\n",
              "  </thead>\n",
              "  <tbody>\n",
              "    <tr>\n",
              "      <th>0</th>\n",
              "      <td>2635.json</td>\n",
              "      <td>false</td>\n",
              "      <td>Says the Annies List political group supports ...</td>\n",
              "      <td>abortion</td>\n",
              "      <td>dwayne-bohac</td>\n",
              "      <td>State representative</td>\n",
              "      <td>Texas</td>\n",
              "      <td>republican</td>\n",
              "      <td>0.0</td>\n",
              "      <td>1.0</td>\n",
              "      <td>0.0</td>\n",
              "      <td>0.0</td>\n",
              "      <td>0.0</td>\n",
              "      <td>a mailer</td>\n",
              "    </tr>\n",
              "    <tr>\n",
              "      <th>1</th>\n",
              "      <td>10540.json</td>\n",
              "      <td>half-true</td>\n",
              "      <td>When did the decline of coal start? It started...</td>\n",
              "      <td>energy,history,job-accomplishments</td>\n",
              "      <td>scott-surovell</td>\n",
              "      <td>State delegate</td>\n",
              "      <td>Virginia</td>\n",
              "      <td>democrat</td>\n",
              "      <td>0.0</td>\n",
              "      <td>0.0</td>\n",
              "      <td>1.0</td>\n",
              "      <td>1.0</td>\n",
              "      <td>0.0</td>\n",
              "      <td>a floor speech.</td>\n",
              "    </tr>\n",
              "    <tr>\n",
              "      <th>2</th>\n",
              "      <td>324.json</td>\n",
              "      <td>mostly-true</td>\n",
              "      <td>Hillary Clinton agrees with John McCain \"by vo...</td>\n",
              "      <td>foreign-policy</td>\n",
              "      <td>barack-obama</td>\n",
              "      <td>President</td>\n",
              "      <td>Illinois</td>\n",
              "      <td>democrat</td>\n",
              "      <td>70.0</td>\n",
              "      <td>71.0</td>\n",
              "      <td>160.0</td>\n",
              "      <td>163.0</td>\n",
              "      <td>9.0</td>\n",
              "      <td>Denver</td>\n",
              "    </tr>\n",
              "    <tr>\n",
              "      <th>3</th>\n",
              "      <td>1123.json</td>\n",
              "      <td>false</td>\n",
              "      <td>Health care reform legislation is likely to ma...</td>\n",
              "      <td>health-care</td>\n",
              "      <td>blog-posting</td>\n",
              "      <td>NaN</td>\n",
              "      <td>NaN</td>\n",
              "      <td>none</td>\n",
              "      <td>7.0</td>\n",
              "      <td>19.0</td>\n",
              "      <td>3.0</td>\n",
              "      <td>5.0</td>\n",
              "      <td>44.0</td>\n",
              "      <td>a news release</td>\n",
              "    </tr>\n",
              "    <tr>\n",
              "      <th>4</th>\n",
              "      <td>9028.json</td>\n",
              "      <td>half-true</td>\n",
              "      <td>The economic turnaround started at the end of ...</td>\n",
              "      <td>economy,jobs</td>\n",
              "      <td>charlie-crist</td>\n",
              "      <td>NaN</td>\n",
              "      <td>Florida</td>\n",
              "      <td>democrat</td>\n",
              "      <td>15.0</td>\n",
              "      <td>9.0</td>\n",
              "      <td>20.0</td>\n",
              "      <td>19.0</td>\n",
              "      <td>2.0</td>\n",
              "      <td>an interview on CNN</td>\n",
              "    </tr>\n",
              "    <tr>\n",
              "      <th>5</th>\n",
              "      <td>12465.json</td>\n",
              "      <td>true</td>\n",
              "      <td>The Chicago Bears have had more starting quart...</td>\n",
              "      <td>education</td>\n",
              "      <td>robin-vos</td>\n",
              "      <td>Wisconsin Assembly speaker</td>\n",
              "      <td>Wisconsin</td>\n",
              "      <td>republican</td>\n",
              "      <td>0.0</td>\n",
              "      <td>3.0</td>\n",
              "      <td>2.0</td>\n",
              "      <td>5.0</td>\n",
              "      <td>1.0</td>\n",
              "      <td>a an online opinion-piece</td>\n",
              "    </tr>\n",
              "    <tr>\n",
              "      <th>6</th>\n",
              "      <td>2342.json</td>\n",
              "      <td>barely-true</td>\n",
              "      <td>Jim Dunnam has not lived in the district he re...</td>\n",
              "      <td>candidates-biography</td>\n",
              "      <td>republican-party-texas</td>\n",
              "      <td>NaN</td>\n",
              "      <td>Texas</td>\n",
              "      <td>republican</td>\n",
              "      <td>3.0</td>\n",
              "      <td>1.0</td>\n",
              "      <td>1.0</td>\n",
              "      <td>3.0</td>\n",
              "      <td>1.0</td>\n",
              "      <td>a press release.</td>\n",
              "    </tr>\n",
              "    <tr>\n",
              "      <th>7</th>\n",
              "      <td>153.json</td>\n",
              "      <td>half-true</td>\n",
              "      <td>I'm the only person on this stage who has work...</td>\n",
              "      <td>ethics</td>\n",
              "      <td>barack-obama</td>\n",
              "      <td>President</td>\n",
              "      <td>Illinois</td>\n",
              "      <td>democrat</td>\n",
              "      <td>70.0</td>\n",
              "      <td>71.0</td>\n",
              "      <td>160.0</td>\n",
              "      <td>163.0</td>\n",
              "      <td>9.0</td>\n",
              "      <td>a Democratic debate in Philadelphia, Pa.</td>\n",
              "    </tr>\n",
              "    <tr>\n",
              "      <th>8</th>\n",
              "      <td>5602.json</td>\n",
              "      <td>half-true</td>\n",
              "      <td>However, it took $19.5 million in Oregon Lotte...</td>\n",
              "      <td>jobs</td>\n",
              "      <td>oregon-lottery</td>\n",
              "      <td>NaN</td>\n",
              "      <td>NaN</td>\n",
              "      <td>organization</td>\n",
              "      <td>0.0</td>\n",
              "      <td>0.0</td>\n",
              "      <td>1.0</td>\n",
              "      <td>0.0</td>\n",
              "      <td>1.0</td>\n",
              "      <td>a website</td>\n",
              "    </tr>\n",
              "    <tr>\n",
              "      <th>9</th>\n",
              "      <td>9741.json</td>\n",
              "      <td>mostly-true</td>\n",
              "      <td>Says GOP primary opponents Glenn Grothman and ...</td>\n",
              "      <td>energy,message-machine-2014,voting-record</td>\n",
              "      <td>duey-stroebel</td>\n",
              "      <td>State representative</td>\n",
              "      <td>Wisconsin</td>\n",
              "      <td>republican</td>\n",
              "      <td>0.0</td>\n",
              "      <td>0.0</td>\n",
              "      <td>0.0</td>\n",
              "      <td>1.0</td>\n",
              "      <td>0.0</td>\n",
              "      <td>an online video</td>\n",
              "    </tr>\n",
              "  </tbody>\n",
              "</table>\n",
              "</div>"
            ],
            "text/plain": [
              "           ID  ...                                   context\n",
              "0   2635.json  ...                                  a mailer\n",
              "1  10540.json  ...                           a floor speech.\n",
              "2    324.json  ...                                    Denver\n",
              "3   1123.json  ...                            a news release\n",
              "4   9028.json  ...                       an interview on CNN\n",
              "5  12465.json  ...                 a an online opinion-piece\n",
              "6   2342.json  ...                          a press release.\n",
              "7    153.json  ...  a Democratic debate in Philadelphia, Pa.\n",
              "8   5602.json  ...                                a website \n",
              "9   9741.json  ...                           an online video\n",
              "\n",
              "[10 rows x 14 columns]"
            ]
          },
          "metadata": {
            "tags": []
          },
          "execution_count": 239
        }
      ]
    },
    {
      "cell_type": "code",
      "metadata": {
        "id": "2TXw9vKwc4wv",
        "colab_type": "code",
        "colab": {}
      },
      "source": [
        "import nltk\n",
        "nltk.download('all')"
      ],
      "execution_count": 0,
      "outputs": []
    },
    {
      "cell_type": "code",
      "metadata": {
        "id": "jpf8Whymnf7E",
        "colab_type": "code",
        "colab": {}
      },
      "source": [
        "def cleaning(raw_news):\n",
        "    import nltk\n",
        "    \n",
        "    # 1. Remove non-letters/Special Characters and Punctuations\n",
        "    news = re.sub(\"[^a-zA-Z]\", \" \", raw_news)\n",
        "    \n",
        "    # 2. Convert to lower case.\n",
        "    news =  news.lower()\n",
        "    \n",
        "    # 3. Tokenize.\n",
        "    news_words = nltk.word_tokenize( news)\n",
        "    \n",
        "    # 4. Convert the stopwords list to \"set\" data type.\n",
        "    stops = set(nltk.corpus.stopwords.words(\"english\"))\n",
        "    \n",
        "    # 5. Remove stop words. \n",
        "    words = [w for w in  news_words  if not w in stops]\n",
        "    \n",
        "    # 6. Lemmentize \n",
        "    wordnet_lem = [ WordNetLemmatizer().lemmatize(w) for w in words ]\n",
        "    \n",
        "    # 7. Stemming\n",
        "    stems = [nltk.stem.SnowballStemmer('english').stem(w) for w in wordnet_lem ]\n",
        "    \n",
        "    # 8. Join the stemmed words back into one string separated by space, and return the result.\n",
        "    return \" \".join(stems)"
      ],
      "execution_count": 0,
      "outputs": []
    },
    {
      "cell_type": "code",
      "metadata": {
        "id": "WNmxZQBdnj4y",
        "colab_type": "code",
        "colab": {}
      },
      "source": [
        "train_opinion['clean'] = train_opinion[\"statement\"].apply(cleaning)"
      ],
      "execution_count": 0,
      "outputs": []
    },
    {
      "cell_type": "code",
      "metadata": {
        "id": "tnro6VjsoXXr",
        "colab_type": "code",
        "colab": {}
      },
      "source": [
        "senti=train_opinion['clean']"
      ],
      "execution_count": 0,
      "outputs": []
    },
    {
      "cell_type": "code",
      "metadata": {
        "id": "GmQMKAXjqLkz",
        "colab_type": "code",
        "colab": {}
      },
      "source": [
        "from sklearn.feature_extraction.text import TfidfVectorizer\n",
        "def vectorizer(X_train):\n",
        "    vectorizer = TfidfVectorizer(max_df= 0.9).fit(X_train)\n",
        "    return vectorizer"
      ],
      "execution_count": 0,
      "outputs": []
    },
    {
      "cell_type": "code",
      "metadata": {
        "id": "juJUZ6xRqT8l",
        "colab_type": "code",
        "colab": {}
      },
      "source": [
        "v = vectorizer(train_opinion)\n",
        "test_liar = v.fit_transform(train_opinion['clean'].values)\n"
      ],
      "execution_count": 0,
      "outputs": []
    },
    {
      "cell_type": "code",
      "metadata": {
        "id": "mc1R1rBOoUfa",
        "colab_type": "code",
        "colab": {}
      },
      "source": [
        ""
      ],
      "execution_count": 0,
      "outputs": []
    },
    {
      "cell_type": "code",
      "metadata": {
        "id": "B-kvnfARHGEz",
        "colab_type": "code",
        "colab": {}
      },
      "source": [
        "from sklearn.feature_extraction.text import TfidfTransformer\n",
        "tfidfV = TfidfTransformer()\n",
        "train_tfidf = tfidfV.fit_transform(test_liar)"
      ],
      "execution_count": 0,
      "outputs": []
    },
    {
      "cell_type": "code",
      "metadata": {
        "id": "ybZoZV949Wc_",
        "colab_type": "code",
        "outputId": "21407674-790c-4ec9-bbe9-b69ed05a8f3d",
        "colab": {
          "base_uri": "https://localhost:8080/",
          "height": 51
        }
      },
      "source": [
        "test_liar"
      ],
      "execution_count": 0,
      "outputs": [
        {
          "output_type": "execute_result",
          "data": {
            "text/plain": [
              "<10240x7607 sparse matrix of type '<class 'numpy.float64'>'\n",
              "\twith 103299 stored elements in Compressed Sparse Row format>"
            ]
          },
          "metadata": {
            "tags": []
          },
          "execution_count": 250
        }
      ]
    },
    {
      "cell_type": "markdown",
      "metadata": {
        "id": "rukQEBM-_3pn",
        "colab_type": "text"
      },
      "source": [
        "Liar Liar Dataset Opinion Mining:\n",
        "https://colab.research.google.com/drive/1r_zeFMHh-7qeEWkPNSmMn3_2BuD22XNN"
      ]
    },
    {
      "cell_type": "code",
      "metadata": {
        "id": "zgX6-hLbcow7",
        "colab_type": "code",
        "colab": {}
      },
      "source": [
        "#pred = lr_classifier.predict_proba(np.array[[test_liar.data]])\n"
      ],
      "execution_count": 0,
      "outputs": []
    },
    {
      "cell_type": "code",
      "metadata": {
        "id": "CGJrSw2CbQNV",
        "colab_type": "code",
        "outputId": "a46210b1-fdb0-4827-9f18-e4a8022eb546",
        "colab": {
          "base_uri": "https://localhost:8080/",
          "height": 51
        }
      },
      "source": [
        "import warnings\n",
        "import nltk.sentiment\n",
        "warnings.filterwarnings('ignore')\n",
        "import nltk\n",
        "nltk.download('vader_lexicon')\n",
        "\n",
        "senti = nltk.sentiment.vader.SentimentIntensityAnalyzer()\n",
        "\n",
        "def print_sentiment_scores(sentence):\n",
        "    snt = senti.polarity_scores(sentence)\n",
        "    print(\"{:-<40} \\n{}\".format(sentence, str(snt)))"
      ],
      "execution_count": 0,
      "outputs": [
        {
          "output_type": "stream",
          "text": [
            "[nltk_data] Downloading package vader_lexicon to /root/nltk_data...\n",
            "[nltk_data]   Package vader_lexicon is already up-to-date!\n"
          ],
          "name": "stdout"
        }
      ]
    },
    {
      "cell_type": "code",
      "metadata": {
        "id": "hJ57UT12bUQu",
        "colab_type": "code",
        "colab": {}
      },
      "source": [
        "def get_vader_polarity(snt):\n",
        "    if not snt:\n",
        "        return None\n",
        "    elif snt['neg'] > snt['pos'] and snt['neg'] > snt['neu']:\n",
        "        return -1\n",
        "    elif snt['pos'] > snt['neg'] and snt['pos'] > snt['neu']:\n",
        "        return 1\n",
        "    else:\n",
        "        return 0"
      ],
      "execution_count": 0,
      "outputs": []
    },
    {
      "cell_type": "code",
      "metadata": {
        "id": "vAh37vyqbZSK",
        "colab_type": "code",
        "colab": {}
      },
      "source": [
        "#Function to determine if a text is negative(-1) or postive (1) or neutral (0)\n",
        "def get_polarity_type(sentence):\n",
        "    sentimentVector = []\n",
        "    snt = senti.polarity_scores(sentence)\n",
        "    sentimentVector.append(get_vader_polarity(snt))\n",
        "    sentimentVector.append(snt['neg'])\n",
        "    sentimentVector.append(snt['neu'])\n",
        "    sentimentVector.append(snt['pos'])\n",
        "    sentimentVector.append(snt['compound'])\n",
        "    \n",
        "    #print(sentimentVector)\n",
        "    return sentimentVector"
      ],
      "execution_count": 0,
      "outputs": []
    },
    {
      "cell_type": "code",
      "metadata": {
        "id": "vMmw6WR_XMLo",
        "colab_type": "code",
        "outputId": "a3a44fd4-76ec-4370-bc6d-4fe64409bf9a",
        "colab": {
          "base_uri": "https://localhost:8080/",
          "height": 51
        }
      },
      "source": [
        "import pandas as pd\n",
        "from sklearn.pipeline import Pipeline\n",
        "from sklearn.linear_model import  LogisticRegression\n",
        "from sklearn.ensemble import RandomForestClassifier\n",
        "from sklearn.feature_extraction.text import TfidfVectorizer\n",
        "from nltk.stem.porter import *\n",
        "from sklearn import metrics\n",
        "import warnings\n",
        "warnings.filterwarnings('ignore')\n",
        "\n",
        "class SentimentAnalysis():\n",
        "\n",
        "    def __init__(self):        \n",
        "\n",
        "        columnNames = [\"jsonid\", \"label\", \"headline_text\", \"subject\", \"speaker\", \"speaker_job_title\", \"state_info\", \"party_affiliation\", \"barely_true_counts\", \"false_counts\", \"half_true_counts\", \"mostly_true_counts\", \"pants_on_fire_counts\", \"context\",\"clean\", \"sentiment_vector\",\"vader_polarity\", \"sentiment_score\"]\n",
        "        dataTrain = pd.read_csv('/content/drive/My Drive/AlternusVeraDataSets2019/Insurgents/Sandhya/Liar_Liar/train_sentiment.csv', sep=',', header=None, names = columnNames)\n",
        "        dataTest = pd.read_csv('/content/drive/My Drive/AlternusVeraDataSets2019/Insurgents/Sandhya/Liar_Liar/test_sentiment.csv', sep=',', header=None, names = columnNames)\n",
        "\n",
        "        dataTrain = dataTrain.iloc[1:] \n",
        "        dataTest = dataTest.iloc[1:]\n",
        "    \n",
        "    \n",
        "        tfidfV = TfidfVectorizer(stop_words='english', min_df=5, max_df=30, use_idf=True, smooth_idf=True, token_pattern=u'(?ui)\\\\b\\\\w*[a-z]+\\\\w*\\\\b')\n",
        "\n",
        "        \n",
        "        self.ranFor_pipeline = Pipeline([\n",
        "                ('LogRCV', tfidfV),\n",
        "                ('LogR_clf',RandomForestClassifier(n_estimators=100, max_depth=8, random_state=0))\n",
        "                ])\n",
        "        \n",
        "\n",
        "        self.ranFor_pipeline.fit(dataTrain['headline_text'],dataTrain['vader_polarity'])\n",
        "        predicted_LogR = self.ranFor_pipeline.predict(dataTest['headline_text'])\n",
        "        score = metrics.accuracy_score(dataTest['vader_polarity'], predicted_LogR)\n",
        "        print(\"Sentiment Analysis  - accuracy:   %0.6f\" % score)\n",
        "        \n",
        "\n",
        "    def predict(self, text):\n",
        "        predicted = self.ranFor_pipeline.predict([text])\n",
        "        predicedProb = self.ranFor_pipeline.predict_proba([text])[:,1]\n",
        "        return bool(predicted), float(predicedProb)\n",
        "    \n",
        "    \n",
        "sa = SentimentAnalysis()\n",
        "sa.predict(\"Says the Annies List political group supports third-trimester abortions on demand.\")"
      ],
      "execution_count": 0,
      "outputs": [
        {
          "output_type": "stream",
          "text": [
            "Sentiment Analysis  - accuracy:   0.960784\n"
          ],
          "name": "stdout"
        },
        {
          "output_type": "execute_result",
          "data": {
            "text/plain": [
              "(True, 0.9811315920552556)"
            ]
          },
          "metadata": {
            "tags": []
          },
          "execution_count": 255
        }
      ]
    },
    {
      "cell_type": "code",
      "metadata": {
        "id": "3wGtA5TMANrj",
        "colab_type": "code",
        "outputId": "dd313a81-d127-48ab-c9bd-93ba72f9d4fd",
        "colab": {
          "base_uri": "https://localhost:8080/",
          "height": 351
        }
      },
      "source": [
        "import pandas as pd\n",
        "from sklearn.pipeline import Pipeline\n",
        "from sklearn.linear_model import  LogisticRegression\n",
        "from sklearn.ensemble import RandomForestClassifier\n",
        "from sklearn.feature_extraction.text import TfidfVectorizer\n",
        "from nltk.stem.porter import *\n",
        "from sklearn import metrics\n",
        "from sklearn.svm import SVC\n",
        "import warnings\n",
        "warnings.filterwarnings('ignore')\n",
        "\n",
        "class SentimentAnalysis():\n",
        "\n",
        "    def __init__(self):        \n",
        "\n",
        "        columnNames = [\"jsonid\", \"label\", \"headline_text\", \"subject\", \"speaker\", \"speaker_job_title\", \"state_info\", \"party_affiliation\", \"barely_true_counts\", \"false_counts\", \"half_true_counts\", \"mostly_true_counts\", \"pants_on_fire_counts\", \"context\",\"clean\", \"sentiment_vector\",\"vader_polarity\", \"sentiment_score\"]\n",
        "        dataTrain = pd.read_csv('/content/drive/My Drive/AlternusVeraDataSets2019/Insurgents/Sandhya/Liar_Liar/train_sentiment.csv', sep=',', header=None, names = columnNames)\n",
        "        dataTest = pd.read_csv('/content/drive/My Drive/AlternusVeraDataSets2019/Insurgents/Sandhya/Liar_Liar/test_sentiment.csv', sep=',', header=None, names = columnNames)\n",
        "\n",
        "        dataTrain = dataTrain.iloc[1:] \n",
        "        dataTest = dataTest.iloc[1:]\n",
        "    \n",
        "    \n",
        "        tfidfV = TfidfVectorizer(stop_words='english', min_df=5, max_df=30, use_idf=True, smooth_idf=True, token_pattern=u'(?ui)\\\\b\\\\w*[a-z]+\\\\w*\\\\b')\n",
        "        \n",
        "        #self.svm_pipeline = Pipeline([\n",
        "           #     ('SVM_Clf', tfidfV),\n",
        "             #   ('SVM_Clf',svm_clf(n_estimators=100, max_depth=8, random_state=0))\n",
        "             #   ])\n",
        "        \n",
        "        from sklearn.svm import LinearSVC\n",
        "        self.clf_linearSVC_pipe = Pipeline([(\"vect\", CountVectorizer()), \n",
        "                                      (\"tfidf\", TfidfTransformer()),\n",
        "                                      (\"clf_linearSVC\", LinearSVC())])\n",
        "        clf_linearSVC_pipe.fit(X_train, X_train_targetSentiment)\n",
        "\n",
        "        predictedLinearSVC = clf_linearSVC_pipe.predict(X_test)\n",
        "        np.mean(predictedLinearSVC == X_test_targetSentiment)\n",
        "        score = metrics.accuracy_score(dataTest['vader_polarity'], predictedLinearSVC)\n",
        "\n",
        "       # self.svm_pipeline.fit(dataTrain['headline_text'],dataTrain['vader_polarity'])\n",
        "       # predicted_svm = self.svm_pipeline.predict(dataTest['headline_text'])\n",
        "        #score = metrics.accuracy_score(dataTest['vader_polarity'], predicted_svm)\n",
        "        print(\"Sentiment Analysis  - accuracy:   %0.6f\" % score)\n",
        "        \n",
        "\n",
        "    def predict(self, text):\n",
        "        predicted = self.svm_pipeline.predict([text])\n",
        "        predicedProb = self.svm_pipeline.predict_proba([text])[:,1]\n",
        "        return bool(predicted), float(predicedProb)\n",
        "    \n",
        "    \n",
        "sa = SentimentAnalysis()\n",
        "sa.predict(\"Says the Annies List political group supports third-trimester abortions on demand.\")\n",
        "\n",
        "\n",
        "\n"
      ],
      "execution_count": 0,
      "outputs": [
        {
          "output_type": "error",
          "ename": "NameError",
          "evalue": "ignored",
          "traceback": [
            "\u001b[0;31m---------------------------------------------------------------------------\u001b[0m",
            "\u001b[0;31mNameError\u001b[0m                                 Traceback (most recent call last)",
            "\u001b[0;32m<ipython-input-298-6e21b300ca66>\u001b[0m in \u001b[0;36m<module>\u001b[0;34m()\u001b[0m\n\u001b[1;32m     51\u001b[0m \u001b[0;34m\u001b[0m\u001b[0m\n\u001b[1;32m     52\u001b[0m \u001b[0;34m\u001b[0m\u001b[0m\n\u001b[0;32m---> 53\u001b[0;31m \u001b[0msa\u001b[0m \u001b[0;34m=\u001b[0m \u001b[0mSentimentAnalysis\u001b[0m\u001b[0;34m(\u001b[0m\u001b[0;34m)\u001b[0m\u001b[0;34m\u001b[0m\u001b[0;34m\u001b[0m\u001b[0m\n\u001b[0m\u001b[1;32m     54\u001b[0m \u001b[0msa\u001b[0m\u001b[0;34m.\u001b[0m\u001b[0mpredict\u001b[0m\u001b[0;34m(\u001b[0m\u001b[0;34m\"Says the Annies List political group supports third-trimester abortions on demand.\"\u001b[0m\u001b[0;34m)\u001b[0m\u001b[0;34m\u001b[0m\u001b[0;34m\u001b[0m\u001b[0m\n\u001b[1;32m     55\u001b[0m \u001b[0;34m\u001b[0m\u001b[0m\n",
            "\u001b[0;32m<ipython-input-298-6e21b300ca66>\u001b[0m in \u001b[0;36m__init__\u001b[0;34m(self)\u001b[0m\n\u001b[1;32m     33\u001b[0m                                       \u001b[0;34m(\u001b[0m\u001b[0;34m\"tfidf\"\u001b[0m\u001b[0;34m,\u001b[0m \u001b[0mTfidfTransformer\u001b[0m\u001b[0;34m(\u001b[0m\u001b[0;34m)\u001b[0m\u001b[0;34m)\u001b[0m\u001b[0;34m,\u001b[0m\u001b[0;34m\u001b[0m\u001b[0;34m\u001b[0m\u001b[0m\n\u001b[1;32m     34\u001b[0m                                       (\"clf_linearSVC\", LinearSVC())])\n\u001b[0;32m---> 35\u001b[0;31m         \u001b[0mclf_linearSVC_pipe\u001b[0m\u001b[0;34m.\u001b[0m\u001b[0mfit\u001b[0m\u001b[0;34m(\u001b[0m\u001b[0mX_train\u001b[0m\u001b[0;34m,\u001b[0m \u001b[0mX_train_targetSentiment\u001b[0m\u001b[0;34m)\u001b[0m\u001b[0;34m\u001b[0m\u001b[0;34m\u001b[0m\u001b[0m\n\u001b[0m\u001b[1;32m     36\u001b[0m \u001b[0;34m\u001b[0m\u001b[0m\n\u001b[1;32m     37\u001b[0m         \u001b[0mpredictedLinearSVC\u001b[0m \u001b[0;34m=\u001b[0m \u001b[0mclf_linearSVC_pipe\u001b[0m\u001b[0;34m.\u001b[0m\u001b[0mpredict\u001b[0m\u001b[0;34m(\u001b[0m\u001b[0mX_test\u001b[0m\u001b[0;34m)\u001b[0m\u001b[0;34m\u001b[0m\u001b[0;34m\u001b[0m\u001b[0m\n",
            "\u001b[0;31mNameError\u001b[0m: name 'clf_linearSVC_pipe' is not defined"
          ]
        }
      ]
    },
    {
      "cell_type": "code",
      "metadata": {
        "id": "v8U3cAWIb_ya",
        "colab_type": "code",
        "outputId": "f6808097-a522-440d-dcf1-35ce82b82cde",
        "colab": {
          "base_uri": "https://localhost:8080/",
          "height": 649
        }
      },
      "source": [
        "trainSenti = pd.read_csv('/content/drive/My Drive/AlternusVeraDataSets2019/Insurgents/Sandhya/Liar_Liar/train_sentiment.csv')\n",
        "testSenti = pd.read_csv('/content/drive/My Drive/AlternusVeraDataSets2019/Insurgents/Sandhya/Liar_Liar/test_sentiment.csv')\n",
        "\n",
        "print(trainSenti.shape)\n",
        "trainSenti.head()"
      ],
      "execution_count": 0,
      "outputs": [
        {
          "output_type": "stream",
          "text": [
            "(260, 19)\n"
          ],
          "name": "stdout"
        },
        {
          "output_type": "execute_result",
          "data": {
            "text/html": [
              "<div>\n",
              "<style scoped>\n",
              "    .dataframe tbody tr th:only-of-type {\n",
              "        vertical-align: middle;\n",
              "    }\n",
              "\n",
              "    .dataframe tbody tr th {\n",
              "        vertical-align: top;\n",
              "    }\n",
              "\n",
              "    .dataframe thead th {\n",
              "        text-align: right;\n",
              "    }\n",
              "</style>\n",
              "<table border=\"1\" class=\"dataframe\">\n",
              "  <thead>\n",
              "    <tr style=\"text-align: right;\">\n",
              "      <th></th>\n",
              "      <th>Unnamed: 0</th>\n",
              "      <th>jsonid</th>\n",
              "      <th>label</th>\n",
              "      <th>headline_text</th>\n",
              "      <th>subject</th>\n",
              "      <th>speaker</th>\n",
              "      <th>speakerjobtitle</th>\n",
              "      <th>stateinfo</th>\n",
              "      <th>partyaffiliation</th>\n",
              "      <th>barelytruecounts</th>\n",
              "      <th>falsecounts</th>\n",
              "      <th>halftruecounts</th>\n",
              "      <th>mostlytrueocunts</th>\n",
              "      <th>pantsonfirecounts</th>\n",
              "      <th>context</th>\n",
              "      <th>clean</th>\n",
              "      <th>sentiment_vector</th>\n",
              "      <th>vader_polarity</th>\n",
              "      <th>sentiment_score</th>\n",
              "    </tr>\n",
              "  </thead>\n",
              "  <tbody>\n",
              "    <tr>\n",
              "      <th>0</th>\n",
              "      <td>5</td>\n",
              "      <td>12465.json</td>\n",
              "      <td>true</td>\n",
              "      <td>The Chicago Bears have had more starting quart...</td>\n",
              "      <td>education</td>\n",
              "      <td>robin-vos</td>\n",
              "      <td>Wisconsin Assembly speaker</td>\n",
              "      <td>Wisconsin</td>\n",
              "      <td>republican</td>\n",
              "      <td>0.0</td>\n",
              "      <td>3.0</td>\n",
              "      <td>2.0</td>\n",
              "      <td>5.0</td>\n",
              "      <td>1.0</td>\n",
              "      <td>a an online opinion-piece</td>\n",
              "      <td>chicago bear start quarterback last year total...</td>\n",
              "      <td>[0.335, 0.6, 0.065, -0.7506]</td>\n",
              "      <td>0</td>\n",
              "      <td>-0.7506</td>\n",
              "    </tr>\n",
              "    <tr>\n",
              "      <th>1</th>\n",
              "      <td>51</td>\n",
              "      <td>13210.json</td>\n",
              "      <td>barely-true</td>\n",
              "      <td>Maggie Hassan raised tuition, making it the hi...</td>\n",
              "      <td>education</td>\n",
              "      <td>national-republican-senatorial-committee</td>\n",
              "      <td>0</td>\n",
              "      <td>0</td>\n",
              "      <td>republican</td>\n",
              "      <td>11.0</td>\n",
              "      <td>5.0</td>\n",
              "      <td>7.0</td>\n",
              "      <td>2.0</td>\n",
              "      <td>5.0</td>\n",
              "      <td>an ad</td>\n",
              "      <td>magi hassan rais tuition make highest america</td>\n",
              "      <td>[0.0, 1.0, 0.0, 0.0]</td>\n",
              "      <td>0</td>\n",
              "      <td>0.0000</td>\n",
              "    </tr>\n",
              "    <tr>\n",
              "      <th>2</th>\n",
              "      <td>97</td>\n",
              "      <td>7599.json</td>\n",
              "      <td>mostly-true</td>\n",
              "      <td>The average student in Florida, what they actu...</td>\n",
              "      <td>education</td>\n",
              "      <td>will-weatherford</td>\n",
              "      <td>State Representative</td>\n",
              "      <td>Florida</td>\n",
              "      <td>republican</td>\n",
              "      <td>2.0</td>\n",
              "      <td>3.0</td>\n",
              "      <td>4.0</td>\n",
              "      <td>3.0</td>\n",
              "      <td>0.0</td>\n",
              "      <td>a Board of Governors meeting</td>\n",
              "      <td>averag student florida actual pay pocket major...</td>\n",
              "      <td>[0.104, 0.896, 0.0, -0.1027]</td>\n",
              "      <td>0</td>\n",
              "      <td>-0.1027</td>\n",
              "    </tr>\n",
              "    <tr>\n",
              "      <th>3</th>\n",
              "      <td>123</td>\n",
              "      <td>9500.json</td>\n",
              "      <td>mostly-true</td>\n",
              "      <td>Gov. Rick Scott cut the cost of prepaid colleg...</td>\n",
              "      <td>education</td>\n",
              "      <td>republican-party-florida</td>\n",
              "      <td>0</td>\n",
              "      <td>0</td>\n",
              "      <td>republican</td>\n",
              "      <td>10.0</td>\n",
              "      <td>6.0</td>\n",
              "      <td>6.0</td>\n",
              "      <td>6.0</td>\n",
              "      <td>4.0</td>\n",
              "      <td>a TV ad</td>\n",
              "      <td>gov rick scott cut cost prepaid college tuitio...</td>\n",
              "      <td>[0.208, 0.792, 0.0, -0.2732]</td>\n",
              "      <td>0</td>\n",
              "      <td>-0.2732</td>\n",
              "    </tr>\n",
              "    <tr>\n",
              "      <th>4</th>\n",
              "      <td>280</td>\n",
              "      <td>12497.json</td>\n",
              "      <td>true</td>\n",
              "      <td>Since 1978, college tuition nationwide has gon...</td>\n",
              "      <td>education</td>\n",
              "      <td>scott-walker</td>\n",
              "      <td>Milwaukee County Executive</td>\n",
              "      <td>Wisconsin</td>\n",
              "      <td>republican</td>\n",
              "      <td>26.0</td>\n",
              "      <td>41.0</td>\n",
              "      <td>32.0</td>\n",
              "      <td>40.0</td>\n",
              "      <td>11.0</td>\n",
              "      <td>a radio interview</td>\n",
              "      <td>sinc college tuition nationwide gone cometh li...</td>\n",
              "      <td>[0.0, 0.8, 0.2, 0.3612]</td>\n",
              "      <td>0</td>\n",
              "      <td>0.3612</td>\n",
              "    </tr>\n",
              "  </tbody>\n",
              "</table>\n",
              "</div>"
            ],
            "text/plain": [
              "   Unnamed: 0      jsonid  ... vader_polarity sentiment_score\n",
              "0           5  12465.json  ...              0         -0.7506\n",
              "1          51  13210.json  ...              0          0.0000\n",
              "2          97   7599.json  ...              0         -0.1027\n",
              "3         123   9500.json  ...              0         -0.2732\n",
              "4         280  12497.json  ...              0          0.3612\n",
              "\n",
              "[5 rows x 19 columns]"
            ]
          },
          "metadata": {
            "tags": []
          },
          "execution_count": 258
        }
      ]
    },
    {
      "cell_type": "code",
      "metadata": {
        "id": "GGFPILkYcp3m",
        "colab_type": "code",
        "colab": {}
      },
      "source": [
        "def convert_to_label(label):\n",
        "    if(label == 'true'):\n",
        "        return 5\n",
        "    if(label == 'mostly-true'):\n",
        "        return 4\n",
        "    if(label == 'half-true'):\n",
        "        return 3\n",
        "    if(label == 'barely-true'):\n",
        "        return 2\n",
        "    if(label == 'false'):\n",
        "        return 1\n",
        "    if(label == 'pants-fire'):\n",
        "        return 0"
      ],
      "execution_count": 0,
      "outputs": []
    },
    {
      "cell_type": "code",
      "metadata": {
        "colab_type": "code",
        "id": "d6_G0Tr1ib3j",
        "outputId": "e3f930df-6d90-4041-8e2d-a8b5db1ef5d9",
        "colab": {
          "base_uri": "https://localhost:8080/",
          "height": 1000
        }
      },
      "source": [
        "trainSenti['label'] = trainSenti['label'].apply(convert_to_label)\n",
        "trainSenti.rename(columns = {'label':'amal_label'}, inplace = True)\n",
        "trainSenti.head(10)"
      ],
      "execution_count": 0,
      "outputs": [
        {
          "output_type": "execute_result",
          "data": {
            "text/html": [
              "<div>\n",
              "<style scoped>\n",
              "    .dataframe tbody tr th:only-of-type {\n",
              "        vertical-align: middle;\n",
              "    }\n",
              "\n",
              "    .dataframe tbody tr th {\n",
              "        vertical-align: top;\n",
              "    }\n",
              "\n",
              "    .dataframe thead th {\n",
              "        text-align: right;\n",
              "    }\n",
              "</style>\n",
              "<table border=\"1\" class=\"dataframe\">\n",
              "  <thead>\n",
              "    <tr style=\"text-align: right;\">\n",
              "      <th></th>\n",
              "      <th>Unnamed: 0</th>\n",
              "      <th>jsonid</th>\n",
              "      <th>amal_label</th>\n",
              "      <th>headline_text</th>\n",
              "      <th>subject</th>\n",
              "      <th>speaker</th>\n",
              "      <th>speakerjobtitle</th>\n",
              "      <th>stateinfo</th>\n",
              "      <th>partyaffiliation</th>\n",
              "      <th>barelytruecounts</th>\n",
              "      <th>falsecounts</th>\n",
              "      <th>halftruecounts</th>\n",
              "      <th>mostlytrueocunts</th>\n",
              "      <th>pantsonfirecounts</th>\n",
              "      <th>context</th>\n",
              "      <th>clean</th>\n",
              "      <th>sentiment_vector</th>\n",
              "      <th>vader_polarity</th>\n",
              "      <th>sentiment_score</th>\n",
              "    </tr>\n",
              "  </thead>\n",
              "  <tbody>\n",
              "    <tr>\n",
              "      <th>0</th>\n",
              "      <td>5</td>\n",
              "      <td>12465.json</td>\n",
              "      <td>5</td>\n",
              "      <td>The Chicago Bears have had more starting quart...</td>\n",
              "      <td>education</td>\n",
              "      <td>robin-vos</td>\n",
              "      <td>Wisconsin Assembly speaker</td>\n",
              "      <td>Wisconsin</td>\n",
              "      <td>republican</td>\n",
              "      <td>0.0</td>\n",
              "      <td>3.0</td>\n",
              "      <td>2.0</td>\n",
              "      <td>5.0</td>\n",
              "      <td>1.0</td>\n",
              "      <td>a an online opinion-piece</td>\n",
              "      <td>chicago bear start quarterback last year total...</td>\n",
              "      <td>[0.335, 0.6, 0.065, -0.7506]</td>\n",
              "      <td>0</td>\n",
              "      <td>-0.7506</td>\n",
              "    </tr>\n",
              "    <tr>\n",
              "      <th>1</th>\n",
              "      <td>51</td>\n",
              "      <td>13210.json</td>\n",
              "      <td>2</td>\n",
              "      <td>Maggie Hassan raised tuition, making it the hi...</td>\n",
              "      <td>education</td>\n",
              "      <td>national-republican-senatorial-committee</td>\n",
              "      <td>0</td>\n",
              "      <td>0</td>\n",
              "      <td>republican</td>\n",
              "      <td>11.0</td>\n",
              "      <td>5.0</td>\n",
              "      <td>7.0</td>\n",
              "      <td>2.0</td>\n",
              "      <td>5.0</td>\n",
              "      <td>an ad</td>\n",
              "      <td>magi hassan rais tuition make highest america</td>\n",
              "      <td>[0.0, 1.0, 0.0, 0.0]</td>\n",
              "      <td>0</td>\n",
              "      <td>0.0000</td>\n",
              "    </tr>\n",
              "    <tr>\n",
              "      <th>2</th>\n",
              "      <td>97</td>\n",
              "      <td>7599.json</td>\n",
              "      <td>4</td>\n",
              "      <td>The average student in Florida, what they actu...</td>\n",
              "      <td>education</td>\n",
              "      <td>will-weatherford</td>\n",
              "      <td>State Representative</td>\n",
              "      <td>Florida</td>\n",
              "      <td>republican</td>\n",
              "      <td>2.0</td>\n",
              "      <td>3.0</td>\n",
              "      <td>4.0</td>\n",
              "      <td>3.0</td>\n",
              "      <td>0.0</td>\n",
              "      <td>a Board of Governors meeting</td>\n",
              "      <td>averag student florida actual pay pocket major...</td>\n",
              "      <td>[0.104, 0.896, 0.0, -0.1027]</td>\n",
              "      <td>0</td>\n",
              "      <td>-0.1027</td>\n",
              "    </tr>\n",
              "    <tr>\n",
              "      <th>3</th>\n",
              "      <td>123</td>\n",
              "      <td>9500.json</td>\n",
              "      <td>4</td>\n",
              "      <td>Gov. Rick Scott cut the cost of prepaid colleg...</td>\n",
              "      <td>education</td>\n",
              "      <td>republican-party-florida</td>\n",
              "      <td>0</td>\n",
              "      <td>0</td>\n",
              "      <td>republican</td>\n",
              "      <td>10.0</td>\n",
              "      <td>6.0</td>\n",
              "      <td>6.0</td>\n",
              "      <td>6.0</td>\n",
              "      <td>4.0</td>\n",
              "      <td>a TV ad</td>\n",
              "      <td>gov rick scott cut cost prepaid college tuitio...</td>\n",
              "      <td>[0.208, 0.792, 0.0, -0.2732]</td>\n",
              "      <td>0</td>\n",
              "      <td>-0.2732</td>\n",
              "    </tr>\n",
              "    <tr>\n",
              "      <th>4</th>\n",
              "      <td>280</td>\n",
              "      <td>12497.json</td>\n",
              "      <td>5</td>\n",
              "      <td>Since 1978, college tuition nationwide has gon...</td>\n",
              "      <td>education</td>\n",
              "      <td>scott-walker</td>\n",
              "      <td>Milwaukee County Executive</td>\n",
              "      <td>Wisconsin</td>\n",
              "      <td>republican</td>\n",
              "      <td>26.0</td>\n",
              "      <td>41.0</td>\n",
              "      <td>32.0</td>\n",
              "      <td>40.0</td>\n",
              "      <td>11.0</td>\n",
              "      <td>a radio interview</td>\n",
              "      <td>sinc college tuition nationwide gone cometh li...</td>\n",
              "      <td>[0.0, 0.8, 0.2, 0.3612]</td>\n",
              "      <td>0</td>\n",
              "      <td>0.3612</td>\n",
              "    </tr>\n",
              "    <tr>\n",
              "      <th>5</th>\n",
              "      <td>282</td>\n",
              "      <td>4893.json</td>\n",
              "      <td>4</td>\n",
              "      <td>Most of, if not all of, the [DeKalb school con...</td>\n",
              "      <td>education</td>\n",
              "      <td>thomas-brown</td>\n",
              "      <td>0</td>\n",
              "      <td>Georgia</td>\n",
              "      <td>democrat</td>\n",
              "      <td>0.0</td>\n",
              "      <td>0.0</td>\n",
              "      <td>0.0</td>\n",
              "      <td>1.0</td>\n",
              "      <td>0.0</td>\n",
              "      <td>an interview</td>\n",
              "      <td>deal school construct project alway came budget</td>\n",
              "      <td>[0.0, 1.0, 0.0, 0.0]</td>\n",
              "      <td>0</td>\n",
              "      <td>0.0000</td>\n",
              "    </tr>\n",
              "    <tr>\n",
              "      <th>6</th>\n",
              "      <td>299</td>\n",
              "      <td>1665.json</td>\n",
              "      <td>4</td>\n",
              "      <td>The proposed education changes \"will not cut o...</td>\n",
              "      <td>education</td>\n",
              "      <td>florida-chamber-commerce</td>\n",
              "      <td>0</td>\n",
              "      <td>Florida</td>\n",
              "      <td>none</td>\n",
              "      <td>0.0</td>\n",
              "      <td>1.0</td>\n",
              "      <td>1.0</td>\n",
              "      <td>2.0</td>\n",
              "      <td>1.0</td>\n",
              "      <td>a television advertisement.</td>\n",
              "      <td>propos educ chang cut one teacher pay</td>\n",
              "      <td>[0.412, 0.588, 0.0, -0.3612]</td>\n",
              "      <td>0</td>\n",
              "      <td>-0.3612</td>\n",
              "    </tr>\n",
              "    <tr>\n",
              "      <th>7</th>\n",
              "      <td>342</td>\n",
              "      <td>4332.json</td>\n",
              "      <td>3</td>\n",
              "      <td>Recent international reports show the United S...</td>\n",
              "      <td>education</td>\n",
              "      <td>chip-rogers</td>\n",
              "      <td>State Senator</td>\n",
              "      <td>Georgia</td>\n",
              "      <td>republican</td>\n",
              "      <td>1.0</td>\n",
              "      <td>0.0</td>\n",
              "      <td>1.0</td>\n",
              "      <td>1.0</td>\n",
              "      <td>0.0</td>\n",
              "      <td>a town hall meeting</td>\n",
              "      <td>recent intern report show unit state near bott...</td>\n",
              "      <td>[0.0, 1.0, 0.0, 0.0]</td>\n",
              "      <td>0</td>\n",
              "      <td>0.0000</td>\n",
              "    </tr>\n",
              "    <tr>\n",
              "      <th>8</th>\n",
              "      <td>355</td>\n",
              "      <td>1616.json</td>\n",
              "      <td>3</td>\n",
              "      <td>Last week the Texas State Board of Education (...</td>\n",
              "      <td>education</td>\n",
              "      <td>bill-white</td>\n",
              "      <td>Former mayor of Houston</td>\n",
              "      <td>Texas</td>\n",
              "      <td>democrat</td>\n",
              "      <td>2.0</td>\n",
              "      <td>3.0</td>\n",
              "      <td>5.0</td>\n",
              "      <td>7.0</td>\n",
              "      <td>3.0</td>\n",
              "      <td>an e-mail</td>\n",
              "      <td>last week text state board educ shoe led rick ...</td>\n",
              "      <td>[0.0, 0.887, 0.113, 0.5719]</td>\n",
              "      <td>0</td>\n",
              "      <td>0.5719</td>\n",
              "    </tr>\n",
              "    <tr>\n",
              "      <th>9</th>\n",
              "      <td>380</td>\n",
              "      <td>10931.json</td>\n",
              "      <td>3</td>\n",
              "      <td>Since Republicans took over after the 2010 ele...</td>\n",
              "      <td>education</td>\n",
              "      <td>dale-kooyenga</td>\n",
              "      <td>State Representative</td>\n",
              "      <td>Wisconsin</td>\n",
              "      <td>republican</td>\n",
              "      <td>1.0</td>\n",
              "      <td>1.0</td>\n",
              "      <td>2.0</td>\n",
              "      <td>2.0</td>\n",
              "      <td>0.0</td>\n",
              "      <td>0</td>\n",
              "      <td>sinc republican took elect graduate rate wisco...</td>\n",
              "      <td>[0.0, 1.0, 0.0, 0.0]</td>\n",
              "      <td>0</td>\n",
              "      <td>0.0000</td>\n",
              "    </tr>\n",
              "  </tbody>\n",
              "</table>\n",
              "</div>"
            ],
            "text/plain": [
              "   Unnamed: 0      jsonid  ...  vader_polarity sentiment_score\n",
              "0           5  12465.json  ...               0         -0.7506\n",
              "1          51  13210.json  ...               0          0.0000\n",
              "2          97   7599.json  ...               0         -0.1027\n",
              "3         123   9500.json  ...               0         -0.2732\n",
              "4         280  12497.json  ...               0          0.3612\n",
              "5         282   4893.json  ...               0          0.0000\n",
              "6         299   1665.json  ...               0         -0.3612\n",
              "7         342   4332.json  ...               0          0.0000\n",
              "8         355   1616.json  ...               0          0.5719\n",
              "9         380  10931.json  ...               0          0.0000\n",
              "\n",
              "[10 rows x 19 columns]"
            ]
          },
          "metadata": {
            "tags": []
          },
          "execution_count": 260
        }
      ]
    },
    {
      "cell_type": "code",
      "metadata": {
        "id": "OpqNX2xmnAVV",
        "colab_type": "code",
        "outputId": "6be5e5f2-b801-40d3-cf70-be8b414527e7",
        "colab": {
          "base_uri": "https://localhost:8080/",
          "height": 34
        }
      },
      "source": [
        "sa.predict('help me the world is on fire')\n"
      ],
      "execution_count": 0,
      "outputs": [
        {
          "output_type": "execute_result",
          "data": {
            "text/plain": [
              "(True, 0.9818900303195912)"
            ]
          },
          "metadata": {
            "tags": []
          },
          "execution_count": 261
        }
      ]
    },
    {
      "cell_type": "code",
      "metadata": {
        "id": "VBsG_RPanJHQ",
        "colab_type": "code",
        "outputId": "cb1f03ed-edfa-4709-82f2-2e75421e68c4",
        "colab": {
          "base_uri": "https://localhost:8080/",
          "height": 683
        }
      },
      "source": [
        "liar_liar_test = pd.read_csv('/content/drive/My Drive/AlternusVeraDataSets2019/Insurgents/Sandhya/Liar_Liar/liar_liar_test.csv')\n",
        "liar_liar_test.head()"
      ],
      "execution_count": 0,
      "outputs": [
        {
          "output_type": "execute_result",
          "data": {
            "text/html": [
              "<div>\n",
              "<style scoped>\n",
              "    .dataframe tbody tr th:only-of-type {\n",
              "        vertical-align: middle;\n",
              "    }\n",
              "\n",
              "    .dataframe tbody tr th {\n",
              "        vertical-align: top;\n",
              "    }\n",
              "\n",
              "    .dataframe thead th {\n",
              "        text-align: right;\n",
              "    }\n",
              "</style>\n",
              "<table border=\"1\" class=\"dataframe\">\n",
              "  <thead>\n",
              "    <tr style=\"text-align: right;\">\n",
              "      <th></th>\n",
              "      <th>Unnamed: 0</th>\n",
              "      <th>Unnamed: 0.1</th>\n",
              "      <th>Unnamed: 0.1.1</th>\n",
              "      <th>jsonid</th>\n",
              "      <th>liar_liar_label</th>\n",
              "      <th>raw_text</th>\n",
              "      <th>subject</th>\n",
              "      <th>speaker</th>\n",
              "      <th>speakerjobtitle</th>\n",
              "      <th>stateinfo</th>\n",
              "      <th>partyaffiliation</th>\n",
              "      <th>barelytruecounts</th>\n",
              "      <th>falsecounts</th>\n",
              "      <th>halftruecounts</th>\n",
              "      <th>mostlytrueocunts</th>\n",
              "      <th>pantsonfirecounts</th>\n",
              "      <th>context</th>\n",
              "      <th>clean</th>\n",
              "      <th>sentiment_vector</th>\n",
              "      <th>vader_polarity</th>\n",
              "      <th>sentiment_score</th>\n",
              "      <th>label</th>\n",
              "      <th>sentiment_0</th>\n",
              "      <th>sentiment_1</th>\n",
              "      <th>sentiment_2</th>\n",
              "    </tr>\n",
              "  </thead>\n",
              "  <tbody>\n",
              "    <tr>\n",
              "      <th>0</th>\n",
              "      <td>0</td>\n",
              "      <td>0</td>\n",
              "      <td>80</td>\n",
              "      <td>2854.json</td>\n",
              "      <td>pants-fire</td>\n",
              "      <td>Rebuilding three high schools will benefit 40 ...</td>\n",
              "      <td>education</td>\n",
              "      <td>carole-smith</td>\n",
              "      <td>Portland schools superintendent</td>\n",
              "      <td>Oregon</td>\n",
              "      <td>none</td>\n",
              "      <td>0.0</td>\n",
              "      <td>0.0</td>\n",
              "      <td>0.0</td>\n",
              "      <td>0.0</td>\n",
              "      <td>1.0</td>\n",
              "      <td>a press briefing</td>\n",
              "      <td>rebuild three high school benefit percent port...</td>\n",
              "      <td>[0.0, 0.75, 0.25, 0.4588]</td>\n",
              "      <td>0</td>\n",
              "      <td>0.4588</td>\n",
              "      <td>0</td>\n",
              "      <td>0.000</td>\n",
              "      <td>0.750</td>\n",
              "      <td>0.250</td>\n",
              "    </tr>\n",
              "    <tr>\n",
              "      <th>1</th>\n",
              "      <td>1</td>\n",
              "      <td>1</td>\n",
              "      <td>124</td>\n",
              "      <td>10147.json</td>\n",
              "      <td>false</td>\n",
              "      <td>On an income cap for recipients of the popular...</td>\n",
              "      <td>education</td>\n",
              "      <td>jason-carter</td>\n",
              "      <td>State Senator</td>\n",
              "      <td>Georgia</td>\n",
              "      <td>democrat</td>\n",
              "      <td>1.0</td>\n",
              "      <td>0.0</td>\n",
              "      <td>2.0</td>\n",
              "      <td>1.0</td>\n",
              "      <td>0.0</td>\n",
              "      <td>forum</td>\n",
              "      <td>incom cap recipe popular hope scholarship</td>\n",
              "      <td>[0.0, 0.412, 0.588, 0.6908]</td>\n",
              "      <td>1</td>\n",
              "      <td>0.6908</td>\n",
              "      <td>1</td>\n",
              "      <td>0.000</td>\n",
              "      <td>0.412</td>\n",
              "      <td>0.588</td>\n",
              "    </tr>\n",
              "    <tr>\n",
              "      <th>2</th>\n",
              "      <td>2</td>\n",
              "      <td>2</td>\n",
              "      <td>168</td>\n",
              "      <td>7744.json</td>\n",
              "      <td>mostly-true</td>\n",
              "      <td>Says states mandated tests come from an Englis...</td>\n",
              "      <td>education</td>\n",
              "      <td>george-lavender</td>\n",
              "      <td>State representative</td>\n",
              "      <td>Texas</td>\n",
              "      <td>republican</td>\n",
              "      <td>0.0</td>\n",
              "      <td>0.0</td>\n",
              "      <td>0.0</td>\n",
              "      <td>1.0</td>\n",
              "      <td>0.0</td>\n",
              "      <td>in Texas House of Representatives debate</td>\n",
              "      <td>say state mandat test come english company</td>\n",
              "      <td>[0.0, 1.0, 0.0, 0.0]</td>\n",
              "      <td>0</td>\n",
              "      <td>0.0000</td>\n",
              "      <td>4</td>\n",
              "      <td>0.000</td>\n",
              "      <td>1.000</td>\n",
              "      <td>0.000</td>\n",
              "    </tr>\n",
              "    <tr>\n",
              "      <th>3</th>\n",
              "      <td>3</td>\n",
              "      <td>3</td>\n",
              "      <td>181</td>\n",
              "      <td>5470.json</td>\n",
              "      <td>true</td>\n",
              "      <td>Pasco County schools have graduation rates sub...</td>\n",
              "      <td>education</td>\n",
              "      <td>heather-fiorentino</td>\n",
              "      <td>superintendent of Pasco County's public schools</td>\n",
              "      <td>Florida</td>\n",
              "      <td>republican</td>\n",
              "      <td>0.0</td>\n",
              "      <td>0.0</td>\n",
              "      <td>1.0</td>\n",
              "      <td>0.0</td>\n",
              "      <td>1.0</td>\n",
              "      <td>a press release</td>\n",
              "      <td>pisco county school graduate rate substantia h...</td>\n",
              "      <td>[0.0, 1.0, 0.0, 0.0]</td>\n",
              "      <td>0</td>\n",
              "      <td>0.0000</td>\n",
              "      <td>5</td>\n",
              "      <td>0.000</td>\n",
              "      <td>1.000</td>\n",
              "      <td>0.000</td>\n",
              "    </tr>\n",
              "    <tr>\n",
              "      <th>4</th>\n",
              "      <td>4</td>\n",
              "      <td>4</td>\n",
              "      <td>187</td>\n",
              "      <td>8320.json</td>\n",
              "      <td>mostly-true</td>\n",
              "      <td>Today many Florida teachers are at risk of hav...</td>\n",
              "      <td>education</td>\n",
              "      <td>charlie-crist</td>\n",
              "      <td>0</td>\n",
              "      <td>Florida</td>\n",
              "      <td>democrat</td>\n",
              "      <td>15.0</td>\n",
              "      <td>9.0</td>\n",
              "      <td>20.0</td>\n",
              "      <td>19.0</td>\n",
              "      <td>2.0</td>\n",
              "      <td>a Tampa Bay Times op-ed</td>\n",
              "      <td>today mani florida teacher risk pay impact per...</td>\n",
              "      <td>[0.241, 0.759, 0.0, -0.3612]</td>\n",
              "      <td>0</td>\n",
              "      <td>-0.3612</td>\n",
              "      <td>4</td>\n",
              "      <td>0.241</td>\n",
              "      <td>0.759</td>\n",
              "      <td>0.000</td>\n",
              "    </tr>\n",
              "  </tbody>\n",
              "</table>\n",
              "</div>"
            ],
            "text/plain": [
              "   Unnamed: 0  Unnamed: 0.1  ...  sentiment_1 sentiment_2\n",
              "0           0             0  ...        0.750       0.250\n",
              "1           1             1  ...        0.412       0.588\n",
              "2           2             2  ...        1.000       0.000\n",
              "3           3             3  ...        1.000       0.000\n",
              "4           4             4  ...        0.759       0.000\n",
              "\n",
              "[5 rows x 25 columns]"
            ]
          },
          "metadata": {
            "tags": []
          },
          "execution_count": 262
        }
      ]
    },
    {
      "cell_type": "code",
      "metadata": {
        "id": "s1rZ9WnznfgX",
        "colab_type": "code",
        "outputId": "24b5d779-e1af-47dd-cd98-15b0345851fd",
        "colab": {
          "base_uri": "https://localhost:8080/",
          "height": 34
        }
      },
      "source": [
        "sa.predict(liar_liar_test.loc[2,'raw_text'])\n"
      ],
      "execution_count": 0,
      "outputs": [
        {
          "output_type": "execute_result",
          "data": {
            "text/plain": [
              "(True, 0.945160913852413)"
            ]
          },
          "metadata": {
            "tags": []
          },
          "execution_count": 263
        }
      ]
    },
    {
      "cell_type": "markdown",
      "metadata": {
        "id": "q-1HaUTn93d9",
        "colab_type": "text"
      },
      "source": [
        "# Amalgamation /Data Enrichment 2 \n",
        "The Author Murphy Studebakerin the article has has taken the headlines from the The Onion’s twitter account.\n",
        "Source for the dataset:\n",
        "https://medium.com/@murphystude/can-computers-learn-to-be-funny-e184c340d772"
      ]
    },
    {
      "cell_type": "code",
      "metadata": {
        "id": "r4mXszWTqJ_N",
        "colab_type": "code",
        "outputId": "d064b5fc-3094-4e45-ae4b-aca4874500b6",
        "colab": {
          "base_uri": "https://localhost:8080/",
          "height": 204
        }
      },
      "source": [
        "onion_data = pd.read_csv('/content/drive/My Drive/AlternusVeraDataSets2019/Insurgents/Sandhya/onion_dataset/peeledonion.txt', sep = '\\n', header = None)\n",
        "onion_data.columns = ['raw_text']\n",
        "onion_data.dropna(inplace = True)\n",
        "onion_data.head()"
      ],
      "execution_count": 0,
      "outputs": [
        {
          "output_type": "execute_result",
          "data": {
            "text/html": [
              "<div>\n",
              "<style scoped>\n",
              "    .dataframe tbody tr th:only-of-type {\n",
              "        vertical-align: middle;\n",
              "    }\n",
              "\n",
              "    .dataframe tbody tr th {\n",
              "        vertical-align: top;\n",
              "    }\n",
              "\n",
              "    .dataframe thead th {\n",
              "        text-align: right;\n",
              "    }\n",
              "</style>\n",
              "<table border=\"1\" class=\"dataframe\">\n",
              "  <thead>\n",
              "    <tr style=\"text-align: right;\">\n",
              "      <th></th>\n",
              "      <th>raw_text</th>\n",
              "    </tr>\n",
              "  </thead>\n",
              "  <tbody>\n",
              "    <tr>\n",
              "      <th>0</th>\n",
              "      <td>Weird Kid Opts To Sit Perfectly Still, Let Uni...</td>\n",
              "    </tr>\n",
              "    <tr>\n",
              "      <th>1</th>\n",
              "      <td>Kamala Harris Enters 2020 Race #WhatDoYouThink?</td>\n",
              "    </tr>\n",
              "    <tr>\n",
              "      <th>2</th>\n",
              "      <td>Viral Video Sparks National Debate Around Drum...</td>\n",
              "    </tr>\n",
              "    <tr>\n",
              "      <th>3</th>\n",
              "      <td>Kamala Harris Assembles Campaign Staff Of Unpa...</td>\n",
              "    </tr>\n",
              "    <tr>\n",
              "      <th>4</th>\n",
              "      <td>Study Finds Chimpanzees Only Other Animal Capa...</td>\n",
              "    </tr>\n",
              "  </tbody>\n",
              "</table>\n",
              "</div>"
            ],
            "text/plain": [
              "                                            raw_text\n",
              "0  Weird Kid Opts To Sit Perfectly Still, Let Uni...\n",
              "1   Kamala Harris Enters 2020 Race #WhatDoYouThink? \n",
              "2  Viral Video Sparks National Debate Around Drum...\n",
              "3  Kamala Harris Assembles Campaign Staff Of Unpa...\n",
              "4  Study Finds Chimpanzees Only Other Animal Capa..."
            ]
          },
          "metadata": {
            "tags": []
          },
          "execution_count": 265
        }
      ]
    },
    {
      "cell_type": "code",
      "metadata": {
        "id": "U8cvbwJnqVZ0",
        "colab_type": "code",
        "outputId": "fbae4423-ab9e-48c5-c4f4-0221298266a4",
        "colab": {
          "base_uri": "https://localhost:8080/",
          "height": 204
        }
      },
      "source": [
        "onion_data['clean'] = onion_data.applymap(cleaning)\n",
        "onion_data.head()\n",
        "\n"
      ],
      "execution_count": 0,
      "outputs": [
        {
          "output_type": "execute_result",
          "data": {
            "text/html": [
              "<div>\n",
              "<style scoped>\n",
              "    .dataframe tbody tr th:only-of-type {\n",
              "        vertical-align: middle;\n",
              "    }\n",
              "\n",
              "    .dataframe tbody tr th {\n",
              "        vertical-align: top;\n",
              "    }\n",
              "\n",
              "    .dataframe thead th {\n",
              "        text-align: right;\n",
              "    }\n",
              "</style>\n",
              "<table border=\"1\" class=\"dataframe\">\n",
              "  <thead>\n",
              "    <tr style=\"text-align: right;\">\n",
              "      <th></th>\n",
              "      <th>raw_text</th>\n",
              "      <th>clean</th>\n",
              "    </tr>\n",
              "  </thead>\n",
              "  <tbody>\n",
              "    <tr>\n",
              "      <th>0</th>\n",
              "      <td>Weird Kid Opts To Sit Perfectly Still, Let Uni...</td>\n",
              "      <td>weird kid opt sit perfect still let univers de...</td>\n",
              "    </tr>\n",
              "    <tr>\n",
              "      <th>1</th>\n",
              "      <td>Kamala Harris Enters 2020 Race #WhatDoYouThink?</td>\n",
              "      <td>kamala harri enter race whatdoyouthink</td>\n",
              "    </tr>\n",
              "    <tr>\n",
              "      <th>2</th>\n",
              "      <td>Viral Video Sparks National Debate Around Drum...</td>\n",
              "      <td>viral video spark nation debat around drum public</td>\n",
              "    </tr>\n",
              "    <tr>\n",
              "      <th>3</th>\n",
              "      <td>Kamala Harris Assembles Campaign Staff Of Unpa...</td>\n",
              "      <td>kamala harri assembl campaign staff unpaid cal...</td>\n",
              "    </tr>\n",
              "    <tr>\n",
              "      <th>4</th>\n",
              "      <td>Study Finds Chimpanzees Only Other Animal Capa...</td>\n",
              "      <td>studi find chimpanze anim capabl keep lid frie...</td>\n",
              "    </tr>\n",
              "  </tbody>\n",
              "</table>\n",
              "</div>"
            ],
            "text/plain": [
              "                                            raw_text                                              clean\n",
              "0  Weird Kid Opts To Sit Perfectly Still, Let Uni...  weird kid opt sit perfect still let univers de...\n",
              "1   Kamala Harris Enters 2020 Race #WhatDoYouThink?              kamala harri enter race whatdoyouthink\n",
              "2  Viral Video Sparks National Debate Around Drum...  viral video spark nation debat around drum public\n",
              "3  Kamala Harris Assembles Campaign Staff Of Unpa...  kamala harri assembl campaign staff unpaid cal...\n",
              "4  Study Finds Chimpanzees Only Other Animal Capa...  studi find chimpanze anim capabl keep lid frie..."
            ]
          },
          "metadata": {
            "tags": []
          },
          "execution_count": 266
        }
      ]
    },
    {
      "cell_type": "code",
      "metadata": {
        "id": "LF14vVJoq2Om",
        "colab_type": "code",
        "colab": {}
      },
      "source": [
        "onion_data['label'] = -1\n",
        "onion_data.drop_duplicates(inplace = True)\n",
        "\n",
        "onion_data.to_csv('/content/drive/My Drive/AlternusVeraDataSets2019/Insurgents/Sandhya/onion_dataset/onion_set_balanced.csv')\n",
        "onion_data.to_csv('/content/drive/My Drive/AlternusVeraDataSets2019/Insurgents/Sandhya/onion_dataset/onion_set_full.csv')"
      ],
      "execution_count": 0,
      "outputs": []
    },
    {
      "cell_type": "code",
      "metadata": {
        "id": "drgKOJLqtlhJ",
        "colab_type": "code",
        "outputId": "70dd1a22-43fa-4eb4-eee5-f7581c1576e2",
        "colab": {
          "base_uri": "https://localhost:8080/",
          "height": 306
        }
      },
      "source": [
        "import numpy as np\n",
        "onion_balanced = pd.read_csv('/content/drive/My Drive/AlternusVeraDataSets2019/Insurgents/Sandhya/onion_dataset/onion_set_balanced.csv')\n",
        "\n",
        "sentiment = []\n",
        "vader_pol = []\n",
        "cmp_score = []\n",
        "for row in onion_balanced['clean']:\n",
        "    get_pols = get_polarity_type(str(row))\n",
        "    sentiment.append(get_pols[1:])\n",
        "    vader_pol.append(get_pols[0])\n",
        "    cmp_score.append(get_pols[1:][-1]) #last element \n",
        "    \n",
        "onion_balanced['sentiment_vector'] = sentiment\n",
        "onion_balanced['vader_polarity'] = vader_pol\n",
        "onion_balanced['sentiment_score'] = cmp_score\n",
        "\n",
        "onion_balanced.head()"
      ],
      "execution_count": 0,
      "outputs": [
        {
          "output_type": "execute_result",
          "data": {
            "text/html": [
              "<div>\n",
              "<style scoped>\n",
              "    .dataframe tbody tr th:only-of-type {\n",
              "        vertical-align: middle;\n",
              "    }\n",
              "\n",
              "    .dataframe tbody tr th {\n",
              "        vertical-align: top;\n",
              "    }\n",
              "\n",
              "    .dataframe thead th {\n",
              "        text-align: right;\n",
              "    }\n",
              "</style>\n",
              "<table border=\"1\" class=\"dataframe\">\n",
              "  <thead>\n",
              "    <tr style=\"text-align: right;\">\n",
              "      <th></th>\n",
              "      <th>Unnamed: 0</th>\n",
              "      <th>raw_text</th>\n",
              "      <th>clean</th>\n",
              "      <th>label</th>\n",
              "      <th>sentiment_vector</th>\n",
              "      <th>vader_polarity</th>\n",
              "      <th>sentiment_score</th>\n",
              "    </tr>\n",
              "  </thead>\n",
              "  <tbody>\n",
              "    <tr>\n",
              "      <th>0</th>\n",
              "      <td>0</td>\n",
              "      <td>Weird Kid Opts To Sit Perfectly Still, Let Uni...</td>\n",
              "      <td>weird kid opt sit perfect still let univers de...</td>\n",
              "      <td>-1</td>\n",
              "      <td>[0.098, 0.69, 0.213, 0.4588]</td>\n",
              "      <td>0</td>\n",
              "      <td>0.4588</td>\n",
              "    </tr>\n",
              "    <tr>\n",
              "      <th>1</th>\n",
              "      <td>1</td>\n",
              "      <td>Kamala Harris Enters 2020 Race #WhatDoYouThink?</td>\n",
              "      <td>kamala harri enter race whatdoyouthink</td>\n",
              "      <td>-1</td>\n",
              "      <td>[0.0, 1.0, 0.0, 0.0]</td>\n",
              "      <td>0</td>\n",
              "      <td>0.0000</td>\n",
              "    </tr>\n",
              "    <tr>\n",
              "      <th>2</th>\n",
              "      <td>2</td>\n",
              "      <td>Viral Video Sparks National Debate Around Drum...</td>\n",
              "      <td>viral video spark nation debat around drum public</td>\n",
              "      <td>-1</td>\n",
              "      <td>[0.0, 0.787, 0.213, 0.2263]</td>\n",
              "      <td>0</td>\n",
              "      <td>0.2263</td>\n",
              "    </tr>\n",
              "    <tr>\n",
              "      <th>3</th>\n",
              "      <td>3</td>\n",
              "      <td>Kamala Harris Assembles Campaign Staff Of Unpa...</td>\n",
              "      <td>kamala harri assembl campaign staff unpaid cal...</td>\n",
              "      <td>-1</td>\n",
              "      <td>[0.292, 0.708, 0.0, -0.5106]</td>\n",
              "      <td>0</td>\n",
              "      <td>-0.5106</td>\n",
              "    </tr>\n",
              "    <tr>\n",
              "      <th>4</th>\n",
              "      <td>4</td>\n",
              "      <td>Study Finds Chimpanzees Only Other Animal Capa...</td>\n",
              "      <td>studi find chimpanze anim capabl keep lid frie...</td>\n",
              "      <td>-1</td>\n",
              "      <td>[0.0, 0.714, 0.286, 0.4939]</td>\n",
              "      <td>0</td>\n",
              "      <td>0.4939</td>\n",
              "    </tr>\n",
              "  </tbody>\n",
              "</table>\n",
              "</div>"
            ],
            "text/plain": [
              "   Unnamed: 0  ... sentiment_score\n",
              "0           0  ...          0.4588\n",
              "1           1  ...          0.0000\n",
              "2           2  ...          0.2263\n",
              "3           3  ...         -0.5106\n",
              "4           4  ...          0.4939\n",
              "\n",
              "[5 rows x 7 columns]"
            ]
          },
          "metadata": {
            "tags": []
          },
          "execution_count": 269
        }
      ]
    },
    {
      "cell_type": "code",
      "metadata": {
        "id": "7HICavk5uDC3",
        "colab_type": "code",
        "outputId": "1ce168ed-5efe-47e1-fd56-d465f1bb1181",
        "colab": {
          "base_uri": "https://localhost:8080/",
          "height": 170
        }
      },
      "source": [
        "onion_balanced['vader_polarity'].describe()\n"
      ],
      "execution_count": 0,
      "outputs": [
        {
          "output_type": "execute_result",
          "data": {
            "text/plain": [
              "count    1688.000000\n",
              "mean       -0.020142\n",
              "std         0.285300\n",
              "min        -1.000000\n",
              "25%         0.000000\n",
              "50%         0.000000\n",
              "75%         0.000000\n",
              "max         1.000000\n",
              "Name: vader_polarity, dtype: float64"
            ]
          },
          "metadata": {
            "tags": []
          },
          "execution_count": 271
        }
      ]
    },
    {
      "cell_type": "code",
      "metadata": {
        "id": "80JKsIEquJvN",
        "colab_type": "code",
        "outputId": "5cce1f60-6865-4f39-c6c9-47b8deb073cc",
        "colab": {
          "base_uri": "https://localhost:8080/",
          "height": 34
        }
      },
      "source": [
        "print(onion_balanced.shape)\n"
      ],
      "execution_count": 0,
      "outputs": [
        {
          "output_type": "stream",
          "text": [
            "(1688, 7)\n"
          ],
          "name": "stdout"
        }
      ]
    },
    {
      "cell_type": "code",
      "metadata": {
        "id": "X2CjMRRzua4s",
        "colab_type": "code",
        "colab": {}
      },
      "source": [
        "onion_balanced['clean'] = onion_balanced['clean'].apply(str)"
      ],
      "execution_count": 0,
      "outputs": []
    },
    {
      "cell_type": "code",
      "metadata": {
        "id": "jLmTSifWu67p",
        "colab_type": "code",
        "outputId": "c87144db-a4e3-4425-d5cd-781c396aa539",
        "colab": {
          "base_uri": "https://localhost:8080/",
          "height": 34
        }
      },
      "source": [
        "tfidfV = TfidfVectorizer(stop_words='english', min_df=5, max_df=30, use_idf=True, smooth_idf=True, token_pattern=u'(?ui)\\\\b\\\\w*[a-z]+\\\\w*\\\\b')\n",
        "\n",
        "\n",
        "x = tfidfV.fit_transform(onion_balanced['clean'])\n",
        "print(x.shape)"
      ],
      "execution_count": 0,
      "outputs": [
        {
          "output_type": "stream",
          "text": [
            "(1688, 961)\n"
          ],
          "name": "stdout"
        }
      ]
    },
    {
      "cell_type": "code",
      "metadata": {
        "id": "qFbTAalLufw9",
        "colab_type": "code",
        "colab": {}
      },
      "source": [
        "onion_balanced.to_csv('/content/drive/My Drive/AlternusVeraDataSets2019/Insurgents/Sandhya/onion_dataset/onion_set_balanced.csv')"
      ],
      "execution_count": 0,
      "outputs": []
    },
    {
      "cell_type": "code",
      "metadata": {
        "id": "TaYhD91en2Nc",
        "colab_type": "code",
        "outputId": "d8daabcc-1e07-4173-8500-d9cb5306ce48",
        "colab": {
          "base_uri": "https://localhost:8080/",
          "height": 51
        }
      },
      "source": [
        "import pandas as pd\n",
        "import numpy as np\n",
        "from sklearn.feature_extraction.text import TfidfVectorizer\n",
        "from sklearn.decomposition import PCA\n",
        "\n",
        "\n",
        "from scipy.spatial import distance\n",
        "from scipy import sparse\n",
        "\n",
        "import nltk.sentiment\n",
        "\n",
        "\n",
        "from sklearn import metrics\n",
        "import warnings\n",
        "from IPython.display import display\n",
        "warnings.filterwarnings('ignore')\n",
        "\n",
        "senti = nltk.sentiment.vader.SentimentIntensityAnalyzer()\n",
        "\n",
        "def get_vader_polarity(snt):\n",
        "    if not snt:\n",
        "        return None\n",
        "    elif snt['neg'] > snt['pos'] and snt['neg'] > snt['neu']:\n",
        "        return -1\n",
        "    elif snt['pos'] > snt['neg'] and snt['pos'] > snt['neu']:\n",
        "        return 1\n",
        "    else:\n",
        "        return 0\n",
        "\n",
        "#Function to determine if a text is negative(-1) or postive (1) or neutral (0)\n",
        "def get_polarity_type(sentence):\n",
        "    sentimentVector = []\n",
        "    snt = senti.polarity_scores(sentence)\n",
        "    sentimentVector.append(get_vader_polarity(snt))\n",
        "    sentimentVector.append(snt['neg'])\n",
        "    sentimentVector.append(snt['neu'])\n",
        "    sentimentVector.append(snt['pos'])\n",
        "    sentimentVector.append(snt['compound'])\n",
        "    \n",
        "    #print(sentimentVector)\n",
        "    return sentimentVector\n",
        "\n",
        "class SentimentAnalysis():\n",
        "\n",
        "    def __init__(self):        \n",
        "        #load all datasets used, liar liar and onion headlines\n",
        "        liar_liar_train = pd.read_csv('/content/drive/My Drive/AlternusVeraDataSets2019/Insurgents/Sandhya/Liar_Liar/liar_liar_train.csv')\n",
        "        liar_liar_test = pd.read_csv('/content/drive/My Drive/AlternusVeraDataSets2019/Insurgents/Sandhya/Liar_Liar/liar_liar_test.csv')\n",
        "        onion_balanced = pd.read_csv('/content/drive/My Drive/AlternusVeraDataSets2019/Insurgents/Sandhya/onion_dataset/onion_set_balanced.csv')\n",
        "\n",
        "        col = ['raw_text', 'clean', 'label', 'vader_polarity', 'sentiment_score', 'sentiment_0', 'sentiment_1', 'sentiment_2']\n",
        "\n",
        "        liar_liar_train = liar_liar_train.loc[:,col]\n",
        "        onion_balanced = onion_balanced.loc[:,col]\n",
        "        \n",
        "        #join the liar train and onion set\n",
        "        self.full_train = liar_liar_train.merge(onion_balanced, how = 'outer')\n",
        "        self.full_train.dropna(inplace=True)\n",
        "        self.full_train.reset_index(drop=True, inplace=True)\n",
        "\n",
        "\n",
        "        self.compare_col = ['vader_polarity', 'sentiment_score', 'sentiment_0', 'sentiment_1', 'sentiment_2']\n",
        "        \n",
        "        #create TF IDF \n",
        "        self.tfidfV = TfidfVectorizer(stop_words='english', min_df=5, max_df=30, use_idf=True, smooth_idf=True, token_pattern=u'(?ui)\\\\b\\\\w*[a-z]+\\\\w*\\\\b')\n",
        "        train_tfidf = self.tfidfV.fit_transform(self.full_train['clean'])\n",
        "        train_tfidf = pd.DataFrame(train_tfidf.toarray()).transpose()\n",
        "    \n",
        "        #reduce TF IDF matrix with PCA\n",
        "        self.pca_components = 4\n",
        "\n",
        "        pca = PCA(n_components=self.pca_components ,random_state = 0)\n",
        "        pca.fit(train_tfidf)\n",
        "        \n",
        "        #components from the reduced TF IDF\n",
        "        train_components =  pd.DataFrame(pca.components_).transpose()\n",
        "        \n",
        "        #for converting the input from predict\n",
        "        pca.fit(train_tfidf.transpose())\n",
        "        self.comp = pca.components_\n",
        "        \n",
        "        #full set of values that is used in cosine similarity\n",
        "        self.compare_set = pd.concat([self.full_train.loc[:,self.compare_col], train_components],axis=1)\n",
        "        \n",
        "        #set up testing data\n",
        "        test_tfidf = self.tfidfV.transform(liar_liar_test['clean'])\n",
        "        test_tfidf = pd.DataFrame(test_tfidf.toarray()).transpose()\n",
        "\n",
        "        pca.fit(test_tfidf)\n",
        "        test_components =  pd.DataFrame(pca.components_).transpose()\n",
        "        \n",
        "        test_set = pd.concat([liar_liar_test.loc[:,self.compare_col], test_components] ,axis=1)\n",
        "        \n",
        "        #fill in NA from sparse matrices so cosine doesnt return NA\n",
        "        test_set.fillna(0, inplace = True)\n",
        "        self.compare_set.fillna(0, inplace = True)\n",
        "\n",
        "        #build distances between the test set and train set\n",
        "        #dist = cdist(liar_liar_test.loc[:,compare_col], full_train.loc[:,compare_col], metric = 'cosine')\n",
        "        dist = distance.cdist(test_set, self.compare_set, metric = 'cosine')\n",
        "\n",
        "        #build prediction matrix\n",
        "        predict = pd.DataFrame()\n",
        "        c = 0\n",
        "\n",
        "        #for each distance, get the min index, and the distance associated with it\n",
        "        for row in dist:\n",
        "            predict.loc[c,'index'] = row.argmin()\n",
        "            predict.loc[c,'dist'] = row[row.argmin()]\n",
        "            c = c+1\n",
        "\n",
        "        #get the truth value from the closest document to the test\n",
        "        for index, row in predict.iterrows():\n",
        "            predict.loc[index, 'prediction'] = self.full_train.loc[row['index'], 'label']\n",
        "\n",
        "        #score it\n",
        "        score = metrics.accuracy_score(liar_liar_test['label'], predict['prediction'])\n",
        "\n",
        "        print(\"Sentiment Analysis Model Trained - accuracy:   %0.6f\" % score)\n",
        "\n",
        "        #liar_liar_train.head()\n",
        "\n",
        "    def predict(self, text):\n",
        "        \n",
        "        #convert the input text to dataframe to compare\n",
        "        input_df = pd.DataFrame()\n",
        "        #get the vader sentiment from input\n",
        "        input_sentiment = get_polarity_type(text)\n",
        "        input_df.loc[0,'raw_text'] = text\n",
        "        input_df.loc[0,'clean'] = cleaning(text)\n",
        "        input_df.loc[0,'vader_polarity'] = input_sentiment[0]\n",
        "        input_df.loc[0,'sentiment_0'] = input_sentiment[1]\n",
        "        input_df.loc[0,'sentiment_1'] = input_sentiment[2]\n",
        "        input_df.loc[0,'sentiment_2'] = input_sentiment[3]\n",
        "        input_df.loc[0,'sentiment_score'] = input_sentiment[4]\n",
        "        \n",
        "        #display(input_df)\n",
        "        \n",
        "        #get the TF IDF mapping from input with the TF IDF from the training set\n",
        "        input_tfidf = self.tfidfV.transform(input_df['clean'])\n",
        "        input_tfidf = pd.DataFrame(input_tfidf.toarray())\n",
        "        \n",
        "        #convert the input TF IDF to correct size since the training compare set has 4 PCA values, need to reduce the \n",
        "            #input TF IDF to 4 values\n",
        "        #pca = PCA(n_components=self.pca_components)\n",
        "        #input_components = pd.DataFrame(self.pca.transform(input_tfidf)).transpose()\n",
        "        input_components = pd.DataFrame(np.matmul(input_tfidf.values, self.comp.transpose()))\n",
        "        \n",
        "        #build the input set to compare to the training set\n",
        "        input_set = pd.concat([input_df.loc[:,self.compare_col], input_components] ,axis=1)\n",
        "        \n",
        "        #find the closest document in the training set\n",
        "        dist = distance.cdist(input_set, self.compare_set, metric = 'cosine')\n",
        "        sim_index = dist.argmin()\n",
        "        sim_dist = dist[0,dist.argmin()]\n",
        "        \n",
        "        \n",
        "        #get the truth label from the closest in training set - that's the prediction\n",
        "        predicted = self.full_train.loc[sim_index, 'label']\n",
        "        #the probability is the 1-dist away from closest in training set.\n",
        "        predicted_prob = 1-sim_dist;\n",
        "        \n",
        "        return predicted/5, float(predicted_prob)\n",
        "    \n",
        "    \n",
        "sa = SentimentAnalysis()\n",
        "sa.predict(\"Says the Annies List political group supports third-trimester abortions on demand.\")"
      ],
      "execution_count": 0,
      "outputs": [
        {
          "output_type": "stream",
          "text": [
            "Sentiment Analysis Model Trained - accuracy:   0.215686\n"
          ],
          "name": "stdout"
        },
        {
          "output_type": "execute_result",
          "data": {
            "text/plain": [
              "(0.4, 0.9662313701234609)"
            ]
          },
          "metadata": {
            "tags": []
          },
          "execution_count": 282
        }
      ]
    },
    {
      "cell_type": "code",
      "metadata": {
        "id": "xDq8HuUIv589",
        "colab_type": "code",
        "outputId": "05ba09ed-e88b-49c4-ffea-fabafd06c392",
        "colab": {
          "base_uri": "https://localhost:8080/",
          "height": 34
        }
      },
      "source": [
        "sa.predict('help me the world is on fire')\n"
      ],
      "execution_count": 0,
      "outputs": [
        {
          "output_type": "execute_result",
          "data": {
            "text/plain": [
              "(1.0, 0.9932879276674065)"
            ]
          },
          "metadata": {
            "tags": []
          },
          "execution_count": 283
        }
      ]
    },
    {
      "cell_type": "code",
      "metadata": {
        "id": "rl-HrVoyv-rA",
        "colab_type": "code",
        "outputId": "91088bb6-5b92-43db-9ba7-c895adcd9b39",
        "colab": {
          "base_uri": "https://localhost:8080/",
          "height": 683
        }
      },
      "source": [
        "liar_liar_test = pd.read_csv('/content/drive/My Drive/AlternusVeraDataSets2019/Insurgents/Sandhya/Liar_Liar/liar_liar_test.csv')\n",
        "liar_liar_test.head()"
      ],
      "execution_count": 0,
      "outputs": [
        {
          "output_type": "execute_result",
          "data": {
            "text/html": [
              "<div>\n",
              "<style scoped>\n",
              "    .dataframe tbody tr th:only-of-type {\n",
              "        vertical-align: middle;\n",
              "    }\n",
              "\n",
              "    .dataframe tbody tr th {\n",
              "        vertical-align: top;\n",
              "    }\n",
              "\n",
              "    .dataframe thead th {\n",
              "        text-align: right;\n",
              "    }\n",
              "</style>\n",
              "<table border=\"1\" class=\"dataframe\">\n",
              "  <thead>\n",
              "    <tr style=\"text-align: right;\">\n",
              "      <th></th>\n",
              "      <th>Unnamed: 0</th>\n",
              "      <th>Unnamed: 0.1</th>\n",
              "      <th>Unnamed: 0.1.1</th>\n",
              "      <th>jsonid</th>\n",
              "      <th>liar_liar_label</th>\n",
              "      <th>raw_text</th>\n",
              "      <th>subject</th>\n",
              "      <th>speaker</th>\n",
              "      <th>speakerjobtitle</th>\n",
              "      <th>stateinfo</th>\n",
              "      <th>partyaffiliation</th>\n",
              "      <th>barelytruecounts</th>\n",
              "      <th>falsecounts</th>\n",
              "      <th>halftruecounts</th>\n",
              "      <th>mostlytrueocunts</th>\n",
              "      <th>pantsonfirecounts</th>\n",
              "      <th>context</th>\n",
              "      <th>clean</th>\n",
              "      <th>sentiment_vector</th>\n",
              "      <th>vader_polarity</th>\n",
              "      <th>sentiment_score</th>\n",
              "      <th>label</th>\n",
              "      <th>sentiment_0</th>\n",
              "      <th>sentiment_1</th>\n",
              "      <th>sentiment_2</th>\n",
              "    </tr>\n",
              "  </thead>\n",
              "  <tbody>\n",
              "    <tr>\n",
              "      <th>0</th>\n",
              "      <td>0</td>\n",
              "      <td>0</td>\n",
              "      <td>80</td>\n",
              "      <td>2854.json</td>\n",
              "      <td>pants-fire</td>\n",
              "      <td>Rebuilding three high schools will benefit 40 ...</td>\n",
              "      <td>education</td>\n",
              "      <td>carole-smith</td>\n",
              "      <td>Portland schools superintendent</td>\n",
              "      <td>Oregon</td>\n",
              "      <td>none</td>\n",
              "      <td>0.0</td>\n",
              "      <td>0.0</td>\n",
              "      <td>0.0</td>\n",
              "      <td>0.0</td>\n",
              "      <td>1.0</td>\n",
              "      <td>a press briefing</td>\n",
              "      <td>rebuild three high school benefit percent port...</td>\n",
              "      <td>[0.0, 0.75, 0.25, 0.4588]</td>\n",
              "      <td>0</td>\n",
              "      <td>0.4588</td>\n",
              "      <td>0</td>\n",
              "      <td>0.000</td>\n",
              "      <td>0.750</td>\n",
              "      <td>0.250</td>\n",
              "    </tr>\n",
              "    <tr>\n",
              "      <th>1</th>\n",
              "      <td>1</td>\n",
              "      <td>1</td>\n",
              "      <td>124</td>\n",
              "      <td>10147.json</td>\n",
              "      <td>false</td>\n",
              "      <td>On an income cap for recipients of the popular...</td>\n",
              "      <td>education</td>\n",
              "      <td>jason-carter</td>\n",
              "      <td>State Senator</td>\n",
              "      <td>Georgia</td>\n",
              "      <td>democrat</td>\n",
              "      <td>1.0</td>\n",
              "      <td>0.0</td>\n",
              "      <td>2.0</td>\n",
              "      <td>1.0</td>\n",
              "      <td>0.0</td>\n",
              "      <td>forum</td>\n",
              "      <td>incom cap recipe popular hope scholarship</td>\n",
              "      <td>[0.0, 0.412, 0.588, 0.6908]</td>\n",
              "      <td>1</td>\n",
              "      <td>0.6908</td>\n",
              "      <td>1</td>\n",
              "      <td>0.000</td>\n",
              "      <td>0.412</td>\n",
              "      <td>0.588</td>\n",
              "    </tr>\n",
              "    <tr>\n",
              "      <th>2</th>\n",
              "      <td>2</td>\n",
              "      <td>2</td>\n",
              "      <td>168</td>\n",
              "      <td>7744.json</td>\n",
              "      <td>mostly-true</td>\n",
              "      <td>Says states mandated tests come from an Englis...</td>\n",
              "      <td>education</td>\n",
              "      <td>george-lavender</td>\n",
              "      <td>State representative</td>\n",
              "      <td>Texas</td>\n",
              "      <td>republican</td>\n",
              "      <td>0.0</td>\n",
              "      <td>0.0</td>\n",
              "      <td>0.0</td>\n",
              "      <td>1.0</td>\n",
              "      <td>0.0</td>\n",
              "      <td>in Texas House of Representatives debate</td>\n",
              "      <td>say state mandat test come english company</td>\n",
              "      <td>[0.0, 1.0, 0.0, 0.0]</td>\n",
              "      <td>0</td>\n",
              "      <td>0.0000</td>\n",
              "      <td>4</td>\n",
              "      <td>0.000</td>\n",
              "      <td>1.000</td>\n",
              "      <td>0.000</td>\n",
              "    </tr>\n",
              "    <tr>\n",
              "      <th>3</th>\n",
              "      <td>3</td>\n",
              "      <td>3</td>\n",
              "      <td>181</td>\n",
              "      <td>5470.json</td>\n",
              "      <td>true</td>\n",
              "      <td>Pasco County schools have graduation rates sub...</td>\n",
              "      <td>education</td>\n",
              "      <td>heather-fiorentino</td>\n",
              "      <td>superintendent of Pasco County's public schools</td>\n",
              "      <td>Florida</td>\n",
              "      <td>republican</td>\n",
              "      <td>0.0</td>\n",
              "      <td>0.0</td>\n",
              "      <td>1.0</td>\n",
              "      <td>0.0</td>\n",
              "      <td>1.0</td>\n",
              "      <td>a press release</td>\n",
              "      <td>pisco county school graduate rate substantia h...</td>\n",
              "      <td>[0.0, 1.0, 0.0, 0.0]</td>\n",
              "      <td>0</td>\n",
              "      <td>0.0000</td>\n",
              "      <td>5</td>\n",
              "      <td>0.000</td>\n",
              "      <td>1.000</td>\n",
              "      <td>0.000</td>\n",
              "    </tr>\n",
              "    <tr>\n",
              "      <th>4</th>\n",
              "      <td>4</td>\n",
              "      <td>4</td>\n",
              "      <td>187</td>\n",
              "      <td>8320.json</td>\n",
              "      <td>mostly-true</td>\n",
              "      <td>Today many Florida teachers are at risk of hav...</td>\n",
              "      <td>education</td>\n",
              "      <td>charlie-crist</td>\n",
              "      <td>0</td>\n",
              "      <td>Florida</td>\n",
              "      <td>democrat</td>\n",
              "      <td>15.0</td>\n",
              "      <td>9.0</td>\n",
              "      <td>20.0</td>\n",
              "      <td>19.0</td>\n",
              "      <td>2.0</td>\n",
              "      <td>a Tampa Bay Times op-ed</td>\n",
              "      <td>today mani florida teacher risk pay impact per...</td>\n",
              "      <td>[0.241, 0.759, 0.0, -0.3612]</td>\n",
              "      <td>0</td>\n",
              "      <td>-0.3612</td>\n",
              "      <td>4</td>\n",
              "      <td>0.241</td>\n",
              "      <td>0.759</td>\n",
              "      <td>0.000</td>\n",
              "    </tr>\n",
              "  </tbody>\n",
              "</table>\n",
              "</div>"
            ],
            "text/plain": [
              "   Unnamed: 0  Unnamed: 0.1  ...  sentiment_1 sentiment_2\n",
              "0           0             0  ...        0.750       0.250\n",
              "1           1             1  ...        0.412       0.588\n",
              "2           2             2  ...        1.000       0.000\n",
              "3           3             3  ...        1.000       0.000\n",
              "4           4             4  ...        0.759       0.000\n",
              "\n",
              "[5 rows x 25 columns]"
            ]
          },
          "metadata": {
            "tags": []
          },
          "execution_count": 284
        }
      ]
    },
    {
      "cell_type": "code",
      "metadata": {
        "id": "JVDfd6atwHv4",
        "colab_type": "code",
        "outputId": "5d9f63af-d2a0-425f-e6f1-cff1fb1ff15c",
        "colab": {
          "base_uri": "https://localhost:8080/",
          "height": 34
        }
      },
      "source": [
        "sa.predict(liar_liar_test.loc[2,'raw_text'])\n"
      ],
      "execution_count": 0,
      "outputs": [
        {
          "output_type": "execute_result",
          "data": {
            "text/plain": [
              "(0.4, 0.9995668216987981)"
            ]
          },
          "metadata": {
            "tags": []
          },
          "execution_count": 285
        }
      ]
    }
  ]
}