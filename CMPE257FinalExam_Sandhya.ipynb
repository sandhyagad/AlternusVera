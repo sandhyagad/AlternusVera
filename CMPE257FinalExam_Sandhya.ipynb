{
  "nbformat": 4,
  "nbformat_minor": 0,
  "metadata": {
    "kernelspec": {
      "display_name": "Python 3",
      "language": "python",
      "name": "python3"
    },
    "language_info": {
      "codemirror_mode": {
        "name": "ipython",
        "version": 3
      },
      "file_extension": ".py",
      "mimetype": "text/x-python",
      "name": "python",
      "nbconvert_exporter": "python",
      "pygments_lexer": "ipython3",
      "version": "3.6.8"
    },
    "colab": {
      "name": "CMPE257FinalExam-Sandhya.ipynb",
      "provenance": [],
      "collapsed_sections": [],
      "toc_visible": true,
      "include_colab_link": true
    }
  },
  "cells": [
    {
      "cell_type": "markdown",
      "metadata": {
        "id": "view-in-github",
        "colab_type": "text"
      },
      "source": [
        "<a href=\"https://colab.research.google.com/github/sandhyagad/AlternusVera/blob/master/CMPE257FinalExam_Sandhya.ipynb\" target=\"_parent\"><img src=\"https://colab.research.google.com/assets/colab-badge.svg\" alt=\"Open In Colab\"/></a>"
      ]
    },
    {
      "cell_type": "markdown",
      "metadata": {
        "id": "IIDHZaWFZrNr",
        "colab_type": "text"
      },
      "source": [
        "# **1. Configuration of the System:**\n",
        "\n",
        " **Notebook Location** The solution/collab notebook of my factor OPINION MINING can be found under : \n",
        "\n",
        " **Github Link:**\n",
        "\n",
        "\n",
        "\n",
        " **Colab Link :** https://drive.google.com/open?id=1tC5fmVaAjon2uY74w6qwJvGu6zWw-Cek\n",
        "\n",
        "**Code structure:** I have placed the solution and displayed relevant tables and charts/graphs after every algorithm /methodology implementation.\n",
        "\n",
        "\n",
        "**Dataset can be found under the folder :** \n",
        "I have saved the datasets under shared folder space created by the professor. The links for the datset are as under:\n",
        "\n",
        "**Dataset Location**:\n",
        "https://drive.google.com/open?id=1kguFWPWjGUe1kNqRcBYq4l-rpbi2Momy\n"
      ]
    },
    {
      "cell_type": "markdown",
      "metadata": {
        "id": "Ww7141DkaWx1",
        "colab_type": "text"
      },
      "source": [
        "# **2. Data Collection :**\n",
        "**Dataset Source and Description:**\n",
        "\n",
        "**Dataset 1:**\n",
        "**Dataset Origin**: https://dataverse.harvard.edu/dataset.xhtml?persistentId=doi:10.7910/DVN/ULHLCB\n",
        "\n",
        "**Description of the Data:**\n"
      ]
    },
    {
      "cell_type": "markdown",
      "metadata": {
        "id": "u1fDVvOdqTeo",
        "colab_type": "text"
      },
      "source": [
        "# **3. Set Data Narrative :**\n",
        "\n",
        "The main purpose of this project is to identify essential features that can be trusted to predict if a news is fake or not. These features are realted to the news content. \n",
        "Our key classification is to predict if a news is fake or not based on these features. In addition, we are also intended to learn various deep learning and neural networking techniques and compare their performances.\n",
        "\n",
        "The intended application of the project is for use in applying visibility weights in social media. Using weights produced by this model, social networks can make stories which are highly likely to be fake news less visible.\n",
        "\n",
        "\n",
        "\n",
        "#### **Strategy :**\n",
        "\n",
        "I have implemented Sentiment Analysis on NELA 2018 Datset.\n",
        "\n",
        "A basic task in sentiment analysis is classifying the polarity of a given text at the document, sentence, or feature/aspect level—whether the expressed opinion in a document, a sentence or an entity feature/aspect is positive, negative, or neutral.\n"
      ]
    },
    {
      "cell_type": "markdown",
      "metadata": {
        "id": "8wcA8jX_qsAX",
        "colab_type": "text"
      },
      "source": [
        "### **Mounting the drive on the google**"
      ]
    },
    {
      "cell_type": "code",
      "metadata": {
        "id": "JOmxAjhByOIU",
        "colab_type": "code",
        "outputId": "073ace22-bc66-4a10-b20e-a5be6b012995",
        "colab": {
          "base_uri": "https://localhost:8080/",
          "height": 122
        }
      },
      "source": [
        "from google.colab import drive\n",
        "drive.mount('/content/drive')"
      ],
      "execution_count": 8,
      "outputs": [
        {
          "output_type": "stream",
          "text": [
            "Go to this URL in a browser: https://accounts.google.com/o/oauth2/auth?client_id=947318989803-6bn6qk8qdgf4n4g3pfee6491hc0brc4i.apps.googleusercontent.com&redirect_uri=urn%3aietf%3awg%3aoauth%3a2.0%3aoob&response_type=code&scope=email%20https%3a%2f%2fwww.googleapis.com%2fauth%2fdocs.test%20https%3a%2f%2fwww.googleapis.com%2fauth%2fdrive%20https%3a%2f%2fwww.googleapis.com%2fauth%2fdrive.photos.readonly%20https%3a%2f%2fwww.googleapis.com%2fauth%2fpeopleapi.readonly\n",
            "\n",
            "Enter your authorization code:\n",
            "··········\n",
            "Mounted at /content/drive\n"
          ],
          "name": "stdout"
        }
      ]
    },
    {
      "cell_type": "markdown",
      "metadata": {
        "id": "mQN3oj1KyZGj",
        "colab_type": "text"
      },
      "source": [
        "### **Importing the required Libraries**"
      ]
    },
    {
      "cell_type": "code",
      "metadata": {
        "id": "YfaEcQS8LFnP",
        "colab_type": "code",
        "colab": {}
      },
      "source": [
        "import pandas as pd\n",
        "import numpy as np\n",
        "import csv\n",
        "import gensim\n",
        "from sklearn.feature_extraction.text import TfidfVectorizer\n",
        "from sklearn.feature_extraction.text import CountVectorizer\n",
        "from sklearn.model_selection import train_test_split\n",
        "from sklearn.linear_model import LogisticRegression\n",
        "from sklearn.metrics import classification_report\n",
        "from sklearn.preprocessing import StandardScaler\n",
        "from nltk.stem.wordnet import WordNetLemmatizer\n",
        "from sklearn.model_selection import GridSearchCV\n",
        "from sklearn.metrics import confusion_matrix\n",
        "from nltk.stem.porter import PorterStemmer\n",
        "from sklearn import metrics\n",
        "from sklearn.metrics import roc_auc_score\n",
        "from sklearn.metrics import roc_curve\n",
        "from sklearn.pipeline import Pipeline\n",
        "from nltk.corpus import stopwords\n",
        "from string import punctuation\n",
        "import seaborn as sns\n",
        "import pandas as pd\n",
        "import numpy as np\n",
        "import nltk\n",
        "import re\n",
        "import nltk\n",
        "from sklearn.model_selection import train_test_split\n",
        "nltk.download('stopwords')\n",
        "nltk.download('averaged_perceptron_tagger')\n",
        "nltk.download('popular')\n",
        "nltk.download('punkt')\n",
        "import matplotlib.pyplot as plt\n",
        "from scipy import sparse"
      ],
      "execution_count": 0,
      "outputs": []
    },
    {
      "cell_type": "code",
      "metadata": {
        "id": "bg3iNKjaSRiq",
        "colab_type": "code",
        "colab": {}
      },
      "source": [
        "from pydrive.auth import GoogleAuth\n",
        "from pydrive.drive import GoogleDrive\n",
        "from google.colab import auth\n",
        "from oauth2client.client import GoogleCredentials\n",
        "# Authenticate and create the PyDrive client.\n",
        "auth.authenticate_user()\n",
        "gauth = GoogleAuth()\n",
        "gauth.credentials = GoogleCredentials.get_application_default()\n",
        "googleDrive = GoogleDrive(gauth)"
      ],
      "execution_count": 0,
      "outputs": []
    },
    {
      "cell_type": "code",
      "metadata": {
        "id": "j_bgkn1pTOT7",
        "colab_type": "code",
        "colab": {}
      },
      "source": [
        "nela_data_file = \"/content/drive/My Drive/AlternusVeraDataSets2019/FinalExam/Insurgents/Final_Exam_Dataset_NELA/data.csv\"\n",
        "label_file = \"/content/drive/My Drive/AlternusVeraDataSets2019/FinalExam/Insurgents/Final_Exam_Dataset_NELA/labels.csv\""
      ],
      "execution_count": 0,
      "outputs": []
    },
    {
      "cell_type": "code",
      "metadata": {
        "id": "SahXFY3P7I_x",
        "colab_type": "code",
        "colab": {}
      },
      "source": [
        "articles_colnames = ['date', 'source', 'name', 'content']"
      ],
      "execution_count": 0,
      "outputs": []
    },
    {
      "cell_type": "code",
      "metadata": {
        "id": "TbfKyvJe7Ycf",
        "colab_type": "code",
        "colab": {}
      },
      "source": [
        "# Read the test, training and valid data from files\n",
        "# Header = 0 indicates that the first line of the file contains column names,\n",
        "# As there is no Header, create a column names for each column in the dataset\n",
        "# delimiter = \\t indicates that the fields are seperated by tabs, \n",
        "nela_art_data = pd.read_csv(nela_data_file, sep=',', names = articles_colnames, nrows=100000, error_bad_lines=False)\n",
        "labels_data = pd.read_csv(label_file, sep=',', error_bad_lines=False)             "
      ],
      "execution_count": 0,
      "outputs": []
    },
    {
      "cell_type": "code",
      "metadata": {
        "id": "wmYs4qZe7bh2",
        "colab_type": "code",
        "outputId": "918b6939-16e4-40db-9681-a5f0e0f3ccef",
        "colab": {
          "base_uri": "https://localhost:8080/",
          "height": 221
        }
      },
      "source": [
        "#Total number of rows\n",
        "print(\"Total Number of Rows and Columns: in Articles Data:\", nela_art_data.shape)\n",
        "nela_art_data.drop(nela_art_data.index[0])\n",
        "nela_art_data.set_index('source')\n",
        "nela_art_data.head(5)"
      ],
      "execution_count": 16,
      "outputs": [
        {
          "output_type": "stream",
          "text": [
            "Total Number of Rows and Columns: in Articles Data: (100000, 4)\n"
          ],
          "name": "stdout"
        },
        {
          "output_type": "execute_result",
          "data": {
            "text/html": [
              "<div>\n",
              "<style scoped>\n",
              "    .dataframe tbody tr th:only-of-type {\n",
              "        vertical-align: middle;\n",
              "    }\n",
              "\n",
              "    .dataframe tbody tr th {\n",
              "        vertical-align: top;\n",
              "    }\n",
              "\n",
              "    .dataframe thead th {\n",
              "        text-align: right;\n",
              "    }\n",
              "</style>\n",
              "<table border=\"1\" class=\"dataframe\">\n",
              "  <thead>\n",
              "    <tr style=\"text-align: right;\">\n",
              "      <th></th>\n",
              "      <th>date</th>\n",
              "      <th>source</th>\n",
              "      <th>name</th>\n",
              "      <th>content</th>\n",
              "    </tr>\n",
              "  </thead>\n",
              "  <tbody>\n",
              "    <tr>\n",
              "      <th>0</th>\n",
              "      <td>date</td>\n",
              "      <td>source</td>\n",
              "      <td>name</td>\n",
              "      <td>content</td>\n",
              "    </tr>\n",
              "    <tr>\n",
              "      <th>1</th>\n",
              "      <td>2018-02-01</td>\n",
              "      <td>Addicting Info</td>\n",
              "      <td>Donald Trump Jr Likes Fox News Tweet About Spr...</td>\n",
              "      <td>Since Donald Trump Jr. has admitted on Twitter...</td>\n",
              "    </tr>\n",
              "    <tr>\n",
              "      <th>2</th>\n",
              "      <td>2018-02-01</td>\n",
              "      <td>Addicting Info</td>\n",
              "      <td>REPORT UK Will Share Less Confidential Info Wi...</td>\n",
              "      <td>The Republican-written and Republican-altered ...</td>\n",
              "    </tr>\n",
              "    <tr>\n",
              "      <th>3</th>\n",
              "      <td>2018-02-01</td>\n",
              "      <td>Addicting Info</td>\n",
              "      <td>Trump Jr Mocked To Oblivion After Democracy Di...</td>\n",
              "      <td>The world is still laughing at the Trump admin...</td>\n",
              "    </tr>\n",
              "    <tr>\n",
              "      <th>4</th>\n",
              "      <td>2018-02-01</td>\n",
              "      <td>BBC</td>\n",
              "      <td>Battling to save the worlds bananas</td>\n",
              "      <td>Visiting the Matanuska banana plantation is no...</td>\n",
              "    </tr>\n",
              "  </tbody>\n",
              "</table>\n",
              "</div>"
            ],
            "text/plain": [
              "         date  ...                                            content\n",
              "0        date  ...                                            content\n",
              "1  2018-02-01  ...  Since Donald Trump Jr. has admitted on Twitter...\n",
              "2  2018-02-01  ...  The Republican-written and Republican-altered ...\n",
              "3  2018-02-01  ...  The world is still laughing at the Trump admin...\n",
              "4  2018-02-01  ...  Visiting the Matanuska banana plantation is no...\n",
              "\n",
              "[5 rows x 4 columns]"
            ]
          },
          "metadata": {
            "tags": []
          },
          "execution_count": 16
        }
      ]
    },
    {
      "cell_type": "code",
      "metadata": {
        "id": "INUxJ-m27d7O",
        "colab_type": "code",
        "outputId": "2c8f31a3-39fb-4d54-ac3c-bf0757e52bae",
        "colab": {
          "base_uri": "https://localhost:8080/",
          "height": 221
        }
      },
      "source": [
        "# Check Labels Data\n",
        "print(\"Total Number of Rows and Columns: in Labels Data:\", labels_data.shape)\n",
        "#labels_data.iloc[: , [0, 53, 54,55,56,57]]\n",
        "new_labels_data=labels_data.iloc[: , [0, 52, 53, 54,55,56,57]].copy() \n",
        "new_labels_data=new_labels_data.dropna()\n",
        "new_labels_data.columns = ['source', 'PantsOnFire', 'False', 'MostlyFalse', 'HalfTrue', 'MostlyTrue', 'True']\n",
        "new_labels_data.set_index('source')\n",
        "new_labels_data.head(5)"
      ],
      "execution_count": 17,
      "outputs": [
        {
          "output_type": "stream",
          "text": [
            "Total Number of Rows and Columns: in Labels Data: (194, 58)\n"
          ],
          "name": "stdout"
        },
        {
          "output_type": "execute_result",
          "data": {
            "text/html": [
              "<div>\n",
              "<style scoped>\n",
              "    .dataframe tbody tr th:only-of-type {\n",
              "        vertical-align: middle;\n",
              "    }\n",
              "\n",
              "    .dataframe tbody tr th {\n",
              "        vertical-align: top;\n",
              "    }\n",
              "\n",
              "    .dataframe thead th {\n",
              "        text-align: right;\n",
              "    }\n",
              "</style>\n",
              "<table border=\"1\" class=\"dataframe\">\n",
              "  <thead>\n",
              "    <tr style=\"text-align: right;\">\n",
              "      <th></th>\n",
              "      <th>source</th>\n",
              "      <th>PantsOnFire</th>\n",
              "      <th>False</th>\n",
              "      <th>MostlyFalse</th>\n",
              "      <th>HalfTrue</th>\n",
              "      <th>MostlyTrue</th>\n",
              "      <th>True</th>\n",
              "    </tr>\n",
              "  </thead>\n",
              "  <tbody>\n",
              "    <tr>\n",
              "      <th>5</th>\n",
              "      <td>Al Jazeera</td>\n",
              "      <td>0.0</td>\n",
              "      <td>1.0</td>\n",
              "      <td>0.0</td>\n",
              "      <td>0.0</td>\n",
              "      <td>0.0</td>\n",
              "      <td>0.0</td>\n",
              "    </tr>\n",
              "    <tr>\n",
              "      <th>11</th>\n",
              "      <td>Bipartisan Report</td>\n",
              "      <td>0.0</td>\n",
              "      <td>1.0</td>\n",
              "      <td>0.0</td>\n",
              "      <td>0.0</td>\n",
              "      <td>0.0</td>\n",
              "      <td>0.0</td>\n",
              "    </tr>\n",
              "    <tr>\n",
              "      <th>13</th>\n",
              "      <td>Breitbart</td>\n",
              "      <td>2.0</td>\n",
              "      <td>2.0</td>\n",
              "      <td>0.0</td>\n",
              "      <td>0.0</td>\n",
              "      <td>1.0</td>\n",
              "      <td>0.0</td>\n",
              "    </tr>\n",
              "    <tr>\n",
              "      <th>15</th>\n",
              "      <td>Buzzfeed</td>\n",
              "      <td>1.0</td>\n",
              "      <td>0.0</td>\n",
              "      <td>0.0</td>\n",
              "      <td>0.0</td>\n",
              "      <td>0.0</td>\n",
              "      <td>0.0</td>\n",
              "    </tr>\n",
              "    <tr>\n",
              "      <th>18</th>\n",
              "      <td>CNN</td>\n",
              "      <td>0.0</td>\n",
              "      <td>0.0</td>\n",
              "      <td>1.0</td>\n",
              "      <td>0.0</td>\n",
              "      <td>0.0</td>\n",
              "      <td>0.0</td>\n",
              "    </tr>\n",
              "  </tbody>\n",
              "</table>\n",
              "</div>"
            ],
            "text/plain": [
              "               source  PantsOnFire  False  ...  HalfTrue  MostlyTrue  True\n",
              "5          Al Jazeera          0.0    1.0  ...       0.0         0.0   0.0\n",
              "11  Bipartisan Report          0.0    1.0  ...       0.0         0.0   0.0\n",
              "13          Breitbart          2.0    2.0  ...       0.0         1.0   0.0\n",
              "15           Buzzfeed          1.0    0.0  ...       0.0         0.0   0.0\n",
              "18                CNN          0.0    0.0  ...       0.0         0.0   0.0\n",
              "\n",
              "[5 rows x 7 columns]"
            ]
          },
          "metadata": {
            "tags": []
          },
          "execution_count": 17
        }
      ]
    },
    {
      "cell_type": "code",
      "metadata": {
        "id": "rIR46cN87gK5",
        "colab_type": "code",
        "outputId": "61e5c95a-50fe-4de5-88a1-08a8d0a4b86e",
        "colab": {
          "base_uri": "https://localhost:8080/",
          "height": 34
        }
      },
      "source": [
        "merged_nela_art_data = pd.merge(nela_art_data, new_labels_data, on='source') \n",
        "print(\"Total Number of Rows and Columns: in Articles Data:\", merged_nela_art_data.shape)\n",
        "#nela_art_data.head()"
      ],
      "execution_count": 18,
      "outputs": [
        {
          "output_type": "stream",
          "text": [
            "Total Number of Rows and Columns: in Articles Data: (31225, 10)\n"
          ],
          "name": "stdout"
        }
      ]
    },
    {
      "cell_type": "code",
      "metadata": {
        "id": "xQkP-9ZD7iru",
        "colab_type": "code",
        "colab": {}
      },
      "source": [
        "df = merged_nela_art_data\n",
        "tw = 1\n",
        "mtw = .5\n",
        "htw = .25\n",
        "pfw = 1\n",
        "fw = .75\n",
        "mfw = .5\n",
        "merged_nela_art_data['Verdict'] = (htw*df['HalfTrue'] + mtw*df['MostlyTrue'] + tw*df['True']) - (pfw*df['PantsOnFire'] + fw*df['False'] + mfw*df['MostlyFalse'])\n",
        "merged_nela_art_data['Verdict'] = df['Verdict'].apply(lambda x: 1 if x > 0 else 0)\n"
      ],
      "execution_count": 0,
      "outputs": []
    },
    {
      "cell_type": "code",
      "metadata": {
        "id": "ddm58rIW7kyX",
        "colab_type": "code",
        "outputId": "03ed0e93-a42a-4cdd-8053-0ad4ddd3928e",
        "colab": {
          "base_uri": "https://localhost:8080/",
          "height": 589
        }
      },
      "source": [
        "merged_nela_art_data.to_csv('/content/drive/My Drive/AlternusVeraDataSets2019/FinalExam/Insurgents/Sandhya/merged_data.csv', encoding='utf-8', index=False)\n",
        "merged_nela_art_data"
      ],
      "execution_count": 21,
      "outputs": [
        {
          "output_type": "execute_result",
          "data": {
            "text/html": [
              "<div>\n",
              "<style scoped>\n",
              "    .dataframe tbody tr th:only-of-type {\n",
              "        vertical-align: middle;\n",
              "    }\n",
              "\n",
              "    .dataframe tbody tr th {\n",
              "        vertical-align: top;\n",
              "    }\n",
              "\n",
              "    .dataframe thead th {\n",
              "        text-align: right;\n",
              "    }\n",
              "</style>\n",
              "<table border=\"1\" class=\"dataframe\">\n",
              "  <thead>\n",
              "    <tr style=\"text-align: right;\">\n",
              "      <th></th>\n",
              "      <th>date</th>\n",
              "      <th>source</th>\n",
              "      <th>name</th>\n",
              "      <th>content</th>\n",
              "      <th>PantsOnFire</th>\n",
              "      <th>False</th>\n",
              "      <th>MostlyFalse</th>\n",
              "      <th>HalfTrue</th>\n",
              "      <th>MostlyTrue</th>\n",
              "      <th>True</th>\n",
              "      <th>Verdict</th>\n",
              "    </tr>\n",
              "  </thead>\n",
              "  <tbody>\n",
              "    <tr>\n",
              "      <th>0</th>\n",
              "      <td>2018-02-01</td>\n",
              "      <td>Infowars</td>\n",
              "      <td>Adam Schiff FISA Memo Could Lead To Firings Of...</td>\n",
              "      <td>Stocks are red. Trey Gowdy is abruptly retirin...</td>\n",
              "      <td>2.0</td>\n",
              "      <td>1.0</td>\n",
              "      <td>0.0</td>\n",
              "      <td>1.0</td>\n",
              "      <td>0.0</td>\n",
              "      <td>0.0</td>\n",
              "      <td>0</td>\n",
              "    </tr>\n",
              "    <tr>\n",
              "      <th>1</th>\n",
              "      <td>2018-02-01</td>\n",
              "      <td>Infowars</td>\n",
              "      <td>Analyses Find White House Immigration Plan Cut...</td>\n",
              "      <td>The White Houses immigration framework would s...</td>\n",
              "      <td>2.0</td>\n",
              "      <td>1.0</td>\n",
              "      <td>0.0</td>\n",
              "      <td>1.0</td>\n",
              "      <td>0.0</td>\n",
              "      <td>0.0</td>\n",
              "      <td>0</td>\n",
              "    </tr>\n",
              "    <tr>\n",
              "      <th>2</th>\n",
              "      <td>2018-02-01</td>\n",
              "      <td>Infowars</td>\n",
              "      <td>Congressman FISA Memo Will Shake FBI to its Core</td>\n",
              "      <td>Congressman Jeff Duncan (R-SC) says the releas...</td>\n",
              "      <td>2.0</td>\n",
              "      <td>1.0</td>\n",
              "      <td>0.0</td>\n",
              "      <td>1.0</td>\n",
              "      <td>0.0</td>\n",
              "      <td>0.0</td>\n",
              "      <td>0</td>\n",
              "    </tr>\n",
              "    <tr>\n",
              "      <th>3</th>\n",
              "      <td>2018-02-01</td>\n",
              "      <td>Infowars</td>\n",
              "      <td>Intelligence Agencies Join FBI in Push Against...</td>\n",
              "      <td>Whistleblowers, Republican congressional membe...</td>\n",
              "      <td>2.0</td>\n",
              "      <td>1.0</td>\n",
              "      <td>0.0</td>\n",
              "      <td>1.0</td>\n",
              "      <td>0.0</td>\n",
              "      <td>0.0</td>\n",
              "      <td>0</td>\n",
              "    </tr>\n",
              "    <tr>\n",
              "      <th>4</th>\n",
              "      <td>2018-02-01</td>\n",
              "      <td>Infowars</td>\n",
              "      <td>Report The FBI is Threatening Trump Over the F...</td>\n",
              "      <td>The FBI is threatening Donald Trump over the i...</td>\n",
              "      <td>2.0</td>\n",
              "      <td>1.0</td>\n",
              "      <td>0.0</td>\n",
              "      <td>1.0</td>\n",
              "      <td>0.0</td>\n",
              "      <td>0.0</td>\n",
              "      <td>0</td>\n",
              "    </tr>\n",
              "    <tr>\n",
              "      <th>...</th>\n",
              "      <td>...</td>\n",
              "      <td>...</td>\n",
              "      <td>...</td>\n",
              "      <td>...</td>\n",
              "      <td>...</td>\n",
              "      <td>...</td>\n",
              "      <td>...</td>\n",
              "      <td>...</td>\n",
              "      <td>...</td>\n",
              "      <td>...</td>\n",
              "      <td>...</td>\n",
              "    </tr>\n",
              "    <tr>\n",
              "      <th>31220</th>\n",
              "      <td>2018-04-16</td>\n",
              "      <td>Freedom Daily</td>\n",
              "      <td>WATCH Starbucks In Major Trouble After Video I...</td>\n",
              "      <td>The Chief Executive of Starbucks has been forc...</td>\n",
              "      <td>1.0</td>\n",
              "      <td>0.0</td>\n",
              "      <td>1.0</td>\n",
              "      <td>0.0</td>\n",
              "      <td>0.0</td>\n",
              "      <td>0.0</td>\n",
              "      <td>0</td>\n",
              "    </tr>\n",
              "    <tr>\n",
              "      <th>31221</th>\n",
              "      <td>2018-04-16</td>\n",
              "      <td>Freedom Daily</td>\n",
              "      <td>Wells Fargo Just Made Huge Move For Gun Owners...</td>\n",
              "      <td>Since the tragic shooting that occurred in Par...</td>\n",
              "      <td>1.0</td>\n",
              "      <td>0.0</td>\n",
              "      <td>1.0</td>\n",
              "      <td>0.0</td>\n",
              "      <td>0.0</td>\n",
              "      <td>0.0</td>\n",
              "      <td>0</td>\n",
              "    </tr>\n",
              "    <tr>\n",
              "      <th>31222</th>\n",
              "      <td>2018-04-17</td>\n",
              "      <td>Freedom Daily</td>\n",
              "      <td>Every Former Trump Aide Hit With Nasty Punishm...</td>\n",
              "      <td>Many of the former employees who served under ...</td>\n",
              "      <td>1.0</td>\n",
              "      <td>0.0</td>\n",
              "      <td>1.0</td>\n",
              "      <td>0.0</td>\n",
              "      <td>0.0</td>\n",
              "      <td>0.0</td>\n",
              "      <td>0</td>\n",
              "    </tr>\n",
              "    <tr>\n",
              "      <th>31223</th>\n",
              "      <td>2018-04-17</td>\n",
              "      <td>Freedom Daily</td>\n",
              "      <td>Smug David Hogg Announces Another Boycott Nobo...</td>\n",
              "      <td>Just when you thought that David Hoggs time wa...</td>\n",
              "      <td>1.0</td>\n",
              "      <td>0.0</td>\n",
              "      <td>1.0</td>\n",
              "      <td>0.0</td>\n",
              "      <td>0.0</td>\n",
              "      <td>0.0</td>\n",
              "      <td>0</td>\n",
              "    </tr>\n",
              "    <tr>\n",
              "      <th>31224</th>\n",
              "      <td>2018-04-17</td>\n",
              "      <td>Freedom Daily</td>\n",
              "      <td>WHAT Judge Who Ruled AGAINST Trump Just Offici...</td>\n",
              "      <td>The judge who is set to handle the case for Pr...</td>\n",
              "      <td>1.0</td>\n",
              "      <td>0.0</td>\n",
              "      <td>1.0</td>\n",
              "      <td>0.0</td>\n",
              "      <td>0.0</td>\n",
              "      <td>0.0</td>\n",
              "      <td>0</td>\n",
              "    </tr>\n",
              "  </tbody>\n",
              "</table>\n",
              "<p>31225 rows × 11 columns</p>\n",
              "</div>"
            ],
            "text/plain": [
              "             date         source  ... True Verdict\n",
              "0      2018-02-01       Infowars  ...  0.0       0\n",
              "1      2018-02-01       Infowars  ...  0.0       0\n",
              "2      2018-02-01       Infowars  ...  0.0       0\n",
              "3      2018-02-01       Infowars  ...  0.0       0\n",
              "4      2018-02-01       Infowars  ...  0.0       0\n",
              "...           ...            ...  ...  ...     ...\n",
              "31220  2018-04-16  Freedom Daily  ...  0.0       0\n",
              "31221  2018-04-16  Freedom Daily  ...  0.0       0\n",
              "31222  2018-04-17  Freedom Daily  ...  0.0       0\n",
              "31223  2018-04-17  Freedom Daily  ...  0.0       0\n",
              "31224  2018-04-17  Freedom Daily  ...  0.0       0\n",
              "\n",
              "[31225 rows x 11 columns]"
            ]
          },
          "metadata": {
            "tags": []
          },
          "execution_count": 21
        }
      ]
    },
    {
      "cell_type": "code",
      "metadata": {
        "id": "dbNDzycW7m6h",
        "colab_type": "code",
        "outputId": "812e0ba6-d4ad-413b-b765-40008065f521",
        "colab": {
          "base_uri": "https://localhost:8080/",
          "height": 51
        }
      },
      "source": [
        "print(\"The size of verdict = 1 : \", len(df['Verdict'][df['Verdict'] == 1].index))\n",
        "print(\"The size of verdict = 0 : \", len(df['Verdict'][df['Verdict'] == 0].index))"
      ],
      "execution_count": 22,
      "outputs": [
        {
          "output_type": "stream",
          "text": [
            "The size of verdict = 1 :  3398\n",
            "The size of verdict = 0 :  27827\n"
          ],
          "name": "stdout"
        }
      ]
    },
    {
      "cell_type": "code",
      "metadata": {
        "id": "LDMwAXij-nb7",
        "colab_type": "code",
        "outputId": "5961a6f1-8745-42a3-f432-e376d4afb05d",
        "colab": {
          "base_uri": "https://localhost:8080/",
          "height": 561
        }
      },
      "source": [
        "train_articles, test_articles = train_test_split(df, test_size=0.4)\n",
        "print(\"Total Number of Rows and Columns in Training Dataset: in Articles Data:\", train_articles.shape)\n",
        "print(\"********************************\")\n",
        "print(train_articles)\n",
        "print(\"Total Number of Rows and Columns in Testing Dataset: in Articles Data:\", test_articles.shape)\n",
        "print(\"********************************\")\n",
        "print(test_articles)\n"
      ],
      "execution_count": 23,
      "outputs": [
        {
          "output_type": "stream",
          "text": [
            "Total Number of Rows and Columns in Training Dataset: in Articles Data: (18735, 11)\n",
            "********************************\n",
            "             date              source  ... True Verdict\n",
            "14418  2018-02-26       Drudge Report  ...  0.0       0\n",
            "7341   2018-02-09           Breitbart  ...  0.0       0\n",
            "5978   2018-04-26         True Pundit  ...  0.0       0\n",
            "29138  2018-02-22  The New York Times  ...  0.0       0\n",
            "11019  2018-02-06   Bipartisan Report  ...  0.0       0\n",
            "...           ...                 ...  ...  ...     ...\n",
            "8193   2018-03-01                 CNN  ...  0.0       0\n",
            "2415   2018-02-09         True Pundit  ...  0.0       0\n",
            "31127  2018-05-03               MSNBC  ...  0.0       0\n",
            "16138  2018-03-25       Drudge Report  ...  0.0       0\n",
            "23938  2018-03-21       New York Post  ...  0.0       0\n",
            "\n",
            "[18735 rows x 11 columns]\n",
            "Total Number of Rows and Columns in Testing Dataset: in Articles Data: (12490, 11)\n",
            "********************************\n",
            "             date                 source  ... True Verdict\n",
            "18777  2018-04-30          Drudge Report  ...  0.0       0\n",
            "19299  2018-02-07        National Review  ...  1.0       1\n",
            "30306  2018-04-15               Buzzfeed  ...  0.0       0\n",
            "27085  2018-04-25          New York Post  ...  0.0       0\n",
            "27799  2018-04-30          New York Post  ...  0.0       0\n",
            "...           ...                    ...  ...  ...     ...\n",
            "17151  2018-04-13          Drudge Report  ...  0.0       0\n",
            "24902  2018-03-27          New York Post  ...  0.0       0\n",
            "1752   2018-04-09  The Political Insider  ...  0.0       0\n",
            "16994  2018-04-12          Drudge Report  ...  0.0       0\n",
            "6375   2018-05-03            True Pundit  ...  0.0       0\n",
            "\n",
            "[12490 rows x 11 columns]\n"
          ],
          "name": "stdout"
        }
      ]
    },
    {
      "cell_type": "markdown",
      "metadata": {
        "id": "85GQcv3tCFPa",
        "colab_type": "text"
      },
      "source": [
        "# **4. Data Cleaning and Text Preprocessing**"
      ]
    },
    {
      "cell_type": "markdown",
      "metadata": {
        "id": "OtC3eEFe-EDH",
        "colab_type": "text"
      },
      "source": [
        "## 4.1 **Distillation**\n",
        "\n",
        "Step 1: Data Cleaning and Text Preprocessing\n",
        "\n",
        "Step 2: Sentiment analysis using Vader Sentiment Analyser\n",
        "\n",
        "Step 3: LDA Topic Modelling\n",
        "\n",
        "Step 4: TF-IDF and Cosine Similarity on Sensationalism\n",
        "\n",
        "Step 5: Doc2Vec based on Sensational Classification\n",
        "\n",
        "**Steps included in the preprocessing:**\n",
        "\n",
        "* Remove Special Characters and Punctuations - Remove all Non-Letter Characters using Regular Expression\n",
        "* Lower case the news - Convert all the characters into lower case letters\n",
        "* Tokenization - Tokenization is the process splitting a sentence or paragraph into the most basic units.\n",
        "\n",
        "* Remove Stop Words - \"Stop words\" is the frequently occurring words that do not carry much meaning such as \"a\", \"and\" , \"is\", \"the\". In order to use the data as input for machine learning algorithms, we need to get rid of them. Fortunately, there is a function called stopwords which is already built in NLTK library\n",
        "* Lemmatization - Lemmatization is the process of converting the words of a sentence to its dictionary form\n",
        "* Stemming - It works by cutting off the end of the word, and in some cases also the beginning while looking for the root.\n",
        "* Spell Check - Thethe pre-trained model can be downloaded from :https://drive.google.com/file/d/0B7XkCwpI5KDYNlNUTTlSS21pQmM/edit\n",
        "\n",
        "It’s 1.5GB! It includes word vectors for a vocabulary of 3 million words and phrases that they trained on roughly 100 billion words from a Google News dataset. The vector length is 300 features.\n"
      ]
    },
    {
      "cell_type": "code",
      "metadata": {
        "id": "nvI_pApE-GRs",
        "colab_type": "code",
        "colab": {}
      },
      "source": [
        "import re\n",
        "\n",
        "def cleaning(raw_news):\n",
        "    import nltk\n",
        "    \n",
        "    # 1. Remove non-letters/Special Characters and Punctuations\n",
        "    news = re.sub(\"[^a-zA-Z]\", \" \", raw_news)\n",
        "    \n",
        "    # 2. Convert to lower case.\n",
        "    news =  news.lower()\n",
        "    \n",
        "    # 3. Tokenize.\n",
        "    news_words = nltk.word_tokenize( news)\n",
        "    \n",
        "    # 4. Convert the stopwords list to \"set\" data type.\n",
        "    stops = set(nltk.corpus.stopwords.words(\"english\"))\n",
        "    \n",
        "    # 5. Remove stop words. \n",
        "    words = [w for w in  news_words  if not w in stops]\n",
        "    \n",
        "    # 6. Lemmentize \n",
        "    wordnet_lem = [ WordNetLemmatizer().lemmatize(w) for w in words ]\n",
        "    \n",
        "    # 7. Stemming\n",
        "    stems = [nltk.stem.SnowballStemmer('english').stem(w) for w in wordnet_lem ]\n",
        "    \n",
        "    # 8. Join the stemmed words back into one string separated by space, and return the result.\n",
        "    return \" \".join(stems)"
      ],
      "execution_count": 0,
      "outputs": []
    },
    {
      "cell_type": "code",
      "metadata": {
        "id": "biCiQ-4u-VtC",
        "colab_type": "code",
        "outputId": "a5c3d863-ddfc-4fbe-92b3-886ca9af116d",
        "colab": {
          "base_uri": "https://localhost:8080/",
          "height": 136
        }
      },
      "source": [
        "import time\n",
        "# clean training and test data \n",
        "# create new column \"tokenized\"\n",
        "t1 = time.time()\n",
        "train_articles['clean'] = train_articles[\"name\"].apply(cleaning) \n",
        "\n",
        "t2 = time.time()\n",
        "print(\"\\nTime to clean, tokenize and stem train data: \\n\", len(train_articles), \"news:\", (t2-t1)/60, \"min\")\n",
        "\n",
        "t1 = time.time()\n",
        "test_articles['clean'] = test_articles[\"name\"].apply(cleaning)\n",
        "\n",
        "t2 = time.time()\n",
        "print(\"\\n\\nTime to clean, tokenize and stem test data: \\n\", len(test_articles), \"articles:\", (t2-t1)/60, \"min\")"
      ],
      "execution_count": 25,
      "outputs": [
        {
          "output_type": "stream",
          "text": [
            "\n",
            "Time to clean, tokenize and stem train data: \n",
            " 18735 news: 0.1926615039507548 min\n",
            "\n",
            "\n",
            "Time to clean, tokenize and stem test data: \n",
            " 12490 articles: 0.10718139012654622 min\n"
          ],
          "name": "stdout"
        }
      ]
    },
    {
      "cell_type": "markdown",
      "metadata": {
        "id": "LPmI0SxuAdCt",
        "colab_type": "text"
      },
      "source": [
        "## 4.2 Google News corpus word2vec\n",
        "[Word2Vec](http://mccormickml.com/2016/04/12/googles-pretrained-word2vec-model-in-python/)\n",
        "Spell Check\n",
        "You can download the pre-trained model or clone it from GitHub GoogleNews-vectors-negative300: https://drive.google.com/file/d/0B7XkCwpI5KDYNlNUTTlSS21pQmM/edit\n",
        "\n",
        "It a very huge file that includes word vectors for a vocabulary of 3 million words and phrases that they trained on roughly 100 billion words from a Google News dataset. The vector length is 300 features.\n",
        "\n",
        "It has 3 million words 300 features 4bytes/feature = ~3.35GB\n",
        "This file consist of the word2vec - pre-trained Google News corpus (3 billion running words) to word vector model (3 million 300-dimension English word vectors).\n",
        "\n",
        "The vocabulory list used to train this model shows that Each text file contains 100,000 entries from the model.\n",
        "\n",
        "Some things are part of this dataset and some are not part of of it. It has stop words like “the”, “also”, “should” and does not have stop words like “a”, “and”, “of”. As I have removed the stop words the complexity is reduced as there is no need to check the spelling for stop words.The model used WinPython-64bit-2.7.10.3 for efficient python distribution on Windows system. Helps to run the scripts in batches."
      ]
    },
    {
      "cell_type": "code",
      "metadata": {
        "id": "eI-RUV9C-Ysz",
        "colab_type": "code",
        "colab": {}
      },
      "source": [
        "model = gensim.models.KeyedVectors.load_word2vec_format('/content/drive/My Drive/AlternusVeraDataSets2019/Insurgents/google_dataset/GoogleNews-vectors-negative300.bin.gz',limit=10000,binary=True)\n",
        "words = model.index2word\n",
        "\n",
        "w_rank = {}\n",
        "for i,word in enumerate(words):\n",
        "    w_rank[word] = i\n",
        "\n",
        "WORDS = w_rank"
      ],
      "execution_count": 0,
      "outputs": []
    },
    {
      "cell_type": "code",
      "metadata": {
        "id": "yRCUZn-MI6jg",
        "colab_type": "code",
        "colab": {}
      },
      "source": [
        "import re\n",
        "from collections import Counter\n",
        "\n",
        "def words(text): return re.findall(r'\\w+', text.lower())\n",
        "\n",
        "def P(word, N=sum(WORDS.values())): \n",
        "    \"Probability of `word`.\"\n",
        "    return - WORDS.get(word, 0)\n",
        "\n",
        "def correction(word): \n",
        "    \"Most probable spelling correction for word.\"\n",
        "    return max(candidates(word), key=P)\n",
        "\n",
        "def candidates(word): \n",
        "    \"Generate possible spelling corrections for word.\"\n",
        "    return (known([word]) or known(edits1(word)) or known(edits2(word)) or [word])\n",
        "\n",
        "def known(words): \n",
        "    \"The subset of `words` that appear in the dictionary of WORDS.\"\n",
        "    return set(w for w in words if w in WORDS)\n",
        "\n",
        "def edits1(word):\n",
        "    \"All edits that are one edit away from `word`.\"\n",
        "    letters    = 'abcdefghijklmnopqrstuvwxyz'\n",
        "    splits     = [(word[:i], word[i:])    for i in range(len(word) + 1)]\n",
        "    deletes    = [L + R[1:]               for L, R in splits if R]\n",
        "    transposes = [L + R[1] + R[0] + R[2:] for L, R in splits if len(R)>1]\n",
        "    replaces   = [L + c + R[1:]           for L, R in splits if R for c in letters]\n",
        "    inserts    = [L + c + R               for L, R in splits for c in letters]\n",
        "    return set(deletes + transposes + replaces + inserts)\n",
        "\n",
        "def edits2(word): \n",
        "    \"All edits that are two edits away from `word`.\"\n",
        "    return (e2 for e1 in edits1(word) for e2 in edits1(e1))"
      ],
      "execution_count": 0,
      "outputs": []
    },
    {
      "cell_type": "code",
      "metadata": {
        "id": "NWJtYs7KJHnh",
        "colab_type": "code",
        "colab": {}
      },
      "source": [
        "def spell_checker(text):\n",
        "    all_words = re.findall(r'\\w+', text.lower()) # split sentence to words\n",
        "    spell_checked_text  = []\n",
        "    for i in range(len(all_words)):\n",
        "        spell_checked_text.append(correction(all_words[i]))\n",
        "    return ' '.join(spell_checked_text)"
      ],
      "execution_count": 0,
      "outputs": []
    },
    {
      "cell_type": "code",
      "metadata": {
        "id": "mauHV-OaJMhq",
        "colab_type": "code",
        "outputId": "f516d90f-5a86-4706-da51-784802d518a0",
        "colab": {
          "base_uri": "https://localhost:8080/",
          "height": 408
        }
      },
      "source": [
        "print(\"Before: \\n\", train_articles['clean'][4] )\n",
        "t1 = time.time()\n",
        "#train_articles['clean'] = train_articles['clean'].apply(spell_checker)\n",
        "t2 = time.time()\n",
        "print(\"\\nTime to spell check the train data: \\n\", len(train_articles), \"articles:\", (t2-t1)/60, \"min\")\n",
        "\n",
        "print(\"\\nAfter: \\n\",train_articles['clean'][4] )\n",
        "train_articles.head(5)"
      ],
      "execution_count": 235,
      "outputs": [
        {
          "output_type": "stream",
          "text": [
            "Before: \n",
            " suprem court showdown could shrink union power\n",
            "\n",
            "Time to spell check the train data: \n",
            " 18735 articles: 9.973843892415365e-07 min\n",
            "\n",
            "After: \n",
            " suprem court showdown could shrink union power\n"
          ],
          "name": "stdout"
        },
        {
          "output_type": "execute_result",
          "data": {
            "text/html": [
              "<div>\n",
              "<style scoped>\n",
              "    .dataframe tbody tr th:only-of-type {\n",
              "        vertical-align: middle;\n",
              "    }\n",
              "\n",
              "    .dataframe tbody tr th {\n",
              "        vertical-align: top;\n",
              "    }\n",
              "\n",
              "    .dataframe thead th {\n",
              "        text-align: right;\n",
              "    }\n",
              "</style>\n",
              "<table border=\"1\" class=\"dataframe\">\n",
              "  <thead>\n",
              "    <tr style=\"text-align: right;\">\n",
              "      <th></th>\n",
              "      <th>level_0</th>\n",
              "      <th>name</th>\n",
              "      <th>label</th>\n",
              "      <th>clean</th>\n",
              "      <th>sentiment_vector</th>\n",
              "      <th>vader_polarity</th>\n",
              "      <th>sentiment_score</th>\n",
              "    </tr>\n",
              "  </thead>\n",
              "  <tbody>\n",
              "    <tr>\n",
              "      <th>1</th>\n",
              "      <td>14418.0</td>\n",
              "      <td>2020 VISION Michelle O to release memoir</td>\n",
              "      <td>0</td>\n",
              "      <td>vision michell releas memoir</td>\n",
              "      <td>[0.0, 0.6, 0.4, 0.25]</td>\n",
              "      <td>0</td>\n",
              "      <td>0.2500</td>\n",
              "    </tr>\n",
              "    <tr>\n",
              "      <th>2</th>\n",
              "      <td>7341.0</td>\n",
              "      <td>Republicans Once Again Fail to Defund Planned ...</td>\n",
              "      <td>0</td>\n",
              "      <td>republican fail defund plan parenthood</td>\n",
              "      <td>[0.467, 0.533, 0.0, -0.5423]</td>\n",
              "      <td>0</td>\n",
              "      <td>-0.5423</td>\n",
              "    </tr>\n",
              "    <tr>\n",
              "      <th>3</th>\n",
              "      <td>5978.0</td>\n",
              "      <td>White House Correspondents Say Trump Makes The...</td>\n",
              "      <td>0</td>\n",
              "      <td>white hous correspond say trump make work harder</td>\n",
              "      <td>[0.0, 1.0, 0.0, 0.0]</td>\n",
              "      <td>0</td>\n",
              "      <td>0.0000</td>\n",
              "    </tr>\n",
              "    <tr>\n",
              "      <th>4</th>\n",
              "      <td>29138.0</td>\n",
              "      <td>A Supreme Court Showdown Could Shrink Unions P...</td>\n",
              "      <td>0</td>\n",
              "      <td>suprem court showdown could shrink union power</td>\n",
              "      <td>[0.0, 1.0, 0.0, 0.0]</td>\n",
              "      <td>0</td>\n",
              "      <td>0.0000</td>\n",
              "    </tr>\n",
              "    <tr>\n",
              "      <th>5</th>\n",
              "      <td>11019.0</td>\n",
              "      <td>NY Daily News Torches Trump Stock Market Crash...</td>\n",
              "      <td>0</td>\n",
              "      <td>ny daili news torch trump stock market crash b...</td>\n",
              "      <td>[0.164, 0.606, 0.23, 0.2732]</td>\n",
              "      <td>0</td>\n",
              "      <td>0.2732</td>\n",
              "    </tr>\n",
              "  </tbody>\n",
              "</table>\n",
              "</div>"
            ],
            "text/plain": [
              "   level_0  ... sentiment_score\n",
              "1  14418.0  ...          0.2500\n",
              "2   7341.0  ...         -0.5423\n",
              "3   5978.0  ...          0.0000\n",
              "4  29138.0  ...          0.0000\n",
              "5  11019.0  ...          0.2732\n",
              "\n",
              "[5 rows x 7 columns]"
            ]
          },
          "metadata": {
            "tags": []
          },
          "execution_count": 235
        }
      ]
    },
    {
      "cell_type": "code",
      "metadata": {
        "id": "LESZPtQ2Jn7M",
        "colab_type": "code",
        "outputId": "165ceaf9-0eb0-4866-9fe9-df89599c3f16",
        "colab": {
          "base_uri": "https://localhost:8080/",
          "height": 68
        }
      },
      "source": [
        "t1 = time.time()\n",
        "#test_articles['clean'] = test_articles['clean'].apply(spell_checker)\n",
        "test_articles.head(5)\n",
        "t2 = time.time()\n",
        "print(\"\\nTime to spell check the test data: \\n\", len(test_articles), \"news:\", (t2-t1)/60, \"min\")"
      ],
      "execution_count": 30,
      "outputs": [
        {
          "output_type": "stream",
          "text": [
            "\n",
            "Time to spell check the test data: \n",
            " 12490 news: 2.1560986836751303e-05 min\n"
          ],
          "name": "stdout"
        }
      ]
    },
    {
      "cell_type": "markdown",
      "metadata": {
        "id": "XahFzDsJKDp-",
        "colab_type": "text"
      },
      "source": [
        "###Saved the trained dataset into a seperate CSV file"
      ]
    },
    {
      "cell_type": "code",
      "metadata": {
        "id": "WadnUUlFJwF0",
        "colab_type": "code",
        "colab": {}
      },
      "source": [
        "train_articles.to_csv(\"/content/drive/My Drive/AlternusVeraDataSets2019/FinalExam/Insurgents/Sandhya/train_processed.csv\", sep=',')\n",
        "test_articles.to_csv(\"/content/drive/My Drive/AlternusVeraDataSets2019/FinalExam/Insurgents/Sandhya/test_processed.csv\", sep=',')"
      ],
      "execution_count": 0,
      "outputs": []
    },
    {
      "cell_type": "markdown",
      "metadata": {
        "id": "WIav8h30KK5_",
        "colab_type": "text"
      },
      "source": [
        "# **5. Visualization :**\n",
        "\n",
        "### WordCloud Formation \n",
        "In this step, the most common words used in the text reviews using a word cloud is verified.As a tool for visualization by using the frequency of words appeared in text, we use WordCloud. Note that it can give more information and insight of texts by analyzing correlations and similarities between words rather than analyzing texts only by the frequency of words appeared; however, it can give you some general shape of what this text is about quickly and intuitively.\n"
      ]
    },
    {
      "cell_type": "code",
      "metadata": {
        "id": "4n2JkNUYKJdM",
        "colab_type": "code",
        "colab": {}
      },
      "source": [
        "from wordcloud import WordCloud, STOPWORDS\n",
        "import matplotlib.pyplot as plt\n",
        "import seaborn as sns\n",
        "from scipy import stats\n",
        "\n",
        "%matplotlib inline"
      ],
      "execution_count": 0,
      "outputs": []
    },
    {
      "cell_type": "code",
      "metadata": {
        "id": "X_CxOpS6KP53",
        "colab_type": "code",
        "outputId": "e5af7a37-2d9e-417f-f9a2-6ea79b840b78",
        "colab": {
          "base_uri": "https://localhost:8080/",
          "height": 310
        }
      },
      "source": [
        "def cloud(data,backgroundcolor = 'white', width = 900, height = 300):\n",
        "    wordcloud = WordCloud(stopwords = STOPWORDS, background_color = backgroundcolor,\n",
        "                         width = width, height = height).generate(data)\n",
        "    plt.figure(figsize = (15, 10))\n",
        "    plt.imshow(wordcloud)\n",
        "    plt.axis(\"off\")\n",
        "    plt.show()\n",
        "    \n",
        "cloud(' '.join(train_articles['clean']))"
      ],
      "execution_count": 33,
      "outputs": [
        {
          "output_type": "display_data",
          "data": {
            "image/png": "[encoded data removed]",
            "text/plain": [
              "<Figure size 1080x720 with 1 Axes>"
            ]
          },
          "metadata": {
            "tags": []
          }
        }
      ]
    },
    {
      "cell_type": "code",
      "metadata": {
        "id": "YhNFTQ3zKSCq",
        "colab_type": "code",
        "outputId": "9a14b6b9-b3b8-488d-867f-5a94c2a2c325",
        "colab": {
          "base_uri": "https://localhost:8080/",
          "height": 310
        }
      },
      "source": [
        "cloud(' '.join(test_articles['clean']))"
      ],
      "execution_count": 0,
      "outputs": [
        {
          "output_type": "display_data",
          "data": {
            "image/png": "[encoded data removed]",
            "text/plain": [
              "<Figure size 1080x720 with 1 Axes>"
            ]
          },
          "metadata": {
            "tags": []
          }
        }
      ]
    },
    {
      "cell_type": "markdown",
      "metadata": {
        "id": "ot8EKXLUKi-d",
        "colab_type": "text"
      },
      "source": [
        "##### Outcomes from the analysis:\n",
        "\n",
        "The large words are the words that are frequently appeared in the text/corpus. This helps to know most commonly appearing words in the given dataset.Visualizing the words would be more impactful to make initial assumption about the words appearing the dataset or any given file in NLP.\n",
        "\n"
      ]
    },
    {
      "cell_type": "markdown",
      "metadata": {
        "id": "FMj4cvw6CREa",
        "colab_type": "text"
      },
      "source": [
        "#6 Feature Implementation on NELA DATASET "
      ]
    },
    {
      "cell_type": "markdown",
      "metadata": {
        "id": "XJcCsSgzLZy3",
        "colab_type": "text"
      },
      "source": [
        "# 1: LDA Topic Modelling\n",
        "\n",
        "\n",
        "Probabilistic, generative model which uncovers the topics latent to a dataset by assigning weights to words in a corpus, where each topic will assign different probability weights to each word. In LDA, the modelling process revolves around three things: the text corpus, its collection of documents, D and the words W in the documents. Therefore the algorithm attempts to uncover K topics from this corpus.\n",
        "\n",
        "The LDA algorithm first models documents via a mixture model of topics. From these topics, words are then assigned weights based on the probability distribution of these topics. It is this probabilistic assignment over words that allow a user of LDA to say how likely a particular word falls into a topic. Subsequently from the collection of words assigned to a particular topic, are we thus able to gain an insight as to what that topic may actually represent from a lexical point of view."
      ]
    },
    {
      "cell_type": "code",
      "metadata": {
        "id": "TWQVIt1CLhDm",
        "colab_type": "code",
        "outputId": "417d93e9-8928-46dc-980a-d81563ded5d6",
        "colab": {
          "base_uri": "https://localhost:8080/",
          "height": 173
        }
      },
      "source": [
        "train_articles['index'] = train_articles.index\n",
        "data = train_articles\n",
        "train_lda = data[['clean', 'index']]\n",
        "train_lda.head(4)"
      ],
      "execution_count": 60,
      "outputs": [
        {
          "output_type": "execute_result",
          "data": {
            "text/html": [
              "<div>\n",
              "<style scoped>\n",
              "    .dataframe tbody tr th:only-of-type {\n",
              "        vertical-align: middle;\n",
              "    }\n",
              "\n",
              "    .dataframe tbody tr th {\n",
              "        vertical-align: top;\n",
              "    }\n",
              "\n",
              "    .dataframe thead th {\n",
              "        text-align: right;\n",
              "    }\n",
              "</style>\n",
              "<table border=\"1\" class=\"dataframe\">\n",
              "  <thead>\n",
              "    <tr style=\"text-align: right;\">\n",
              "      <th></th>\n",
              "      <th>clean</th>\n",
              "      <th>index</th>\n",
              "    </tr>\n",
              "  </thead>\n",
              "  <tbody>\n",
              "    <tr>\n",
              "      <th>14418</th>\n",
              "      <td>vision michell releas memoir</td>\n",
              "      <td>14418</td>\n",
              "    </tr>\n",
              "    <tr>\n",
              "      <th>7341</th>\n",
              "      <td>republican fail defund plan parenthood</td>\n",
              "      <td>7341</td>\n",
              "    </tr>\n",
              "    <tr>\n",
              "      <th>5978</th>\n",
              "      <td>white hous correspond say trump make work harder</td>\n",
              "      <td>5978</td>\n",
              "    </tr>\n",
              "    <tr>\n",
              "      <th>29138</th>\n",
              "      <td>suprem court showdown could shrink union power</td>\n",
              "      <td>29138</td>\n",
              "    </tr>\n",
              "  </tbody>\n",
              "</table>\n",
              "</div>"
            ],
            "text/plain": [
              "                                                  clean  index\n",
              "14418                      vision michell releas memoir  14418\n",
              "7341             republican fail defund plan parenthood   7341\n",
              "5978   white hous correspond say trump make work harder   5978\n",
              "29138    suprem court showdown could shrink union power  29138"
            ]
          },
          "metadata": {
            "tags": []
          },
          "execution_count": 60
        }
      ]
    },
    {
      "cell_type": "code",
      "metadata": {
        "id": "2s_TFX13LnOv",
        "colab_type": "code",
        "outputId": "0da1123e-c2fa-4695-e0e2-dfcc8228cda2",
        "colab": {
          "base_uri": "https://localhost:8080/",
          "height": 173
        }
      },
      "source": [
        "test_articles['index'] = test_articles.index\n",
        "data = test_articles\n",
        "test_lda = data[['clean', 'index']]\n",
        "test_lda.head(4)"
      ],
      "execution_count": 61,
      "outputs": [
        {
          "output_type": "execute_result",
          "data": {
            "text/html": [
              "<div>\n",
              "<style scoped>\n",
              "    .dataframe tbody tr th:only-of-type {\n",
              "        vertical-align: middle;\n",
              "    }\n",
              "\n",
              "    .dataframe tbody tr th {\n",
              "        vertical-align: top;\n",
              "    }\n",
              "\n",
              "    .dataframe thead th {\n",
              "        text-align: right;\n",
              "    }\n",
              "</style>\n",
              "<table border=\"1\" class=\"dataframe\">\n",
              "  <thead>\n",
              "    <tr style=\"text-align: right;\">\n",
              "      <th></th>\n",
              "      <th>clean</th>\n",
              "      <th>index</th>\n",
              "    </tr>\n",
              "  </thead>\n",
              "  <tbody>\n",
              "    <tr>\n",
              "      <th>18777</th>\n",
              "      <td>key nytim editor resign follow investig</td>\n",
              "      <td>18777</td>\n",
              "    </tr>\n",
              "    <tr>\n",
              "      <th>19299</th>\n",
              "      <td>china holi see evil</td>\n",
              "      <td>19299</td>\n",
              "    </tr>\n",
              "    <tr>\n",
              "      <th>30306</th>\n",
              "      <td>florida governor primari big experi democrat r...</td>\n",
              "      <td>30306</td>\n",
              "    </tr>\n",
              "    <tr>\n",
              "      <th>27085</th>\n",
              "      <td>mom wake coma learn four kid die fire</td>\n",
              "      <td>27085</td>\n",
              "    </tr>\n",
              "  </tbody>\n",
              "</table>\n",
              "</div>"
            ],
            "text/plain": [
              "                                                   clean  index\n",
              "18777            key nytim editor resign follow investig  18777\n",
              "19299                                china holi see evil  19299\n",
              "30306  florida governor primari big experi democrat r...  30306\n",
              "27085              mom wake coma learn four kid die fire  27085"
            ]
          },
          "metadata": {
            "tags": []
          },
          "execution_count": 61
        }
      ]
    },
    {
      "cell_type": "markdown",
      "metadata": {
        "id": "vCDcrrEELv23",
        "colab_type": "text"
      },
      "source": [
        "### Split the clean news into list of words.\n",
        "After performing the cleaning , worrds are listed to individually for analysis "
      ]
    },
    {
      "cell_type": "code",
      "metadata": {
        "id": "c7AWoR-SLt-n",
        "colab_type": "code",
        "outputId": "cfaf6b5e-b513-44c3-9dd0-66307362e3ca",
        "colab": {
          "base_uri": "https://localhost:8080/",
          "height": 102
        }
      },
      "source": [
        "processed_docs = train_lda['clean'].map(lambda doc: doc.split(\" \"))\n",
        "processed_docs[:4]"
      ],
      "execution_count": 62,
      "outputs": [
        {
          "output_type": "execute_result",
          "data": {
            "text/plain": [
              "14418                    [vision, michell, releas, memoir]\n",
              "7341          [republican, fail, defund, plan, parenthood]\n",
              "5978     [white, hous, correspond, say, trump, make, wo...\n",
              "29138    [suprem, court, showdown, could, shrink, union...\n",
              "Name: clean, dtype: object"
            ]
          },
          "metadata": {
            "tags": []
          },
          "execution_count": 62
        }
      ]
    },
    {
      "cell_type": "code",
      "metadata": {
        "id": "wL2FRAMyL1NK",
        "colab_type": "code",
        "colab": {}
      },
      "source": [
        "def get_word_tokens(text):\n",
        "    result = []\n",
        "    for token in gensim.utils.simple_preprocess(text):\n",
        "        if len(token) > 3:\n",
        "            result.append(token)\n",
        "    return result\n",
        "tokenized_docs_local = train_articles['clean'].map(get_word_tokens)"
      ],
      "execution_count": 0,
      "outputs": []
    },
    {
      "cell_type": "markdown",
      "metadata": {
        "id": "JnOVFYPHMAEz",
        "colab_type": "text"
      },
      "source": [
        "\n",
        "## Create a function to build the dictionary and tokenized docs for given feature\n",
        "get_dictionary_print_words function performs below tasks \n",
        " * Dictionary Returns Dictionary given, dataframe and column name\n",
        " * Tokenizeddocs Returns Tokenizeddocs, of the all the words in a text in that column can be used for bow_corpus\n",
        " * Dictionary is filtered using Gensim filter_extremes Filter out tokens that appear in less than 15 documents (absolute number) or more than 0.5 documents (fraction of total corpus size, not absolute number). after the above two steps, keep only the first 100000 most frequent tokens.\n",
        "\n"
      ]
    },
    {
      "cell_type": "code",
      "metadata": {
        "id": "Fp1UAZsjL-lz",
        "colab_type": "code",
        "colab": {}
      },
      "source": [
        "def get_dictionary_print_words(dataframe,colname):\n",
        "    dictionary_gensim = gensim.corpora.Dictionary(processed_docs)\n",
        "    count = 0\n",
        "    print('DICTIONARY Words and occurences:')\n",
        "    for k, v in dictionary_gensim.iteritems():\n",
        "        print(k, v)\n",
        "        count += 1\n",
        "        if count > 10:\n",
        "            break\n",
        "    dictionary_gensim.filter_extremes(no_below=15, no_above=0.5, keep_n=100000)\n",
        "    return dictionary_gensim, tokenized_docs_local"
      ],
      "execution_count": 0,
      "outputs": []
    },
    {
      "cell_type": "markdown",
      "metadata": {
        "id": "WO6tAY2TMKfz",
        "colab_type": "text"
      },
      "source": [
        "\n",
        "### Gensim filter_extremes\n",
        "\n",
        "This selects the tokens that occur less than 15 documents (absolute number) or more than 0.5 documents (fraction of total corpus size, not absolute number). after the above two steps, keep only the first 100000 most frequent tokens.\n",
        "\n"
      ]
    },
    {
      "cell_type": "code",
      "metadata": {
        "id": "aA-A_bkJMNI2",
        "colab_type": "code",
        "colab": {}
      },
      "source": [
        "def get_bow_corpus_print_sample(dataframe,colname):\n",
        "    dictionary_gensim, tokenized_docs_local = get_dictionary_print_words(dataframe, colname)\n",
        "    bow_corpus_local = [dictionary_gensim.doc2bow(doc) for doc in tokenized_docs_local]\n",
        "    bow_doc_local_0 = bow_corpus_local[0]\n",
        "    print('\\n First ITEM in BOW VECTOR : ')\n",
        "    print(bow_doc_local_0)\n",
        "    print('\\n Preview of  BOW ')\n",
        "    for i in range(len(bow_doc_local_0)):\n",
        "        print(\"Word {} (\\\"{}\\\") appears {} time.\".format(bow_doc_local_0[i][0], \n",
        "                                               dictionary_gensim[bow_doc_local_0[i][0]], bow_doc_local_0[i][1]))\n",
        "    return bow_corpus_local, dictionary_gensim"
      ],
      "execution_count": 0,
      "outputs": []
    },
    {
      "cell_type": "markdown",
      "metadata": {
        "id": "HJ82q77MMSAD",
        "colab_type": "text"
      },
      "source": [
        "### Gensim doc2bow\n",
        "\n",
        "I created a dictionary for each document that shows how many words and how many times those words appear. Save this to ‘bow_corpus’, then check our selected document earlier\n",
        "### Create a function to build tfidf_corpus from bow_corpus\n",
        "\n",
        "Next I proceeded with creating tf-idf model object with models.TfidfModel on ‘bow_corpus’ and saved it to ‘tfidf’, then applied transformation to the entire corpus and call it ‘corpus_tfidf’. Lastly I did preview TF-IDF scores for  first document.\n"
      ]
    },
    {
      "cell_type": "code",
      "metadata": {
        "id": "zOQNAzfhMPyk",
        "colab_type": "code",
        "colab": {}
      },
      "source": [
        "def get_tfidf_corpus_print_sample(bow_corpus_local):\n",
        "    from gensim import corpora, models\n",
        "    tfidf = models.TfidfModel(bow_corpus_local)\n",
        "    tfidf_corpus_local = tfidf[bow_corpus_local]\n",
        "    print('\\n First ITEM in TFIDF VECTOR ')\n",
        "    \n",
        "    from pprint import pprint\n",
        "    for doc in tfidf_corpus_local:\n",
        "        pprint(doc)\n",
        "        break\n",
        "    return tfidf_corpus_local"
      ],
      "execution_count": 0,
      "outputs": []
    },
    {
      "cell_type": "markdown",
      "metadata": {
        "id": "64MzrDJ1MYbu",
        "colab_type": "text"
      },
      "source": [
        "### Printing top 10 topics by function to run LDA model "
      ]
    },
    {
      "cell_type": "code",
      "metadata": {
        "id": "kbgIcCCnMY4d",
        "colab_type": "code",
        "colab": {}
      },
      "source": [
        "def get_lda_model_print_top_topics(bow_corpusforlda,numtopics,dictionaryforlda):\n",
        "    lda_model = gensim.models.LdaMulticore(bow_corpusforlda, num_topics=numtopics, id2word=dictionaryforlda, passes=2, workers=2)\n",
        "    lda_all_topics=lda_model.show_topics(num_topics=numtopics, num_words=10,formatted=False)\n",
        "    lda_topics_words = [(tp[0], [wd[0] for wd in tp[1]]) for tp in lda_all_topics]\n",
        "\n",
        "    #Below Code Prints Topics and Words\n",
        "    for topic,words in lda_topics_words:\n",
        "        print(str(topic)+ \"::\"+ str(words))\n",
        "    return lda_model"
      ],
      "execution_count": 0,
      "outputs": []
    },
    {
      "cell_type": "code",
      "metadata": {
        "id": "c5JiBk6IMeq9",
        "colab_type": "code",
        "colab": {}
      },
      "source": [
        "def get_lda_model_topics_topwords_print_top_topics(bow_corpusforlda,numtopics,dictionaryforlda):\n",
        "    lda_model = gensim.models.LdaMulticore(bow_corpusforlda, num_topics=numtopics, id2word=dictionaryforlda, passes=2, workers=2, random_state=1)\n",
        "    lda_all_topics=lda_model.show_topics(num_topics=numtopics, num_words=10,formatted=False)\n",
        "    lda_topics_words = [(tp[0], [wd[0] for wd in tp[1]]) for tp in lda_all_topics]\n",
        "\n",
        "    #Below Code Prints Topics and Words\n",
        "    for topic,words in lda_topics_words:\n",
        "        print(str(topic)+ \"::\"+ str(words))\n",
        "    return lda_model,lda_topics_words"
      ],
      "execution_count": 0,
      "outputs": []
    },
    {
      "cell_type": "markdown",
      "metadata": {
        "id": "xx4ct1bFMfRY",
        "colab_type": "text"
      },
      "source": [
        "### Write a functiom to enrich data with top words, some LDA topics, and top words"
      ]
    },
    {
      "cell_type": "code",
      "metadata": {
        "id": "7qp9fbE9McQp",
        "colab_type": "code",
        "colab": {}
      },
      "source": [
        "def get_lda_model_topics_topwords_print_top_topics(bow_corpusforlda,numtopics,dictionaryforlda):\n",
        "    lda_model = gensim.models.LdaMulticore(bow_corpusforlda, num_topics=numtopics, id2word=dictionaryforlda, passes=2, workers=2, random_state=1)\n",
        "    lda_all_topics=lda_model.show_topics(num_topics=numtopics, num_words=10,formatted=False)\n",
        "    lda_topics_words = [(tp[0], [wd[0] for wd in tp[1]]) for tp in lda_all_topics]\n",
        "\n",
        "    #Below Code Prints Topics and Words\n",
        "    for topic,words in lda_topics_words:\n",
        "        print(str(topic)+ \"::\"+ str(words))\n",
        "    return lda_model,lda_topics_words"
      ],
      "execution_count": 0,
      "outputs": []
    },
    {
      "cell_type": "code",
      "metadata": {
        "id": "fh4trTmIMq7e",
        "colab_type": "code",
        "colab": {}
      },
      "source": [
        "def identify_topic_number_score_label_topwords(text,dictionary_local,lda_model_local,lda_topics_top_words_local):\n",
        "    bow_vector_local = dictionary_local.doc2bow(get_word_tokens(text))\n",
        "    topic_number_local, topic_score_local = sorted(\n",
        "        lda_model_local[bow_vector_local], key=lambda tup: -1*tup[1])[0]\n",
        "    #print (topic_number_local, topic_score_local)\n",
        "    return pd.Series([topic_number_local, topic_score_local,\" \".join(lda_topics_top_words_local[int(topic_number_local)][1])])"
      ],
      "execution_count": 0,
      "outputs": []
    },
    {
      "cell_type": "markdown",
      "metadata": {
        "id": "yA6dwHLgMs7S",
        "colab_type": "text"
      },
      "source": [
        "Function that can enrich topic data to dataframe"
      ]
    },
    {
      "cell_type": "code",
      "metadata": {
        "id": "xWYI-OWVMu1w",
        "colab_type": "code",
        "colab": {}
      },
      "source": [
        "def update_lda_results_to_dataset(dataframe,topiccolnames,coltoapplylda,colnamedictionary,colnameldamodel, colnameldatopwords):\n",
        "    dataframe[topiccolnames] = dataframe.apply(\n",
        "    lambda row: identify_topic_number_score_label_topwords(\n",
        "        row[coltoapplylda],colnamedictionary,colnameldamodel,\n",
        "        colnameldatopwords), axis=1)\n",
        "    return dataframe"
      ],
      "execution_count": 0,
      "outputs": []
    },
    {
      "cell_type": "markdown",
      "metadata": {
        "id": "Kid_JochMwuL",
        "colab_type": "text"
      },
      "source": [
        "\n",
        "### Bag of Words\n",
        "Create a dictionary from ‘processed_docs’ containing the number of times a word appears in the training set.\n",
        "\n",
        "### Create a function to convert text to word tokens from cleaned dataset"
      ]
    },
    {
      "cell_type": "code",
      "metadata": {
        "id": "DQrCYyT5M2IK",
        "colab_type": "code",
        "outputId": "a1774ffa-8b1d-4c13-a8ff-14016b37ac08",
        "colab": {
          "base_uri": "https://localhost:8080/",
          "height": 340
        }
      },
      "source": [
        "bow_corpus_headline, dictionary_headline = get_bow_corpus_print_sample(train_articles,\n",
        "                                                                      'clean')"
      ],
      "execution_count": 96,
      "outputs": [
        {
          "output_type": "stream",
          "text": [
            "DICTIONARY Words and occurences:\n",
            "0 memoir\n",
            "1 michell\n",
            "2 releas\n",
            "3 vision\n",
            "4 defund\n",
            "5 fail\n",
            "6 parenthood\n",
            "7 plan\n",
            "8 republican\n",
            "9 correspond\n",
            "10 harder\n",
            "\n",
            " First ITEM in BOW VECTOR : \n",
            "[(0, 1), (1, 1)]\n",
            "\n",
            " Preview of  BOW \n",
            "Word 0 (\"michell\") appears 1 time.\n",
            "Word 1 (\"releas\") appears 1 time.\n"
          ],
          "name": "stdout"
        }
      ]
    },
    {
      "cell_type": "markdown",
      "metadata": {
        "id": "-iTa9Qk7M7NH",
        "colab_type": "text"
      },
      "source": [
        "### Run LDA with Bag of Words\n",
        "\n",
        "Train our lda model using gensim.models.LdaMulticore and save it to ‘lda_model’\n"
      ]
    },
    {
      "cell_type": "code",
      "metadata": {
        "id": "xkyk8zKgM4F2",
        "colab_type": "code",
        "outputId": "93abe147-8122-4431-be47-4e74213d6967",
        "colab": {
          "base_uri": "https://localhost:8080/",
          "height": 187
        }
      },
      "source": [
        "lda_model_headline, lda_headline_topic_words = get_lda_model_topics_topwords_print_top_topics(\n",
        "    bow_corpus_headline, 10 ,dictionary_headline)"
      ],
      "execution_count": 97,
      "outputs": [
        {
          "output_type": "stream",
          "text": [
            "0::['trump', 'obama', 'plan', 'presid', 'mueller', 'comey', 'clinton', 'hillari', 'john', 'trade']\n",
            "1::['trump', 'russian', 'claim', 'investig', 'korea', 'north', 'cohen', 'meet', 'show', 'wife']\n",
            "2::['trump', 'stormi', 'dont', 'daniel', 'dead', 'photo', 'paul', 'school', 'woman', 'senat']\n",
            "3::['hous', 'trump', 'white', 'make', 'call', 'kelli', 'watch', 'news', 'john', 'come']\n",
            "4::['trump', 'student', 'sander', 'sarah', 'pelosi', 'face', 'week', 'colleg', 'american', 'california']\n",
            "5::['trump', 'accus', 'video', 'medium', 'life', 'control', 'star', 'back', 'report', 'head']\n",
            "6::['trump', 'year', 'first', 'shoot', 'state', 'court', 'anti', 'parkland', 'video', 'call']\n",
            "7::['trump', 'facebook', 'year', 'korea', 'north', 'zuckerberg', 'rate', 'south', 'polit', 'model']\n",
            "8::['trump', 'democrat', 'hous', 'white', 'mueller', 'school', 'like', 'want', 'comey', 'fire']\n",
            "9::['trump', 'time', 'memo', 'bill', 'democrat', 'comey', 'reveal', 'video', 'russia', 'name']\n"
          ],
          "name": "stdout"
        }
      ]
    },
    {
      "cell_type": "markdown",
      "metadata": {
        "id": "DHX0PRVbNBdC",
        "colab_type": "text"
      },
      "source": [
        "\n",
        "###  TF-IDF generation with bow_corpus\n",
        "\n",
        "Create tf-idf model object using models.TfidfModel on ‘bow_corpus’ and save it to ‘tfidf’, then apply transformation to the entire corpus and call it ‘corpus_tfidf’. Finally we preview TF-IDF scores for our first document.\n"
      ]
    },
    {
      "cell_type": "code",
      "metadata": {
        "id": "1cyn55wKNDm6",
        "colab_type": "code",
        "outputId": "bb8d0294-bc33-4fcc-8489-73cffc8bb35a",
        "colab": {
          "base_uri": "https://localhost:8080/",
          "height": 68
        }
      },
      "source": [
        "tfidf_corpus_headline = get_tfidf_corpus_print_sample(bow_corpus_headline)"
      ],
      "execution_count": 98,
      "outputs": [
        {
          "output_type": "stream",
          "text": [
            "\n",
            " First ITEM in TFIDF VECTOR \n",
            "[(0, 0.7748187019297674), (1, 0.6321835011607547)]\n"
          ],
          "name": "stdout"
        }
      ]
    },
    {
      "cell_type": "markdown",
      "metadata": {
        "id": "DCP6Gz9pNHpT",
        "colab_type": "text"
      },
      "source": [
        "\n",
        "### Run LDA model using Bag of Words\n",
        "\n",
        "Objective: To get top ten topics with top words.\n",
        "\n",
        "Train the LDA model with gensim.models.LdaMulticore and save it to ‘lda_model’ \n"
      ]
    },
    {
      "cell_type": "code",
      "metadata": {
        "id": "O3YT4DMdNKpj",
        "colab_type": "code",
        "outputId": "3cefe423-66b7-4de5-8a38-153dc7e03157",
        "colab": {
          "base_uri": "https://localhost:8080/",
          "height": 187
        }
      },
      "source": [
        "lda_tfidf_model_headline  = get_lda_model_print_top_topics(tfidf_corpus_headline,10,dictionary_headline)"
      ],
      "execution_count": 99,
      "outputs": [
        {
          "output_type": "stream",
          "text": [
            "0::['trump', 'mueller', 'facebook', 'hous', 'open', 'guilti', 'legal', 'yanke', 'month', 'white']\n",
            "1::['trump', 'korea', 'north', 'dead', 'white', 'hous', 'kill', 'week', 'border', 'south']\n",
            "2::['trump', 'show', 'video', 'report', 'hous', 'presid', 'comey', 'releas', 'challeng', 'white']\n",
            "3::['trump', 'home', 'deal', 'woman', 'american', 'begin', 'cohen', 'arrest', 'medium', 'jackson']\n",
            "4::['trump', 'democrat', 'session', 'peopl', 'want', 'spend', 'question', 'california', 'congress', 'caravan']\n",
            "5::['trump', 'stormi', 'daniel', 'photo', 'ryan', 'resign', 'claim', 'paul', 'sander', 'sarah']\n",
            "6::['trump', 'john', 'senat', 'mccabe', 'obama', 'kany', 'report', 'free', 'pompeo', 'video']\n",
            "7::['trump', 'rate', 'year', 'star', 'porn', 'news', 'propos', 'babi', 'fake', 'collus']\n",
            "8::['trump', 'school', 'florida', 'shoot', 'alleg', 'child', 'water', 'cant', 'student', 'call']\n",
            "9::['trump', 'america', 'like', 'polit', 'march', 'comey', 'hope', 'nuclear', 'state', 'video']\n"
          ],
          "name": "stdout"
        }
      ]
    },
    {
      "cell_type": "markdown",
      "metadata": {
        "id": "Pl7RgeTnNXl5",
        "colab_type": "text"
      },
      "source": [
        "### Semisupervised Labeling For the Data\n",
        "From the trained datasetest , valid data is found for the topic scores for sample data and identified some topics as displayed below:"
      ]
    },
    {
      "cell_type": "code",
      "metadata": {
        "id": "R5QIN3xRNO5d",
        "colab_type": "code",
        "colab": {}
      },
      "source": [
        "semisupervised_topic_labels = ['topic0','topic1','topic2','topic3','topic4','topic5','topic6','topic7','topic8','topic9']"
      ],
      "execution_count": 0,
      "outputs": []
    },
    {
      "cell_type": "markdown",
      "metadata": {
        "id": "_mmSXIcNNdJA",
        "colab_type": "text"
      },
      "source": [
        "### Add topic number, topic score, topic label, top words for the headline"
      ]
    },
    {
      "cell_type": "code",
      "metadata": {
        "id": "xF8rQzhkNfsh",
        "colab_type": "code",
        "outputId": "51e5f762-82d3-4cc1-b6de-272db5f68449",
        "colab": {
          "base_uri": "https://localhost:8080/",
          "height": 335
        }
      },
      "source": [
        "headlinetopiccolnames = ['topic_number','lda_score','topic_top_words']\n",
        "train_articles = update_lda_results_to_dataset(\n",
        "    train_articles, headlinetopiccolnames,'clean', dictionary_headline, lda_model_headline, lda_headline_topic_words)\n",
        "train_articles.head(2)"
      ],
      "execution_count": 103,
      "outputs": [
        {
          "output_type": "execute_result",
          "data": {
            "text/html": [
              "<div>\n",
              "<style scoped>\n",
              "    .dataframe tbody tr th:only-of-type {\n",
              "        vertical-align: middle;\n",
              "    }\n",
              "\n",
              "    .dataframe tbody tr th {\n",
              "        vertical-align: top;\n",
              "    }\n",
              "\n",
              "    .dataframe thead th {\n",
              "        text-align: right;\n",
              "    }\n",
              "</style>\n",
              "<table border=\"1\" class=\"dataframe\">\n",
              "  <thead>\n",
              "    <tr style=\"text-align: right;\">\n",
              "      <th></th>\n",
              "      <th>date</th>\n",
              "      <th>source</th>\n",
              "      <th>name</th>\n",
              "      <th>content</th>\n",
              "      <th>PantsOnFire</th>\n",
              "      <th>False</th>\n",
              "      <th>MostlyFalse</th>\n",
              "      <th>HalfTrue</th>\n",
              "      <th>MostlyTrue</th>\n",
              "      <th>True</th>\n",
              "      <th>Verdict</th>\n",
              "      <th>clean</th>\n",
              "      <th>index</th>\n",
              "      <th>topic_number</th>\n",
              "      <th>lda_score</th>\n",
              "      <th>topic_top_words</th>\n",
              "    </tr>\n",
              "  </thead>\n",
              "  <tbody>\n",
              "    <tr>\n",
              "      <th>14418</th>\n",
              "      <td>2018-02-26</td>\n",
              "      <td>Drudge Report</td>\n",
              "      <td>2020 VISION Michelle O to release memoir</td>\n",
              "      <td>FILE - In this May 12, 2017, file photo, forme...</td>\n",
              "      <td>2.0</td>\n",
              "      <td>0.0</td>\n",
              "      <td>0.0</td>\n",
              "      <td>0.0</td>\n",
              "      <td>0.0</td>\n",
              "      <td>0.0</td>\n",
              "      <td>0</td>\n",
              "      <td>vision michell releas memoir</td>\n",
              "      <td>14418</td>\n",
              "      <td>0</td>\n",
              "      <td>0.699936</td>\n",
              "      <td>trump obama plan presid mueller comey clinton ...</td>\n",
              "    </tr>\n",
              "    <tr>\n",
              "      <th>7341</th>\n",
              "      <td>2018-02-09</td>\n",
              "      <td>Breitbart</td>\n",
              "      <td>Republicans Once Again Fail to Defund Planned ...</td>\n",
              "      <td>The House voted 240-186 to approve the joint f...</td>\n",
              "      <td>2.0</td>\n",
              "      <td>2.0</td>\n",
              "      <td>0.0</td>\n",
              "      <td>0.0</td>\n",
              "      <td>1.0</td>\n",
              "      <td>0.0</td>\n",
              "      <td>0</td>\n",
              "      <td>republican fail defund plan parenthood</td>\n",
              "      <td>7341</td>\n",
              "      <td>0</td>\n",
              "      <td>0.432400</td>\n",
              "      <td>trump obama plan presid mueller comey clinton ...</td>\n",
              "    </tr>\n",
              "  </tbody>\n",
              "</table>\n",
              "</div>"
            ],
            "text/plain": [
              "             date  ...                                    topic_top_words\n",
              "14418  2018-02-26  ...  trump obama plan presid mueller comey clinton ...\n",
              "7341   2018-02-09  ...  trump obama plan presid mueller comey clinton ...\n",
              "\n",
              "[2 rows x 16 columns]"
            ]
          },
          "metadata": {
            "tags": []
          },
          "execution_count": 103
        }
      ]
    },
    {
      "cell_type": "code",
      "metadata": {
        "id": "VGPbhMy8Nh2y",
        "colab_type": "code",
        "outputId": "d83b3187-9703-4f23-fa3b-65f313fc3a62",
        "colab": {
          "base_uri": "https://localhost:8080/",
          "height": 649
        }
      },
      "source": [
        "test_articles = update_lda_results_to_dataset(\n",
        "    test_articles,headlinetopiccolnames,'clean',\n",
        "  dictionary_headline,lda_model_headline,lda_headline_topic_words)\n",
        "test_articles.head()"
      ],
      "execution_count": 104,
      "outputs": [
        {
          "output_type": "execute_result",
          "data": {
            "text/html": [
              "<div>\n",
              "<style scoped>\n",
              "    .dataframe tbody tr th:only-of-type {\n",
              "        vertical-align: middle;\n",
              "    }\n",
              "\n",
              "    .dataframe tbody tr th {\n",
              "        vertical-align: top;\n",
              "    }\n",
              "\n",
              "    .dataframe thead th {\n",
              "        text-align: right;\n",
              "    }\n",
              "</style>\n",
              "<table border=\"1\" class=\"dataframe\">\n",
              "  <thead>\n",
              "    <tr style=\"text-align: right;\">\n",
              "      <th></th>\n",
              "      <th>date</th>\n",
              "      <th>source</th>\n",
              "      <th>name</th>\n",
              "      <th>content</th>\n",
              "      <th>PantsOnFire</th>\n",
              "      <th>False</th>\n",
              "      <th>MostlyFalse</th>\n",
              "      <th>HalfTrue</th>\n",
              "      <th>MostlyTrue</th>\n",
              "      <th>True</th>\n",
              "      <th>Verdict</th>\n",
              "      <th>clean</th>\n",
              "      <th>index</th>\n",
              "      <th>topic_number</th>\n",
              "      <th>lda_score</th>\n",
              "      <th>topic_top_words</th>\n",
              "    </tr>\n",
              "  </thead>\n",
              "  <tbody>\n",
              "    <tr>\n",
              "      <th>18777</th>\n",
              "      <td>2018-04-30</td>\n",
              "      <td>Drudge Report</td>\n",
              "      <td>Key NYTIMES editor resigns following investiga...</td>\n",
              "      <td>The Metro Editor for The New York Times has re...</td>\n",
              "      <td>2.0</td>\n",
              "      <td>0.0</td>\n",
              "      <td>0.0</td>\n",
              "      <td>0.0</td>\n",
              "      <td>0.0</td>\n",
              "      <td>0.0</td>\n",
              "      <td>0</td>\n",
              "      <td>key nytim editor resign follow investig</td>\n",
              "      <td>18777</td>\n",
              "      <td>8</td>\n",
              "      <td>0.819976</td>\n",
              "      <td>trump democrat hous white mueller school like ...</td>\n",
              "    </tr>\n",
              "    <tr>\n",
              "      <th>19299</th>\n",
              "      <td>2018-02-07</td>\n",
              "      <td>National Review</td>\n",
              "      <td>China Holy See No Evil</td>\n",
              "      <td>Its no great secret that Roman Catholic social...</td>\n",
              "      <td>0.0</td>\n",
              "      <td>0.0</td>\n",
              "      <td>0.0</td>\n",
              "      <td>0.0</td>\n",
              "      <td>0.0</td>\n",
              "      <td>1.0</td>\n",
              "      <td>1</td>\n",
              "      <td>china holi see evil</td>\n",
              "      <td>19299</td>\n",
              "      <td>1</td>\n",
              "      <td>0.549981</td>\n",
              "      <td>trump russian claim investig korea north cohen...</td>\n",
              "    </tr>\n",
              "    <tr>\n",
              "      <th>30306</th>\n",
              "      <td>2018-04-15</td>\n",
              "      <td>Buzzfeed</td>\n",
              "      <td>The Florida Governor Primary Is A Big Experime...</td>\n",
              "      <td>Each of the top Democratic contenders for gove...</td>\n",
              "      <td>1.0</td>\n",
              "      <td>0.0</td>\n",
              "      <td>0.0</td>\n",
              "      <td>0.0</td>\n",
              "      <td>0.0</td>\n",
              "      <td>0.0</td>\n",
              "      <td>0</td>\n",
              "      <td>florida governor primari big experi democrat r...</td>\n",
              "      <td>30306</td>\n",
              "      <td>2</td>\n",
              "      <td>0.871394</td>\n",
              "      <td>trump stormi dont daniel dead photo paul schoo...</td>\n",
              "    </tr>\n",
              "    <tr>\n",
              "      <th>27085</th>\n",
              "      <td>2018-04-25</td>\n",
              "      <td>New York Post</td>\n",
              "      <td>Mom wakes up from coma to learn her four kids ...</td>\n",
              "      <td>A mom left in a coma following a fire at her h...</td>\n",
              "      <td>0.0</td>\n",
              "      <td>0.0</td>\n",
              "      <td>1.0</td>\n",
              "      <td>0.0</td>\n",
              "      <td>0.0</td>\n",
              "      <td>0.0</td>\n",
              "      <td>0</td>\n",
              "      <td>mom wake coma learn four kid die fire</td>\n",
              "      <td>27085</td>\n",
              "      <td>9</td>\n",
              "      <td>0.560404</td>\n",
              "      <td>trump time memo bill democrat comey reveal vid...</td>\n",
              "    </tr>\n",
              "    <tr>\n",
              "      <th>27799</th>\n",
              "      <td>2018-04-30</td>\n",
              "      <td>New York Post</td>\n",
              "      <td>Gloria Allred brings up Bill Cosbys guilty ver...</td>\n",
              "      <td>Gloria Allred, attorney for some of Bill Cosby...</td>\n",
              "      <td>0.0</td>\n",
              "      <td>0.0</td>\n",
              "      <td>1.0</td>\n",
              "      <td>0.0</td>\n",
              "      <td>0.0</td>\n",
              "      <td>0.0</td>\n",
              "      <td>0</td>\n",
              "      <td>gloria allr bring bill cosbi guilti verdict da...</td>\n",
              "      <td>27799</td>\n",
              "      <td>9</td>\n",
              "      <td>0.819955</td>\n",
              "      <td>trump time memo bill democrat comey reveal vid...</td>\n",
              "    </tr>\n",
              "  </tbody>\n",
              "</table>\n",
              "</div>"
            ],
            "text/plain": [
              "             date  ...                                    topic_top_words\n",
              "18777  2018-04-30  ...  trump democrat hous white mueller school like ...\n",
              "19299  2018-02-07  ...  trump russian claim investig korea north cohen...\n",
              "30306  2018-04-15  ...  trump stormi dont daniel dead photo paul schoo...\n",
              "27085  2018-04-25  ...  trump time memo bill democrat comey reveal vid...\n",
              "27799  2018-04-30  ...  trump time memo bill democrat comey reveal vid...\n",
              "\n",
              "[5 rows x 16 columns]"
            ]
          },
          "metadata": {
            "tags": []
          },
          "execution_count": 104
        }
      ]
    },
    {
      "cell_type": "markdown",
      "metadata": {
        "id": "rL2-jmLeNnml",
        "colab_type": "text"
      },
      "source": [
        "\n",
        "### LDA Distribution of news against Top 10 Topics\n",
        "\n",
        "#### Objective: \n",
        "Each of the M topics is represented by a vector of length V.\n",
        "Each of the N documents will be represented in the LDA model by a vector of length M "
      ]
    },
    {
      "cell_type": "code",
      "metadata": {
        "id": "_jnLjEGbNmW1",
        "colab_type": "code",
        "outputId": "d6f5a4c4-afbc-4368-9f32-567e1adde60a",
        "colab": {
          "base_uri": "https://localhost:8080/",
          "height": 294
        }
      },
      "source": [
        "import seaborn as sb\n",
        "def create_distribution(dataFile):\n",
        "    dist = sb.countplot(x='topic_number', data=dataFile, palette=None,saturation=0.75, dodge=True,)\n",
        "    dist.set_xticklabels(dist.get_xticklabels(),rotation=90)\n",
        "\n",
        "    return dist\n",
        "# TRAIN Document Vector\n",
        "create_distribution(train_articles) "
      ],
      "execution_count": 113,
      "outputs": [
        {
          "output_type": "execute_result",
          "data": {
            "text/plain": [
              "<matplotlib.axes._subplots.AxesSubplot at 0x7f396dac25f8>"
            ]
          },
          "metadata": {
            "tags": []
          },
          "execution_count": 113
        },
        {
          "output_type": "display_data",
          "data": {
            "image/png": "[encoded data removed]",
            "text/plain": [
              "<Figure size 432x288 with 1 Axes>"
            ]
          },
          "metadata": {
            "tags": []
          }
        }
      ]
    },
    {
      "cell_type": "code",
      "metadata": {
        "id": "XXdzoMIsNwgE",
        "colab_type": "code",
        "outputId": "2c34309b-cbd1-48a3-a43e-aea7cb46df20",
        "colab": {
          "base_uri": "https://localhost:8080/",
          "height": 294
        }
      },
      "source": [
        "# TEST Document Vector\n",
        "create_distribution(test_articles)"
      ],
      "execution_count": 114,
      "outputs": [
        {
          "output_type": "execute_result",
          "data": {
            "text/plain": [
              "<matplotlib.axes._subplots.AxesSubplot at 0x7f3973a028d0>"
            ]
          },
          "metadata": {
            "tags": []
          },
          "execution_count": 114
        },
        {
          "output_type": "display_data",
          "data": {
            "image/png": "[encoded data removed]",
            "text/plain": [
              "<Figure size 432x288 with 1 Axes>"
            ]
          },
          "metadata": {
            "tags": []
          }
        }
      ]
    },
    {
      "cell_type": "code",
      "metadata": {
        "id": "JKLq3fNWNzAm",
        "colab_type": "code",
        "colab": {}
      },
      "source": [
        "### Separate CSV with the latest dataset:\n",
        "train_articles.to_csv(\"/content/drive/My Drive/AlternusVeraDataSets2019/FinalExam/Insurgents/Sandhya/train_lda.csv\", sep=',')\n",
        "test_articles.to_csv(\"/content/drive/My Drive/AlternusVeraDataSets2019/FinalExam/Insurgents/Sandhya/test_lda.csv\", sep=',')"
      ],
      "execution_count": 0,
      "outputs": []
    },
    {
      "cell_type": "code",
      "metadata": {
        "id": "69OJNGeMTIvf",
        "colab_type": "code",
        "outputId": "d3516423-602d-4628-85cd-4b33d9adc755",
        "colab": {
          "base_uri": "https://localhost:8080/",
          "height": 306
        }
      },
      "source": [
        "#finding the count if articles\n",
        "train_articles.count()\n",
        "test_articles.count()\n"
      ],
      "execution_count": 116,
      "outputs": [
        {
          "output_type": "execute_result",
          "data": {
            "text/plain": [
              "date               12490\n",
              "source             12490\n",
              "name               12490\n",
              "content            12490\n",
              "PantsOnFire        12490\n",
              "False              12490\n",
              "MostlyFalse        12490\n",
              "HalfTrue           12490\n",
              "MostlyTrue         12490\n",
              "True               12490\n",
              "Verdict            12490\n",
              "clean              12490\n",
              "index              12490\n",
              "topic_number       12490\n",
              "lda_score          12490\n",
              "topic_top_words    12490\n",
              "dtype: int64"
            ]
          },
          "metadata": {
            "tags": []
          },
          "execution_count": 116
        }
      ]
    },
    {
      "cell_type": "code",
      "metadata": {
        "id": "Cawx-xTQN9kx",
        "colab_type": "code",
        "colab": {}
      },
      "source": [
        "import pandas as pd\n",
        "from sklearn.pipeline import Pipeline\n",
        "from sklearn.linear_model import  LogisticRegression\n",
        "from sklearn.feature_extraction.text import TfidfVectorizer\n",
        "from nltk.stem.porter import *\n",
        "from sklearn import metrics\n",
        "import warnings\n",
        "warnings.filterwarnings('ignore')\n",
        "\n",
        "class LDATopicModelling():\n",
        "\n",
        "    def __init__(self):        \n",
        "\n",
        "        columnNames = [\"index\",\"date\", \"source\", \"name\", \"content\", \"PantsOnFire\", \"False\", \"MostlyFalse\", \"HalfTrue\", \"MostlyTrue\", \"True\", \"Verdict\", \"clean\", \"topic_number\",\"lda_score\", \"topic_top_words\"]\n",
        "        dataTrain = pd.read_csv('/content/drive/My Drive/AlternusVeraDataSets2019/FinalExam/Insurgents/Sandhya/train_lda.csv', sep=',', header=None, names = columnNames)\n",
        "        dataTest = pd.read_csv('/content/drive/My Drive/AlternusVeraDataSets2019/FinalExam/Insurgents/Sandhya/test_lda.csv', sep=',', header=None, names = columnNames)\n",
        "        ranger=18735\n",
        "        ranger1=12490\n",
        "        #dropping columns\n",
        "        columnsToRemove = ['date', 'source', 'content', \"PantsOnFire\", \"False\", \"MostlyFalse\", \"HalfTrue\", \"MostlyTrue\", \"True\"]\n",
        "        dataTrain=dataTrain.reset_index()\n",
        "        dataTest=dataTest.reset_index()\n",
        "        dataTrain = dataTrain.drop(columns=columnsToRemove)\n",
        "        dataTest = dataTest.drop(columns=columnsToRemove)        \n",
        "        dataTrain = dataTrain.loc[1:]\n",
        "        dataTest = dataTest.loc[1:]\n",
        "    \n",
        "    \n",
        "        tfidfV = TfidfVectorizer(stop_words='english', min_df=5, max_df=30, use_idf=True, smooth_idf=True, token_pattern=u'(?ui)\\\\b\\\\w*[a-z]+\\\\w*\\\\b')\n",
        "\n",
        "        self.logR_pipeline = Pipeline([\n",
        "                ('LogRCV', tfidfV),\n",
        "                ('LogR_clf',LogisticRegression(solver='liblinear', C=32/100))\n",
        "                ])\n",
        "\n",
        "        self.logR_pipeline.fit(dataTrain['name'],dataTrain['topic_number'])\n",
        "        predicted_LogR = self.logR_pipeline.predict(dataTest['name'])\n",
        "        score = metrics.accuracy_score(dataTest['topic_number'], predicted_LogR)\n",
        "        print(\"LDA Topic Model Trained - accuracy is :  %0.6f\" % score)\n",
        "        \n",
        "\n",
        "    def predict(self, text):\n",
        "        predicted = self.logR_pipeline.predict([text])\n",
        "        predicedProb = self.logR_pipeline.predict_proba([text])[:,1]\n",
        "        return bool(predicted), float(predicedProb)\n",
        "    "
      ],
      "execution_count": 0,
      "outputs": []
    },
    {
      "cell_type": "code",
      "metadata": {
        "id": "jCouHqIdN-QX",
        "colab_type": "code",
        "outputId": "386eab8c-4bcb-4e64-8841-bd288c6381b9",
        "colab": {
          "base_uri": "https://localhost:8080/",
          "height": 34
        }
      },
      "source": [
        "ldaTopicModelling = LDATopicModelling()"
      ],
      "execution_count": 121,
      "outputs": [
        {
          "output_type": "stream",
          "text": [
            "LDA Topic Model Trained - accuracy is :  0.246837\n"
          ],
          "name": "stdout"
        }
      ]
    },
    {
      "cell_type": "code",
      "metadata": {
        "id": "6a6J-dU7OAAp",
        "colab_type": "code",
        "outputId": "4a766874-aefe-4320-d412-662a0e65d2c2",
        "colab": {
          "base_uri": "https://localhost:8080/",
          "height": 34
        }
      },
      "source": [
        "# return between 0 and 1, being 0 = True,  1 = Fake\n",
        "def CMPE257_getLDATopicModellingScore(text):  \n",
        "    binaryValue, probValue = ldaTopicModelling.predict(text)\n",
        "    return (float(probValue))\n",
        "\n",
        "print(CMPE257_getLDATopicModellingScore(\"Says the Annies List political group supports third-trimester abortions on demand.\"))"
      ],
      "execution_count": 228,
      "outputs": [
        {
          "output_type": "stream",
          "text": [
            "0.08456732547127938\n"
          ],
          "name": "stdout"
        }
      ]
    },
    {
      "cell_type": "markdown",
      "metadata": {
        "id": "lHnfMHq7nWGK",
        "colab_type": "text"
      },
      "source": [
        "# 2: Opinion Mining \n",
        "\n",
        "Sentiment Analysis, or Opinion Mining, is a sub-field of Natural Language Processing (NLP) that tries to identify and extract opinions within a given text. The aim of sentiment analysis is to gauge the attitude, sentiments, evaluations, attitudes and emotions of a speaker/writer based on the computational treatment of subjectivity in a text. According to many research, sentiment analysis is important for fake news identification. A research suggested that if a news is positive the probablity of it being fake is more. Text Sentiment is derived using Vader Sentiment Library. VADER (Valence Aware Dictionary and sEntiment Reasoner) is a lexicon and rule-based sentiment analysis tool that is specifically attuned to sentiments expressed in social media. VADER uses a combination of A sentiment lexicon is a list of lexical features (e.g., words) which are generally labelled according to their semantic orientation as either positive, negative or neutral.\n",
        "\n",
        "**Buiness Objective** The sentiment polarity score is used to tag the document as Positive , Negative or Neutral based on the max polarity score from the Vader analyser. The values are then normalized using log to achieve better accuracy. I have not used the encoded label as is but normalized the value so that the classifier does not weigh a particular sentiment more than the other. Hence, normalization using math.log() is performed."
      ]
    },
    {
      "cell_type": "code",
      "metadata": {
        "id": "QeooAE4_s30t",
        "colab_type": "code",
        "colab": {}
      },
      "source": [
        "data_file = \"/content/drive/My Drive/AlternusVeraDataSets2019/FinalExam/Insurgents/Final_Exam_Dataset_NELA/data.csv\"\n",
        "label_file = \"/content/drive/My Drive/AlternusVeraDataSets2019/FinalExam/Insurgents/Final_Exam_Dataset_NELA/labels.csv\"\n",
        "articles_colnames = ['date', 'source', 'name', 'content']\n",
        "senti_colname = 'name'\n",
        "remove_col = 'content'"
      ],
      "execution_count": 0,
      "outputs": []
    },
    {
      "cell_type": "markdown",
      "metadata": {
        "id": "oUUA3nW8tj4M",
        "colab_type": "text"
      },
      "source": [
        "Read the test, training and valid data from files\n",
        "Header = 0 shows that first line of the file contains column names,\n",
        "In the given dataset there is no Header, so we must create a column names for each column in the dataset"
      ]
    },
    {
      "cell_type": "code",
      "metadata": {
        "id": "CkGD1GuBtfOQ",
        "colab_type": "code",
        "colab": {}
      },
      "source": [
        " articles_data = pd.read_csv(data_file, sep=',', names = articles_colnames, nrows=50000, error_bad_lines=False)\n",
        "labels_data = pd.read_csv(label_file, sep=',', error_bad_lines=False) "
      ],
      "execution_count": 0,
      "outputs": []
    },
    {
      "cell_type": "markdown",
      "metadata": {
        "id": "HbfQiTzLuVoO",
        "colab_type": "text"
      },
      "source": [
        "### Printing All the rows and columns witg the labels"
      ]
    },
    {
      "cell_type": "code",
      "metadata": {
        "id": "61zX0UYOt7Cq",
        "colab_type": "code",
        "colab": {
          "base_uri": "https://localhost:8080/",
          "height": 238
        },
        "outputId": "373cf3b6-37ab-42ed-ba0d-da0af4abdd5d"
      },
      "source": [
        "#All rows\n",
        "print(\"Number of Rows and Columns dataframe :\\n\", articles_data.shape)\n",
        "articles_data.drop(articles_data.index[0])\n",
        "articles_data.set_index('source')\n",
        "articles_data.head()"
      ],
      "execution_count": 148,
      "outputs": [
        {
          "output_type": "stream",
          "text": [
            "Number of Rows and Columns dataframe :\n",
            " (50000, 4)\n"
          ],
          "name": "stdout"
        },
        {
          "output_type": "execute_result",
          "data": {
            "text/html": [
              "<div>\n",
              "<style scoped>\n",
              "    .dataframe tbody tr th:only-of-type {\n",
              "        vertical-align: middle;\n",
              "    }\n",
              "\n",
              "    .dataframe tbody tr th {\n",
              "        vertical-align: top;\n",
              "    }\n",
              "\n",
              "    .dataframe thead th {\n",
              "        text-align: right;\n",
              "    }\n",
              "</style>\n",
              "<table border=\"1\" class=\"dataframe\">\n",
              "  <thead>\n",
              "    <tr style=\"text-align: right;\">\n",
              "      <th></th>\n",
              "      <th>date</th>\n",
              "      <th>source</th>\n",
              "      <th>name</th>\n",
              "      <th>content</th>\n",
              "    </tr>\n",
              "  </thead>\n",
              "  <tbody>\n",
              "    <tr>\n",
              "      <th>0</th>\n",
              "      <td>date</td>\n",
              "      <td>source</td>\n",
              "      <td>name</td>\n",
              "      <td>content</td>\n",
              "    </tr>\n",
              "    <tr>\n",
              "      <th>1</th>\n",
              "      <td>2018-02-01</td>\n",
              "      <td>Addicting Info</td>\n",
              "      <td>Donald Trump Jr Likes Fox News Tweet About Spr...</td>\n",
              "      <td>Since Donald Trump Jr. has admitted on Twitter...</td>\n",
              "    </tr>\n",
              "    <tr>\n",
              "      <th>2</th>\n",
              "      <td>2018-02-01</td>\n",
              "      <td>Addicting Info</td>\n",
              "      <td>REPORT UK Will Share Less Confidential Info Wi...</td>\n",
              "      <td>The Republican-written and Republican-altered ...</td>\n",
              "    </tr>\n",
              "    <tr>\n",
              "      <th>3</th>\n",
              "      <td>2018-02-01</td>\n",
              "      <td>Addicting Info</td>\n",
              "      <td>Trump Jr Mocked To Oblivion After Democracy Di...</td>\n",
              "      <td>The world is still laughing at the Trump admin...</td>\n",
              "    </tr>\n",
              "    <tr>\n",
              "      <th>4</th>\n",
              "      <td>2018-02-01</td>\n",
              "      <td>BBC</td>\n",
              "      <td>Battling to save the worlds bananas</td>\n",
              "      <td>Visiting the Matanuska banana plantation is no...</td>\n",
              "    </tr>\n",
              "  </tbody>\n",
              "</table>\n",
              "</div>"
            ],
            "text/plain": [
              "         date  ...                                            content\n",
              "0        date  ...                                            content\n",
              "1  2018-02-01  ...  Since Donald Trump Jr. has admitted on Twitter...\n",
              "2  2018-02-01  ...  The Republican-written and Republican-altered ...\n",
              "3  2018-02-01  ...  The world is still laughing at the Trump admin...\n",
              "4  2018-02-01  ...  Visiting the Matanuska banana plantation is no...\n",
              "\n",
              "[5 rows x 4 columns]"
            ]
          },
          "metadata": {
            "tags": []
          },
          "execution_count": 148
        }
      ]
    },
    {
      "cell_type": "code",
      "metadata": {
        "id": "TABESIWguS3V",
        "colab_type": "code",
        "colab": {
          "base_uri": "https://localhost:8080/",
          "height": 128
        },
        "outputId": "63fb874a-801c-4407-e8e6-05e6a6b99261"
      },
      "source": [
        "# Check Labels Data\n",
        "print(\"Total Number of Rows and Columns: in Labels Data:\", labels_data.shape)\n",
        "new_labels_data=labels_data.iloc[: , [0, 52, 53, 54,55,56,57]].copy() \n",
        "new_labels_data=new_labels_data.dropna()\n",
        "new_labels_data.columns = ['source', 'PantsOnFire', 'False', 'MostlyFalse', 'HalfTrue', 'MostlyTrue', 'True']\n",
        "new_labels_data.set_index('source')\n",
        "new_labels_data.head(2)"
      ],
      "execution_count": 157,
      "outputs": [
        {
          "output_type": "stream",
          "text": [
            "Total Number of Rows and Columns: in Labels Data: (194, 58)\n"
          ],
          "name": "stdout"
        },
        {
          "output_type": "execute_result",
          "data": {
            "text/html": [
              "<div>\n",
              "<style scoped>\n",
              "    .dataframe tbody tr th:only-of-type {\n",
              "        vertical-align: middle;\n",
              "    }\n",
              "\n",
              "    .dataframe tbody tr th {\n",
              "        vertical-align: top;\n",
              "    }\n",
              "\n",
              "    .dataframe thead th {\n",
              "        text-align: right;\n",
              "    }\n",
              "</style>\n",
              "<table border=\"1\" class=\"dataframe\">\n",
              "  <thead>\n",
              "    <tr style=\"text-align: right;\">\n",
              "      <th></th>\n",
              "      <th>source</th>\n",
              "      <th>PantsOnFire</th>\n",
              "      <th>False</th>\n",
              "      <th>MostlyFalse</th>\n",
              "      <th>HalfTrue</th>\n",
              "      <th>MostlyTrue</th>\n",
              "      <th>True</th>\n",
              "    </tr>\n",
              "  </thead>\n",
              "  <tbody>\n",
              "    <tr>\n",
              "      <th>5</th>\n",
              "      <td>Al Jazeera</td>\n",
              "      <td>0.0</td>\n",
              "      <td>1.0</td>\n",
              "      <td>0.0</td>\n",
              "      <td>0.0</td>\n",
              "      <td>0.0</td>\n",
              "      <td>0.0</td>\n",
              "    </tr>\n",
              "    <tr>\n",
              "      <th>11</th>\n",
              "      <td>Bipartisan Report</td>\n",
              "      <td>0.0</td>\n",
              "      <td>1.0</td>\n",
              "      <td>0.0</td>\n",
              "      <td>0.0</td>\n",
              "      <td>0.0</td>\n",
              "      <td>0.0</td>\n",
              "    </tr>\n",
              "  </tbody>\n",
              "</table>\n",
              "</div>"
            ],
            "text/plain": [
              "               source  PantsOnFire  False  ...  HalfTrue  MostlyTrue  True\n",
              "5          Al Jazeera          0.0    1.0  ...       0.0         0.0   0.0\n",
              "11  Bipartisan Report          0.0    1.0  ...       0.0         0.0   0.0\n",
              "\n",
              "[2 rows x 7 columns]"
            ]
          },
          "metadata": {
            "tags": []
          },
          "execution_count": 157
        }
      ]
    },
    {
      "cell_type": "code",
      "metadata": {
        "id": "qlzijE5Putwj",
        "colab_type": "code",
        "colab": {
          "base_uri": "https://localhost:8080/",
          "height": 162
        },
        "outputId": "565da5b7-b3cc-4e2b-a1a3-457c298e7262"
      },
      "source": [
        "merged_articles_data = pd.merge(articles_data, new_labels_data, on='source') \n",
        "print(\"Total Number of Rows and Columns in merged article data:\", merged_articles_data.shape)\n",
        "merged_articles_data.head(2)"
      ],
      "execution_count": 158,
      "outputs": [
        {
          "output_type": "stream",
          "text": [
            "Total Number of Rows and Columns in merged article data: (15855, 10)\n"
          ],
          "name": "stdout"
        },
        {
          "output_type": "execute_result",
          "data": {
            "text/html": [
              "<div>\n",
              "<style scoped>\n",
              "    .dataframe tbody tr th:only-of-type {\n",
              "        vertical-align: middle;\n",
              "    }\n",
              "\n",
              "    .dataframe tbody tr th {\n",
              "        vertical-align: top;\n",
              "    }\n",
              "\n",
              "    .dataframe thead th {\n",
              "        text-align: right;\n",
              "    }\n",
              "</style>\n",
              "<table border=\"1\" class=\"dataframe\">\n",
              "  <thead>\n",
              "    <tr style=\"text-align: right;\">\n",
              "      <th></th>\n",
              "      <th>date</th>\n",
              "      <th>source</th>\n",
              "      <th>name</th>\n",
              "      <th>content</th>\n",
              "      <th>PantsOnFire</th>\n",
              "      <th>False</th>\n",
              "      <th>MostlyFalse</th>\n",
              "      <th>HalfTrue</th>\n",
              "      <th>MostlyTrue</th>\n",
              "      <th>True</th>\n",
              "    </tr>\n",
              "  </thead>\n",
              "  <tbody>\n",
              "    <tr>\n",
              "      <th>0</th>\n",
              "      <td>2018-02-01</td>\n",
              "      <td>Infowars</td>\n",
              "      <td>Adam Schiff FISA Memo Could Lead To Firings Of...</td>\n",
              "      <td>Stocks are red. Trey Gowdy is abruptly retirin...</td>\n",
              "      <td>2.0</td>\n",
              "      <td>1.0</td>\n",
              "      <td>0.0</td>\n",
              "      <td>1.0</td>\n",
              "      <td>0.0</td>\n",
              "      <td>0.0</td>\n",
              "    </tr>\n",
              "    <tr>\n",
              "      <th>1</th>\n",
              "      <td>2018-02-01</td>\n",
              "      <td>Infowars</td>\n",
              "      <td>Analyses Find White House Immigration Plan Cut...</td>\n",
              "      <td>The White Houses immigration framework would s...</td>\n",
              "      <td>2.0</td>\n",
              "      <td>1.0</td>\n",
              "      <td>0.0</td>\n",
              "      <td>1.0</td>\n",
              "      <td>0.0</td>\n",
              "      <td>0.0</td>\n",
              "    </tr>\n",
              "  </tbody>\n",
              "</table>\n",
              "</div>"
            ],
            "text/plain": [
              "         date    source  ... MostlyTrue True\n",
              "0  2018-02-01  Infowars  ...        0.0  0.0\n",
              "1  2018-02-01  Infowars  ...        0.0  0.0\n",
              "\n",
              "[2 rows x 10 columns]"
            ]
          },
          "metadata": {
            "tags": []
          },
          "execution_count": 158
        }
      ]
    },
    {
      "cell_type": "code",
      "metadata": {
        "id": "FC5OvSZGsd-2",
        "colab_type": "code",
        "colab": {}
      },
      "source": [
        "df = merged_articles_data\n",
        "tw = 1\n",
        "mtw = .5\n",
        "htw = .25\n",
        "pfw = 1\n",
        "fw = .75\n",
        "mfw = .5\n",
        "\n",
        "\n",
        "merged_articles_data['Verdict'] = (htw*df['HalfTrue'] + mtw*df['MostlyTrue'] + tw*df['True']) - (pfw*df['PantsOnFire'] + fw*df['False'] + mfw*df['MostlyFalse'])\n",
        "merged_articles_data['Verdict'] = df['Verdict'].apply(lambda x: 1 if x > 0 else 0)"
      ],
      "execution_count": 0,
      "outputs": []
    },
    {
      "cell_type": "code",
      "metadata": {
        "id": "_1V2K-EPsRg0",
        "colab_type": "code",
        "colab": {
          "base_uri": "https://localhost:8080/",
          "height": 145
        },
        "outputId": "ab54fea7-1c9f-4e3c-e116-d10e55077537"
      },
      "source": [
        "merged_articles_data.to_csv('/content/drive/My Drive/AlternusVeraDataSets2019/FinalExam/Insurgents/Sandhya/merged_data.csv', encoding='utf-8', index=False)\n",
        "merged_articles_data.head(2)"
      ],
      "execution_count": 162,
      "outputs": [
        {
          "output_type": "execute_result",
          "data": {
            "text/html": [
              "<div>\n",
              "<style scoped>\n",
              "    .dataframe tbody tr th:only-of-type {\n",
              "        vertical-align: middle;\n",
              "    }\n",
              "\n",
              "    .dataframe tbody tr th {\n",
              "        vertical-align: top;\n",
              "    }\n",
              "\n",
              "    .dataframe thead th {\n",
              "        text-align: right;\n",
              "    }\n",
              "</style>\n",
              "<table border=\"1\" class=\"dataframe\">\n",
              "  <thead>\n",
              "    <tr style=\"text-align: right;\">\n",
              "      <th></th>\n",
              "      <th>date</th>\n",
              "      <th>source</th>\n",
              "      <th>name</th>\n",
              "      <th>content</th>\n",
              "      <th>PantsOnFire</th>\n",
              "      <th>False</th>\n",
              "      <th>MostlyFalse</th>\n",
              "      <th>HalfTrue</th>\n",
              "      <th>MostlyTrue</th>\n",
              "      <th>True</th>\n",
              "      <th>Verdict</th>\n",
              "    </tr>\n",
              "  </thead>\n",
              "  <tbody>\n",
              "    <tr>\n",
              "      <th>0</th>\n",
              "      <td>2018-02-01</td>\n",
              "      <td>Infowars</td>\n",
              "      <td>Adam Schiff FISA Memo Could Lead To Firings Of...</td>\n",
              "      <td>Stocks are red. Trey Gowdy is abruptly retirin...</td>\n",
              "      <td>2.0</td>\n",
              "      <td>1.0</td>\n",
              "      <td>0.0</td>\n",
              "      <td>1.0</td>\n",
              "      <td>0.0</td>\n",
              "      <td>0.0</td>\n",
              "      <td>0</td>\n",
              "    </tr>\n",
              "    <tr>\n",
              "      <th>1</th>\n",
              "      <td>2018-02-01</td>\n",
              "      <td>Infowars</td>\n",
              "      <td>Analyses Find White House Immigration Plan Cut...</td>\n",
              "      <td>The White Houses immigration framework would s...</td>\n",
              "      <td>2.0</td>\n",
              "      <td>1.0</td>\n",
              "      <td>0.0</td>\n",
              "      <td>1.0</td>\n",
              "      <td>0.0</td>\n",
              "      <td>0.0</td>\n",
              "      <td>0</td>\n",
              "    </tr>\n",
              "  </tbody>\n",
              "</table>\n",
              "</div>"
            ],
            "text/plain": [
              "         date    source  ... True Verdict\n",
              "0  2018-02-01  Infowars  ...  0.0       0\n",
              "1  2018-02-01  Infowars  ...  0.0       0\n",
              "\n",
              "[2 rows x 11 columns]"
            ]
          },
          "metadata": {
            "tags": []
          },
          "execution_count": 162
        }
      ]
    },
    {
      "cell_type": "code",
      "metadata": {
        "id": "i0eabjDHvxoZ",
        "colab_type": "code",
        "colab": {
          "base_uri": "https://localhost:8080/",
          "height": 315
        },
        "outputId": "36879f5d-16c4-499a-f0a5-35e7f9249a78"
      },
      "source": [
        "op_train_news, op_test_news = train_test_split(merged_articles_data, test_size=0.3)\n",
        "print('train shape:',op_train_news.shape)\n",
        "print('test shape:', op_train_news.shape)\n",
        "train_news.iloc[0:2]"
      ],
      "execution_count": 180,
      "outputs": [
        {
          "output_type": "stream",
          "text": [
            "train shape: (11098, 11)\n",
            "test shape: (11098, 11)\n"
          ],
          "name": "stdout"
        },
        {
          "output_type": "execute_result",
          "data": {
            "text/html": [
              "<div>\n",
              "<style scoped>\n",
              "    .dataframe tbody tr th:only-of-type {\n",
              "        vertical-align: middle;\n",
              "    }\n",
              "\n",
              "    .dataframe tbody tr th {\n",
              "        vertical-align: top;\n",
              "    }\n",
              "\n",
              "    .dataframe thead th {\n",
              "        text-align: right;\n",
              "    }\n",
              "</style>\n",
              "<table border=\"1\" class=\"dataframe\">\n",
              "  <thead>\n",
              "    <tr style=\"text-align: right;\">\n",
              "      <th></th>\n",
              "      <th>date</th>\n",
              "      <th>source</th>\n",
              "      <th>name</th>\n",
              "      <th>content</th>\n",
              "      <th>PantsOnFire</th>\n",
              "      <th>False</th>\n",
              "      <th>MostlyFalse</th>\n",
              "      <th>HalfTrue</th>\n",
              "      <th>MostlyTrue</th>\n",
              "      <th>True</th>\n",
              "      <th>Verdict</th>\n",
              "      <th>clean</th>\n",
              "    </tr>\n",
              "  </thead>\n",
              "  <tbody>\n",
              "    <tr>\n",
              "      <th>7080</th>\n",
              "      <td>2018-02-24</td>\n",
              "      <td>Daily Mail</td>\n",
              "      <td>Trump sets military parade date for Veterans Day</td>\n",
              "      <td>Donald Trump's plans for a controversial milit...</td>\n",
              "      <td>0.0</td>\n",
              "      <td>0.0</td>\n",
              "      <td>1.0</td>\n",
              "      <td>0.0</td>\n",
              "      <td>0.0</td>\n",
              "      <td>0.0</td>\n",
              "      <td>0</td>\n",
              "      <td>trump set militari parad date veteran day</td>\n",
              "    </tr>\n",
              "    <tr>\n",
              "      <th>6196</th>\n",
              "      <td>2018-03-20</td>\n",
              "      <td>The Gateway Pundit</td>\n",
              "      <td>Its as If They Want to Lose in November Republ...</td>\n",
              "      <td>Flake is not alone.\\r\\n\\r\\n Republican leaders...</td>\n",
              "      <td>0.0</td>\n",
              "      <td>1.0</td>\n",
              "      <td>0.0</td>\n",
              "      <td>0.0</td>\n",
              "      <td>1.0</td>\n",
              "      <td>1.0</td>\n",
              "      <td>1</td>\n",
              "      <td>want lose novemb republican leader fund billio...</td>\n",
              "    </tr>\n",
              "  </tbody>\n",
              "</table>\n",
              "</div>"
            ],
            "text/plain": [
              "            date  ...                                              clean\n",
              "7080  2018-02-24  ...          trump set militari parad date veteran day\n",
              "6196  2018-03-20  ...  want lose novemb republican leader fund billio...\n",
              "\n",
              "[2 rows x 12 columns]"
            ]
          },
          "metadata": {
            "tags": []
          },
          "execution_count": 180
        }
      ]
    },
    {
      "cell_type": "code",
      "metadata": {
        "id": "6PcmOzZDwIRt",
        "colab_type": "code",
        "colab": {}
      },
      "source": [
        "import re\n",
        "\n",
        "def cleaning(raw_news):\n",
        "    import nltk\n",
        "    \n",
        "    # 1. Remove non-letters/Special Characters and Punctuations\n",
        "    news = re.sub(\"[^a-zA-Z]\", \" \", raw_news)\n",
        "    \n",
        "    # 2. Convert to lower case.\n",
        "    news =  news.lower()\n",
        "    \n",
        "    # 3. Tokenize.\n",
        "    news_words = nltk.word_tokenize( news)\n",
        "    \n",
        "    # 4. Convert the stopwords list to \"set\" data type.\n",
        "    stops = set(nltk.corpus.stopwords.words(\"english\"))\n",
        "    \n",
        "    # 5. Remove stop words. \n",
        "    words = [w for w in  news_words  if not w in stops]\n",
        "    \n",
        "    # 6. Lemmentize \n",
        "    wordnet_lem = [ WordNetLemmatizer().lemmatize(w) for w in words ]\n",
        "    \n",
        "    # 7. Stemming\n",
        "    stems = [nltk.stem.SnowballStemmer('english').stem(w) for w in wordnet_lem ]\n",
        "    \n",
        "    # 8. Join the stemmed words back into one string separated by space, and return the result.\n",
        "    return \" \".join(stems)"
      ],
      "execution_count": 0,
      "outputs": []
    },
    {
      "cell_type": "code",
      "metadata": {
        "id": "nR3cVszmwfx5",
        "colab_type": "code",
        "colab": {
          "base_uri": "https://localhost:8080/",
          "height": 136
        },
        "outputId": "214d0f93-338b-4001-815c-39ceaa48c05e"
      },
      "source": [
        "import time\n",
        "# clean training and test data \n",
        "# create new column \"tokenized\"\n",
        "t1 = time.time()\n",
        "\n",
        "# Add the processed data to the original data. \n",
        "# Perhaps using apply function would be more elegant and concise than using for loop\n",
        "op_train_news['clean'] = op_train_news[senti_colname].apply(cleaning) \n",
        "\n",
        "t2 = time.time()\n",
        "print(\"\\nTime to clean, tokenize and stem train data: \\n\", len(op_train_news), \"news:\", (t2-t1)/60, \"min\")\n",
        "\n",
        "t1 = time.time()\n",
        "op_test_news['clean'] = op_test_news[senti_colname].apply(cleaning)\n",
        "\n",
        "t2 = time.time()\n",
        "print(\"\\n\\nTime to clean, tokenize and stem test data: \\n\", len(op_test_news), \"news:\", (t2-t1)/60, \"min\")"
      ],
      "execution_count": 183,
      "outputs": [
        {
          "output_type": "stream",
          "text": [
            "\n",
            "Time to clean, tokenize and stem train data: \n",
            " 11098 news: 0.09696415662765503 min\n",
            "\n",
            "\n",
            "Time to clean, tokenize and stem test data: \n",
            " 4757 news: 0.04124862750371297 min\n"
          ],
          "name": "stdout"
        }
      ]
    },
    {
      "cell_type": "code",
      "metadata": {
        "id": "HsbXKs-hwr97",
        "colab_type": "code",
        "colab": {}
      },
      "source": [
        "# op_train_news.to_csv(\"/content/drive/My Drive/AlternusVeraDataSets2019/FinalExam/Insurgents/Sandhya/opinion_train_processed.csv\", sep=',')\n",
        "# op_test_news.to_csv(\"/content/drive/My Drive/AlternusVeraDataSets2019/FinalExam/Insurgents/Sandhya/opinion_test_processed.csv\", sep=',')"
      ],
      "execution_count": 0,
      "outputs": []
    },
    {
      "cell_type": "code",
      "metadata": {
        "id": "pVUGn-9bxHvP",
        "colab_type": "code",
        "colab": {}
      },
      "source": [
        "import warnings\n",
        "import nltk.sentiment\n",
        "warnings.filterwarnings('ignore')\n",
        "\n",
        "senti = nltk.sentiment.vader.SentimentIntensityAnalyzer()\n",
        "\n",
        "def print_sentiment_scores(sentence):\n",
        "    snt = senti.polarity_scores(sentence)\n",
        "    print(\"{:-<40} \\n{}\".format(sentence, str(snt)))\n",
        "    \n",
        "#print_sentiment_scores(train_news['clean'])"
      ],
      "execution_count": 0,
      "outputs": []
    },
    {
      "cell_type": "code",
      "metadata": {
        "id": "-xOQe-LQnDl1",
        "colab_type": "code",
        "colab": {}
      },
      "source": [
        "def get_vader_polarity(snt):\n",
        "    if not snt:\n",
        "        return None\n",
        "    elif snt['neg'] > snt['pos'] and snt['neg'] > snt['neu']:\n",
        "        return -1\n",
        "    elif snt['pos'] > snt['neg'] and snt['pos'] > snt['neu']:\n",
        "        return 1\n",
        "    else:\n",
        "        return 0"
      ],
      "execution_count": 0,
      "outputs": []
    },
    {
      "cell_type": "code",
      "metadata": {
        "id": "GAnfA8FanHqm",
        "colab_type": "code",
        "colab": {}
      },
      "source": [
        "#Function to determine if a text is negative(-1) or postive (1) or neutral (0)\n",
        "def get_polarity_type(sentence):\n",
        "    sentimentVector = []\n",
        "    snt = senti.polarity_scores(sentence)\n",
        "    sentimentVector.append(get_vader_polarity(snt))\n",
        "    sentimentVector.append(snt['neg'])\n",
        "    sentimentVector.append(snt['neu'])\n",
        "    sentimentVector.append(snt['pos'])\n",
        "    sentimentVector.append(snt['compound'])\n",
        "    \n",
        "    return sentimentVector"
      ],
      "execution_count": 0,
      "outputs": []
    },
    {
      "cell_type": "code",
      "metadata": {
        "id": "AG_pCsynxwP7",
        "colab_type": "code",
        "colab": {
          "base_uri": "https://localhost:8080/",
          "height": 352
        },
        "outputId": "442c826d-5027-4d62-9877-4ad498f208d4"
      },
      "source": [
        "sentiment = []\n",
        "vader_pol = []\n",
        "cmp_score = []\n",
        "for row in op_train_news['clean']:\n",
        "    get_pols = get_polarity_type(row)\n",
        "    sentiment.append(get_pols[1:])\n",
        "    vader_pol.append(get_pols[0])\n",
        "    cmp_score.append(get_pols[1:][-1]) #last element \n",
        "    \n",
        "op_train_news['sentiment_vector'] = sentiment\n",
        "op_train_news['vader_polarity'] = vader_pol\n",
        "op_train_news['sentiment_score'] = cmp_score\n",
        "op_train_news.head(2)"
      ],
      "execution_count": 189,
      "outputs": [
        {
          "output_type": "execute_result",
          "data": {
            "text/html": [
              "<div>\n",
              "<style scoped>\n",
              "    .dataframe tbody tr th:only-of-type {\n",
              "        vertical-align: middle;\n",
              "    }\n",
              "\n",
              "    .dataframe tbody tr th {\n",
              "        vertical-align: top;\n",
              "    }\n",
              "\n",
              "    .dataframe thead th {\n",
              "        text-align: right;\n",
              "    }\n",
              "</style>\n",
              "<table border=\"1\" class=\"dataframe\">\n",
              "  <thead>\n",
              "    <tr style=\"text-align: right;\">\n",
              "      <th></th>\n",
              "      <th>date</th>\n",
              "      <th>source</th>\n",
              "      <th>name</th>\n",
              "      <th>content</th>\n",
              "      <th>PantsOnFire</th>\n",
              "      <th>False</th>\n",
              "      <th>MostlyFalse</th>\n",
              "      <th>HalfTrue</th>\n",
              "      <th>MostlyTrue</th>\n",
              "      <th>True</th>\n",
              "      <th>Verdict</th>\n",
              "      <th>clean</th>\n",
              "      <th>sentiment_vector</th>\n",
              "      <th>vader_polarity</th>\n",
              "      <th>sentiment_score</th>\n",
              "    </tr>\n",
              "  </thead>\n",
              "  <tbody>\n",
              "    <tr>\n",
              "      <th>5641</th>\n",
              "      <td>2018-02-12</td>\n",
              "      <td>The Gateway Pundit</td>\n",
              "      <td>SICK Artist Who Painted Obamas Official Portra...</td>\n",
              "      <td>UPDATE: It turns that Wiley, the racist artist...</td>\n",
              "      <td>0.0</td>\n",
              "      <td>1.0</td>\n",
              "      <td>0.0</td>\n",
              "      <td>0.0</td>\n",
              "      <td>1.0</td>\n",
              "      <td>1.0</td>\n",
              "      <td>1</td>\n",
              "      <td>sick artist paint obama offici portrait known ...</td>\n",
              "      <td>[0.248, 0.752, 0.0, -0.5106]</td>\n",
              "      <td>0</td>\n",
              "      <td>-0.5106</td>\n",
              "    </tr>\n",
              "    <tr>\n",
              "      <th>14427</th>\n",
              "      <td>2018-03-22</td>\n",
              "      <td>New York Post</td>\n",
              "      <td>A quickly growing Bruins star is still taking ...</td>\n",
              "      <td>For those not fully immersed in the Bruins sen...</td>\n",
              "      <td>0.0</td>\n",
              "      <td>0.0</td>\n",
              "      <td>1.0</td>\n",
              "      <td>0.0</td>\n",
              "      <td>0.0</td>\n",
              "      <td>0.0</td>\n",
              "      <td>0</td>\n",
              "      <td>quick grow bruin star still take harvard class</td>\n",
              "      <td>[0.0, 1.0, 0.0, 0.0]</td>\n",
              "      <td>0</td>\n",
              "      <td>0.0000</td>\n",
              "    </tr>\n",
              "  </tbody>\n",
              "</table>\n",
              "</div>"
            ],
            "text/plain": [
              "             date              source  ... vader_polarity sentiment_score\n",
              "5641   2018-02-12  The Gateway Pundit  ...              0         -0.5106\n",
              "14427  2018-03-22       New York Post  ...              0          0.0000\n",
              "\n",
              "[2 rows x 15 columns]"
            ]
          },
          "metadata": {
            "tags": []
          },
          "execution_count": 189
        }
      ]
    },
    {
      "cell_type": "code",
      "metadata": {
        "id": "E4xfUr7UyYck",
        "colab_type": "code",
        "colab": {
          "base_uri": "https://localhost:8080/",
          "height": 352
        },
        "outputId": "971a7a0d-421d-4f65-9aab-ecc93f977ca1"
      },
      "source": [
        "sentiment = []\n",
        "vader_pol = []\n",
        "cmp_score = []\n",
        "for row in op_test_news['clean']:\n",
        "    get_pols = get_polarity_type(row)\n",
        "    sentiment.append(get_pols[1:])\n",
        "    vader_pol.append(get_pols[0])\n",
        "    cmp_score.append(get_pols[1:][-1]) #last element \n",
        "    \n",
        "op_test_news['sentiment_vector'] = sentiment\n",
        "op_test_news['vader_polarity'] = vader_pol\n",
        "test_news['sentiment_score'] = cmp_score\n",
        "op_test_news.head(2)"
      ],
      "execution_count": 192,
      "outputs": [
        {
          "output_type": "execute_result",
          "data": {
            "text/html": [
              "<div>\n",
              "<style scoped>\n",
              "    .dataframe tbody tr th:only-of-type {\n",
              "        vertical-align: middle;\n",
              "    }\n",
              "\n",
              "    .dataframe tbody tr th {\n",
              "        vertical-align: top;\n",
              "    }\n",
              "\n",
              "    .dataframe thead th {\n",
              "        text-align: right;\n",
              "    }\n",
              "</style>\n",
              "<table border=\"1\" class=\"dataframe\">\n",
              "  <thead>\n",
              "    <tr style=\"text-align: right;\">\n",
              "      <th></th>\n",
              "      <th>date</th>\n",
              "      <th>source</th>\n",
              "      <th>name</th>\n",
              "      <th>content</th>\n",
              "      <th>PantsOnFire</th>\n",
              "      <th>False</th>\n",
              "      <th>MostlyFalse</th>\n",
              "      <th>HalfTrue</th>\n",
              "      <th>MostlyTrue</th>\n",
              "      <th>True</th>\n",
              "      <th>Verdict</th>\n",
              "      <th>clean</th>\n",
              "      <th>sentiment_vector</th>\n",
              "      <th>vader_polarity</th>\n",
              "    </tr>\n",
              "  </thead>\n",
              "  <tbody>\n",
              "    <tr>\n",
              "      <th>14380</th>\n",
              "      <td>2018-03-21</td>\n",
              "      <td>New York Post</td>\n",
              "      <td>Son charged with killing his adoptive parents</td>\n",
              "      <td>HELENA, Mont.  A 21-year-old Helena man is cha...</td>\n",
              "      <td>0.0</td>\n",
              "      <td>0.0</td>\n",
              "      <td>1.0</td>\n",
              "      <td>0.0</td>\n",
              "      <td>0.0</td>\n",
              "      <td>0.0</td>\n",
              "      <td>0</td>\n",
              "      <td>son charg kill adopt parent</td>\n",
              "      <td>[0.5, 0.319, 0.181, -0.6124]</td>\n",
              "      <td>-1</td>\n",
              "    </tr>\n",
              "    <tr>\n",
              "      <th>11915</th>\n",
              "      <td>2018-02-23</td>\n",
              "      <td>New York Post</td>\n",
              "      <td>20-year-old on drugs who gouged own eyes out n...</td>\n",
              "      <td>The family of a South Carolina woman who gouge...</td>\n",
              "      <td>0.0</td>\n",
              "      <td>0.0</td>\n",
              "      <td>1.0</td>\n",
              "      <td>0.0</td>\n",
              "      <td>0.0</td>\n",
              "      <td>0.0</td>\n",
              "      <td>0</td>\n",
              "      <td>year old drug goug eye blind mom say</td>\n",
              "      <td>[0.278, 0.722, 0.0, -0.4019]</td>\n",
              "      <td>0</td>\n",
              "    </tr>\n",
              "  </tbody>\n",
              "</table>\n",
              "</div>"
            ],
            "text/plain": [
              "             date         source  ...              sentiment_vector vader_polarity\n",
              "14380  2018-03-21  New York Post  ...  [0.5, 0.319, 0.181, -0.6124]             -1\n",
              "11915  2018-02-23  New York Post  ...  [0.278, 0.722, 0.0, -0.4019]              0\n",
              "\n",
              "[2 rows x 14 columns]"
            ]
          },
          "metadata": {
            "tags": []
          },
          "execution_count": 192
        }
      ]
    },
    {
      "cell_type": "code",
      "metadata": {
        "id": "h6estwDgyzsk",
        "colab_type": "code",
        "colab": {}
      },
      "source": [
        "op_train_news.to_csv(\"/content/drive/My Drive/AlternusVeraDataSets2019/FinalExam/Insurgents/Sandhya/train_opinion.csv\", sep=',')\n",
        "op_test_news.to_csv(\"/content/drive/My Drive/AlternusVeraDataSets2019/FinalExam/Insurgents/Sandhya/test_opinion.csv\", sep=',')"
      ],
      "execution_count": 0,
      "outputs": []
    },
    {
      "cell_type": "code",
      "metadata": {
        "id": "lHckUKwUzwug",
        "colab_type": "code",
        "colab": {}
      },
      "source": [
        "import pandas as pd\n",
        "from sklearn.pipeline import Pipeline\n",
        "from sklearn.linear_model import  LogisticRegression\n",
        "from sklearn.feature_extraction.text import TfidfVectorizer\n",
        "from nltk.stem.porter import *\n",
        "from sklearn import metrics\n",
        "from sklearn.linear_model import  LogisticRegression\n",
        "from sklearn.tree import DecisionTreeClassifier\n",
        "from sklearn.ensemble import RandomForestClassifier\n",
        "#from sklearn.linear_model import LogisticRegression\n",
        "from sklearn.neighbors import KNeighborsClassifier\n",
        "from sklearn.metrics import classification_report,confusion_matrix\n",
        "from sklearn.metrics import mean_squared_error, r2_score, mean_absolute_error\n",
        "from sklearn.naive_bayes import GaussianNB\n",
        "from sklearn.naive_bayes import MultinomialNB\n",
        "from sklearn.metrics import accuracy_score\n",
        "from sklearn.model_selection import train_test_split\n",
        "from sklearn.svm import SVC\n",
        "from xgboost import XGBClassifier\n",
        "from prettytable import PrettyTable\n",
        "from sklearn.feature_extraction.text import TfidfVectorizer\n",
        "from nltk.stem.porter import *\n",
        "from sklearn import metrics\n",
        "import warnings\n",
        "warnings.filterwarnings('ignore')\n",
        "\n",
        "class OpinionMining():\n",
        "\n",
        "    def __init__(self):        \n",
        "\n",
        "        self.pipedict = dict()\n",
        "        #columnNames = ['date',\t'source',\t'name', 'content',\t'PantsOnFire',\t'False',\t'MostlyFalse',\t'HalfTrue',\t'MostlyTrue',\t'True',\t'Verdict',\t'clean',\t'sentiment_vector',\t'vader_polarity',\t'sentiment_score']\n",
        "        dataTrain = pd.read_csv('/content/drive/My Drive/AlternusVeraDataSets2019/FinalExam/Insurgents/Sandhya/train_opinion.csv', sep=',')\n",
        "        dataTest = pd.read_csv('/content/drive/My Drive/AlternusVeraDataSets2019/FinalExam/Insurgents/Sandhya/test_opinion.csv', sep=',')\n",
        "\n",
        "        #drop some columns\n",
        "        columnsToRemove = ['date',\t'source',\tremove_col,\t'PantsOnFire',\t'False',\t'MostlyFalse',\t'HalfTrue',\t'MostlyTrue',\t'True',\t'Verdict', 'sentiment_vector']\n",
        "\n",
        "        dataTrain = dataTrain.drop(columns=columnsToRemove)\n",
        "        dataTest = dataTest.drop(columns=columnsToRemove)\n",
        "        dataTrain = dataTrain.loc[1:] \n",
        "        dataTest = dataTest.loc[1:]\n",
        "\n",
        "        tfidfV = TfidfVectorizer(stop_words='english', min_df=5, max_df=30, use_idf=True, smooth_idf=True, token_pattern=u'(?ui)\\\\b\\\\w*[a-z]+\\\\w*\\\\b')\n",
        "    \n",
        "        funcDict = {\"DescionTree\": DecisionTreeClassifier(),\n",
        "                    \"Random Forest\": RandomForestClassifier(n_estimators=100),\n",
        "                    \"KNN \": KNeighborsClassifier(n_neighbors=8), \n",
        "                    \"SVC\": SVC(),\n",
        "                    \"NB\": MultinomialNB(),\n",
        "                    \"xgb_clf\": XGBClassifier()\n",
        "                    }\n",
        "             \n",
        "        p = PrettyTable([\"Algorithim\", \"Accuracy\", \"Classification Report\"])\n",
        "        p.padding_width = 1\n",
        "        p.float_format='.8'\n",
        "        for key in p.align.keys():\n",
        "            p.align[key] = 'l'\n",
        "\n",
        "        high_score = 0.0\n",
        "        \n",
        "        for key,value1 in funcDict.items():\n",
        "               self.rf_pipeline = Pipeline([\n",
        "                   ('RFCV', tfidfV),\n",
        "                   ('clf',RandomForestClassifier(n_estimators=100, max_depth=8,random_state=0))\n",
        "               ])\n",
        "               self.rf_pipeline.fit(dataTrain[senti_colname], dataTrain['vader_polarity'])\n",
        "               predicted_RF= self.rf_pipeline.predict(dataTest[senti_colname])\n",
        "               score = metrics.accuracy_score(dataTest['vader_polarity'], predicted_RF)\n",
        "               cls_report=classification_report(dataTest['vader_polarity'],predicted_RF)\n",
        "               self.pipedict[key]=self.rf_pipeline\n",
        "               print(score)\n",
        "               if score > high_score :\n",
        "                 high_score = score\n",
        "                 self.model = self.rf_pipeline\n",
        "               p.add_row([key,score,cls_report])\n",
        "               p.add_row([\"------------------------\",\"-------------\",\"--------------------------------------------------\"])\n",
        "\n",
        "        print(p)\n",
        "\n",
        "    def predict(self, text):\n",
        "       predicted = self.pipedict[\"Random Forest\"].predict([text])\n",
        "       predicedProb = self.pipedict[\"Random Forest\"].predict_proba([text])[:,1]\n",
        "       # predicted = self.model.predict([text])\n",
        "       # predicedProb = self.model.predict_proba([text])[:,1]\n",
        "       return bool(predicted), float(predicedProb)\n",
        "\n",
        "       OpinionMining.predict_proba([test])[:,1]"
      ],
      "execution_count": 0,
      "outputs": []
    },
    {
      "cell_type": "code",
      "metadata": {
        "id": "ajCZLs2t24tj",
        "colab_type": "code",
        "colab": {
          "base_uri": "https://localhost:8080/",
          "height": 1000
        },
        "outputId": "dcd546b2-8710-4cfa-dbe9-36a641b431cc"
      },
      "source": [
        "OpinionMiningObj = OpinionMining()\n"
      ],
      "execution_count": 220,
      "outputs": [
        {
          "output_type": "stream",
          "text": [
            "0.8967619848612279\n",
            "0.8967619848612279\n",
            "0.8967619848612279\n",
            "0.8967619848612279\n",
            "0.8967619848612279\n",
            "0.8967619848612279\n",
            "+--------------------------+---------------+-------------------------------------------------------+\n",
            "| Algorithim               | Accuracy      | Classification Report                                 |\n",
            "+--------------------------+---------------+-------------------------------------------------------+\n",
            "| DescionTree              | 0.89676198    |               precision    recall  f1-score   support |\n",
            "|                          |               |                                                       |\n",
            "|                          |               |           -1       0.00      0.00      0.00       360 |\n",
            "|                          |               |            0       0.90      1.00      0.95      4265 |\n",
            "|                          |               |            1       0.00      0.00      0.00       131 |\n",
            "|                          |               |                                                       |\n",
            "|                          |               |     accuracy                           0.90      4756 |\n",
            "|                          |               |    macro avg       0.30      0.33      0.32      4756 |\n",
            "|                          |               | weighted avg       0.80      0.90      0.85      4756 |\n",
            "|                          |               |                                                       |\n",
            "| ------------------------ | ------------- | --------------------------------------------------    |\n",
            "| Random Forest            | 0.89676198    |               precision    recall  f1-score   support |\n",
            "|                          |               |                                                       |\n",
            "|                          |               |           -1       0.00      0.00      0.00       360 |\n",
            "|                          |               |            0       0.90      1.00      0.95      4265 |\n",
            "|                          |               |            1       0.00      0.00      0.00       131 |\n",
            "|                          |               |                                                       |\n",
            "|                          |               |     accuracy                           0.90      4756 |\n",
            "|                          |               |    macro avg       0.30      0.33      0.32      4756 |\n",
            "|                          |               | weighted avg       0.80      0.90      0.85      4756 |\n",
            "|                          |               |                                                       |\n",
            "| ------------------------ | ------------- | --------------------------------------------------    |\n",
            "| KNN                      | 0.89676198    |               precision    recall  f1-score   support |\n",
            "|                          |               |                                                       |\n",
            "|                          |               |           -1       0.00      0.00      0.00       360 |\n",
            "|                          |               |            0       0.90      1.00      0.95      4265 |\n",
            "|                          |               |            1       0.00      0.00      0.00       131 |\n",
            "|                          |               |                                                       |\n",
            "|                          |               |     accuracy                           0.90      4756 |\n",
            "|                          |               |    macro avg       0.30      0.33      0.32      4756 |\n",
            "|                          |               | weighted avg       0.80      0.90      0.85      4756 |\n",
            "|                          |               |                                                       |\n",
            "| ------------------------ | ------------- | --------------------------------------------------    |\n",
            "| SVC                      | 0.89676198    |               precision    recall  f1-score   support |\n",
            "|                          |               |                                                       |\n",
            "|                          |               |           -1       0.00      0.00      0.00       360 |\n",
            "|                          |               |            0       0.90      1.00      0.95      4265 |\n",
            "|                          |               |            1       0.00      0.00      0.00       131 |\n",
            "|                          |               |                                                       |\n",
            "|                          |               |     accuracy                           0.90      4756 |\n",
            "|                          |               |    macro avg       0.30      0.33      0.32      4756 |\n",
            "|                          |               | weighted avg       0.80      0.90      0.85      4756 |\n",
            "|                          |               |                                                       |\n",
            "| ------------------------ | ------------- | --------------------------------------------------    |\n",
            "| NB                       | 0.89676198    |               precision    recall  f1-score   support |\n",
            "|                          |               |                                                       |\n",
            "|                          |               |           -1       0.00      0.00      0.00       360 |\n",
            "|                          |               |            0       0.90      1.00      0.95      4265 |\n",
            "|                          |               |            1       0.00      0.00      0.00       131 |\n",
            "|                          |               |                                                       |\n",
            "|                          |               |     accuracy                           0.90      4756 |\n",
            "|                          |               |    macro avg       0.30      0.33      0.32      4756 |\n",
            "|                          |               | weighted avg       0.80      0.90      0.85      4756 |\n",
            "|                          |               |                                                       |\n",
            "| ------------------------ | ------------- | --------------------------------------------------    |\n",
            "| xgb_clf                  | 0.89676198    |               precision    recall  f1-score   support |\n",
            "|                          |               |                                                       |\n",
            "|                          |               |           -1       0.00      0.00      0.00       360 |\n",
            "|                          |               |            0       0.90      1.00      0.95      4265 |\n",
            "|                          |               |            1       0.00      0.00      0.00       131 |\n",
            "|                          |               |                                                       |\n",
            "|                          |               |     accuracy                           0.90      4756 |\n",
            "|                          |               |    macro avg       0.30      0.33      0.32      4756 |\n",
            "|                          |               | weighted avg       0.80      0.90      0.85      4756 |\n",
            "|                          |               |                                                       |\n",
            "| ------------------------ | ------------- | --------------------------------------------------    |\n",
            "+--------------------------+---------------+-------------------------------------------------------+\n"
          ],
          "name": "stdout"
        }
      ]
    },
    {
      "cell_type": "markdown",
      "metadata": {
        "id": "E_xjghGI5b30",
        "colab_type": "text"
      },
      "source": [
        "After this when we test with any headline text , the answer returned will be between 0 and 1 where:\n",
        " 0 = True\n",
        " 1 = Fake"
      ]
    },
    {
      "cell_type": "code",
      "metadata": {
        "id": "i85kh6iP5EyG",
        "colab_type": "code",
        "colab": {
          "base_uri": "https://localhost:8080/",
          "height": 34
        },
        "outputId": "17b52308-514c-4af6-eb4b-40a9fc4beb3e"
      },
      "source": [
        "def CMPE257FINAL_getOpinionMiningScore(text):  \n",
        "    binaryValue, probValue = OpinionMiningObj.predict(text)\n",
        "    return (float(probValue))\n",
        "\n",
        "print(CMPE257FINAL_getOpinionMiningScore(\"Says the Annies List political group supports third-trimester abortions on demand.\"))"
      ],
      "execution_count": 226,
      "outputs": [
        {
          "output_type": "stream",
          "text": [
            "0.8971388145116126\n"
          ],
          "name": "stdout"
        }
      ]
    },
    {
      "cell_type": "markdown",
      "metadata": {
        "id": "YRscjZ9BnT9q",
        "colab_type": "text"
      },
      "source": [
        "old code"
      ]
    },
    {
      "cell_type": "markdown",
      "metadata": {
        "colab_type": "text",
        "id": "PxJMi7uw_AJZ"
      },
      "source": [
        "\n",
        "### TF-IDF and Cosine Similarity\n",
        "#### TF-IDF\n",
        "\n",
        "TF-IDF (Term Frequency - Inverse Document Frequency) can be represented tf(d,t) X idf(t). TF-IDF uses the method diminishing the weight (importance) of words appeared in many documents in common, considered them incapable of discerning the documents, rather than simply counting the frequency of words as CountVectorizer does. The outcome matrix consists of each document (row) and each word (column) and the importance (weight) computed by tf * idf (values of the matrix)\n",
        "\n"
      ]
    },
    {
      "cell_type": "markdown",
      "metadata": {
        "id": "UjW51o89q-8-",
        "colab_type": "text"
      },
      "source": [
        "## FINAL COMBINED MODEL"
      ]
    },
    {
      "cell_type": "code",
      "metadata": {
        "id": "dKfRDD0iq9iN",
        "colab_type": "code",
        "outputId": "c182bbaa-64c6-44d7-8b0e-faf259a4684d",
        "colab": {
          "base_uri": "https://localhost:8080/",
          "height": 34
        }
      },
      "source": [
        "import warnings\n",
        "warnings.filterwarnings('ignore')\n",
        "\n",
        "def isFakeNews(text, headline=\"\", numAuthors = 0, source = \"\"):\n",
        "    accur = [0.1, 0.90] # using the (normalized) accuracy as weigths\n",
        "    w = [float(i)/sum(accur) for i in accur]\n",
        "    sumW = 0\n",
        "    prob = []    \n",
        "    if (headline != \"\"):\n",
        "        prob.append(w[0] * CMPE257_getLDATopicModellingScore(headline))\n",
        "        sumW += w[1]\n",
        "    if (headline != \"\"):\n",
        "        prob.append(w[1] * CMPE257FINAL_getOpinionMiningScore(headline))\n",
        "        sumW += w[1]\n",
        "     \n",
        "    probTotal = sum(prob[0:len(prob)]) / sumW\n",
        "    return probTotal\n",
        "    \n",
        "result = isFakeNews(\"The bombshell report that implicates more than 20 college programs\",\"Seton Halls plan to prove innocence in FBI corruption probe\", 0, \"New York Post\")\n",
        "\n",
        "if result > 0.5:\n",
        "    print(\"This news is FAKE !!!\")\n",
        "else:\n",
        "    print(\"This is not a FAKE news.!!!\")"
      ],
      "execution_count": 234,
      "outputs": [
        {
          "output_type": "stream",
          "text": [
            "This is not a FAKE news.!!!\n"
          ],
          "name": "stdout"
        }
      ]
    }
  ]
}